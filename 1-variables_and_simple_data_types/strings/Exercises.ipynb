{
 "cells": [
  {
   "cell_type": "markdown",
   "id": "0402771e",
   "metadata": {},
   "source": [
    "# Execises"
   ]
  },
  {
   "cell_type": "markdown",
   "id": "5fcbbcf4",
   "metadata": {},
   "source": [
    "##### 1. Personal Message: Use a variable to represent a person’s name, and print a message to that person. Your message should be simple, such as, “Hello Eric, would you like to learn some Python today?”"
   ]
  },
  {
   "cell_type": "code",
   "execution_count": 1,
   "id": "12f46460",
   "metadata": {},
   "outputs": [
    {
     "name": "stdout",
     "output_type": "stream",
     "text": [
      "Hello Fabricio, would you like to learn some Python today?\n"
     ]
    }
   ],
   "source": [
    "name = 'Fabricio'\n",
    "print(f\"Hello {name}, would you like to learn some Python today?\")"
   ]
  },
  {
   "cell_type": "markdown",
   "id": "32baab3e",
   "metadata": {},
   "source": [
    "##### 2. Name Cases: Use a variable to represent a person’s name, and then print that person’s name in lowercase, uppercase, and title case."
   ]
  },
  {
   "cell_type": "code",
   "execution_count": 3,
   "id": "8f02077b",
   "metadata": {},
   "outputs": [
    {
     "name": "stdout",
     "output_type": "stream",
     "text": [
      "fabricio\n",
      "FABRICIO\n",
      "Fabricio\n"
     ]
    }
   ],
   "source": [
    "name = 'Fabricio'\n",
    "print(name.lower())\n",
    "print(name.upper())\n",
    "print(name.title())"
   ]
  },
  {
   "cell_type": "markdown",
   "id": "986df755",
   "metadata": {},
   "source": [
    "##### 3. Famous Quote: Find a quote from a famous person you admire. Print the quote and the name of its author. Your output should look something like the following, including the quotation marks: Albert Einstein once said, “A person who never made a mistake never tried anything new.”"
   ]
  },
  {
   "cell_type": "code",
   "execution_count": 4,
   "id": "a892d67c",
   "metadata": {},
   "outputs": [
    {
     "name": "stdout",
     "output_type": "stream",
     "text": [
      "Martin Luther King once said, \"Our lives begin to end the day we become silent about things that matter.\"\n"
     ]
    }
   ],
   "source": [
    "print('Martin Luther King once said, \"Our lives begin to end the day we become silent about things that matter.\"')"
   ]
  },
  {
   "cell_type": "markdown",
   "id": "2795e4ab",
   "metadata": {},
   "source": [
    "##### 4. Famous Quote 2: Repeat Exercise 3, but this time, represent the famous person’s name using a variable called famous_person. Then compose your message and represent it with a new variable called message. Print your message."
   ]
  },
  {
   "cell_type": "code",
   "execution_count": 5,
   "id": "3dad2741",
   "metadata": {},
   "outputs": [
    {
     "name": "stdout",
     "output_type": "stream",
     "text": [
      "Martin Luther King once said, \"Our lives begin to end the day we become silent about things that matter.\"\n"
     ]
    }
   ],
   "source": [
    "famous_person = 'Martin Luther King'\n",
    "message = f'{famous_person} once said, \"Our lives begin to end the day we become silent about things that matter.\"'\n",
    "print(message)"
   ]
  },
  {
   "cell_type": "markdown",
   "id": "b389ff53",
   "metadata": {},
   "source": [
    "##### 5. Stripping Names: Use a variable to represent a person’s name, and include some whitespace characters at the beginning and end of the name. Make sure you use each character combination, \"\\t\" and \"\\n\", at least once. Print the name once, so the whitespace around the name is displayed. Then print the name using each of the three stripping functions, lstrip(), rstrip(), and strip()."
   ]
  },
  {
   "cell_type": "code",
   "execution_count": 6,
   "id": "103d000a",
   "metadata": {},
   "outputs": [
    {
     "name": "stdout",
     "output_type": "stream",
     "text": [
      "\n",
      "\tFabricio \n",
      "\n",
      "\tFabricio\n",
      "Fabricio \n",
      "Fabricio\n"
     ]
    }
   ],
   "source": [
    "name = '\\n\\tFabricio '\n",
    "print(name)\n",
    "print(name.rstrip())\n",
    "print(name.lstrip())\n",
    "print(name.strip())"
   ]
  }
 ],
 "metadata": {
  "kernelspec": {
   "display_name": "Python 3 (ipykernel)",
   "language": "python",
   "name": "python3"
  },
  "language_info": {
   "codemirror_mode": {
    "name": "ipython",
    "version": 3
   },
   "file_extension": ".py",
   "mimetype": "text/x-python",
   "name": "python",
   "nbconvert_exporter": "python",
   "pygments_lexer": "ipython3",
   "version": "3.9.7"
  }
 },
 "nbformat": 4,
 "nbformat_minor": 5
}
