{
 "cells": [
  {
   "cell_type": "markdown",
   "id": "fa3c7f7b",
   "metadata": {},
   "source": [
    "# **List**"
   ]
  },
  {
   "cell_type": "markdown",
   "id": "c1ef5d5e",
   "metadata": {},
   "source": [
    "### A list is a collection of items in a particular order."
   ]
  },
  {
   "cell_type": "markdown",
   "id": "0065d67f",
   "metadata": {},
   "source": [
    "In Python, square brackets ([]) indicate a list, and individual elements\n",
    "in the list are separated by commas."
   ]
  },
  {
   "cell_type": "code",
   "execution_count": 1,
   "id": "3f654e16",
   "metadata": {},
   "outputs": [
    {
     "name": "stdout",
     "output_type": "stream",
     "text": [
      "['trek', 'cannondale', 'redline', 'specialized']\n"
     ]
    }
   ],
   "source": [
    "bicycles = ['trek', 'cannondale', 'redline', 'specialized']\n",
    "print(bicycles)"
   ]
  },
  {
   "cell_type": "markdown",
   "id": "b90cdfa8",
   "metadata": {},
   "source": [
    "## **Accessing Elements in a List**"
   ]
  },
  {
   "cell_type": "markdown",
   "id": "853a69d5",
   "metadata": {},
   "source": [
    "To access an element in a list, write the name of the list followed by the index of the item\n",
    "enclosed in square brackets."
   ]
  },
  {
   "cell_type": "code",
   "execution_count": 2,
   "id": "be782102",
   "metadata": {},
   "outputs": [
    {
     "name": "stdout",
     "output_type": "stream",
     "text": [
      "trek\n"
     ]
    }
   ],
   "source": [
    "print(bicycles[0])"
   ]
  },
  {
   "cell_type": "markdown",
   "id": "24faa97c",
   "metadata": {},
   "source": [
    "You can also use the string methods on any element in this list.\n",
    "\n",
    "For example, you can format the element 'trek' more neatly by\n",
    "using the title() method:"
   ]
  },
  {
   "cell_type": "code",
   "execution_count": 3,
   "id": "9f56d36c",
   "metadata": {},
   "outputs": [
    {
     "name": "stdout",
     "output_type": "stream",
     "text": [
      "Trek\n"
     ]
    }
   ],
   "source": [
    "print(bicycles[0].title())"
   ]
  }
 ],
 "metadata": {
  "kernelspec": {
   "display_name": "Python 3 (ipykernel)",
   "language": "python",
   "name": "python3"
  },
  "language_info": {
   "codemirror_mode": {
    "name": "ipython",
    "version": 3
   },
   "file_extension": ".py",
   "mimetype": "text/x-python",
   "name": "python",
   "nbconvert_exporter": "python",
   "pygments_lexer": "ipython3",
   "version": "3.9.7"
  }
 },
 "nbformat": 4,
 "nbformat_minor": 5
}
