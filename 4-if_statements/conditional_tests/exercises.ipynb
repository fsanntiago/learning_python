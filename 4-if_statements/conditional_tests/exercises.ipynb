{
 "cells": [
  {
   "cell_type": "markdown",
   "metadata": {},
   "source": [
    "# **Exercises**"
   ]
  },
  {
   "cell_type": "markdown",
   "metadata": {},
   "source": [
    "**5-1. Conditional Tests:** Write a series of conditional tests. Print a statement\n",
    "describing each test and your prediction for the results of each test. Your code\n",
    "should look something like this:\n",
    "________________________________________________\n",
    "car = 'subaru'\n",
    "\n",
    "print(\"Is car == 'subaru'? I predict True.\")\n",
    "\n",
    "print(car == 'subaru')\n",
    "\n",
    "print(\"\\nIs car == 'audi'? I predict False.\")\n",
    "\n",
    "print(car == 'audi')\n",
    "________________________________________________\n",
    "•\t Look closely at your results, and make sure you understand why each line\n",
    "evaluates to ***True*** or ***False***.\n",
    "\n",
    "•\t Create at least ten tests. Have at least five tests evaluate to ***True*** and\n",
    "another five tests evaluate to ***False***."
   ]
  },
  {
   "cell_type": "code",
   "execution_count": 7,
   "metadata": {},
   "outputs": [
    {
     "name": "stdout",
     "output_type": "stream",
     "text": [
      "favorite_food == 'hamburguer'? I predict True.\n",
      "True\n",
      "favorite_food == 'pizza? I predict False.\n",
      "False\n",
      "\n",
      "my_phone == 'iphone'? I predict True.\n",
      "True\n",
      "my_phone == 'galaxy'? I predict False.\n",
      "False\n",
      "\n",
      "game == 'call of duty'? I predict True.\n",
      "True\n",
      "game == 'fifa'? I predict False.\n",
      "False\n",
      "\n",
      "sport == 'football'? I predict True.\n",
      "True\n",
      "sport == 'basketball'? I predict False.\n",
      "False\n",
      "\n",
      "team == 'barcelona'? I predict True.\n",
      "True\n",
      "team == 'milan'? I predict False.\n",
      "False\n"
     ]
    }
   ],
   "source": [
    "favorite_food = 'hamburguer'\n",
    "print(\"favorite_food == 'hamburguer'? I predict True.\")\n",
    "print(favorite_food == 'hamburguer')\n",
    "print(\"favorite_food == 'pizza? I predict False.\")\n",
    "print(favorite_food == 'pizza')\n",
    "\n",
    "my_phone = 'iphone'\n",
    "print(\"\\nmy_phone == 'iphone'? I predict True.\")\n",
    "print(my_phone == 'iphone')\n",
    "print(\"my_phone == 'galaxy'? I predict False.\")\n",
    "print(my_phone == 'galaxy')\n",
    "\n",
    "game = 'call of duty'\n",
    "print(\"\\ngame == 'call of duty'? I predict True.\")\n",
    "print(game == 'call of duty')\n",
    "print(\"game == 'fifa'? I predict False.\")\n",
    "print(game == 'fifa')\n",
    "\n",
    "sport = 'football'\n",
    "print(\"\\nsport == 'football'? I predict True.\")\n",
    "print(sport == 'football')\n",
    "print(\"sport == 'basketball'? I predict False.\")\n",
    "print(sport == 'basketball')\n",
    "\n",
    "team = 'barcelona'\n",
    "print(\"\\nteam == 'barcelona'? I predict True.\")\n",
    "print(team == 'barcelona')\n",
    "print(\"team == 'milan'? I predict False.\")\n",
    "print(team == 'milan')\n"
   ]
  }
 ],
 "metadata": {
  "interpreter": {
   "hash": "80b5c448b6c54f42cbde9efcf794ae5aae1a20013a4d14c4ccd320984fa5c15d"
  },
  "kernelspec": {
   "display_name": "Python 3.9.7 64-bit ('base': conda)",
   "language": "python",
   "name": "python3"
  },
  "language_info": {
   "codemirror_mode": {
    "name": "ipython",
    "version": 3
   },
   "file_extension": ".py",
   "mimetype": "text/x-python",
   "name": "python",
   "nbconvert_exporter": "python",
   "pygments_lexer": "ipython3",
   "version": "3.9.7"
  },
  "orig_nbformat": 4
 },
 "nbformat": 4,
 "nbformat_minor": 2
}
