{
 "cells": [
  {
   "cell_type": "markdown",
   "metadata": {},
   "source": [
    "# **if Statements**"
   ]
  },
  {
   "cell_type": "markdown",
   "metadata": {},
   "source": [
    "### **Simple if Statements**"
   ]
  },
  {
   "cell_type": "markdown",
   "metadata": {},
   "source": [
    "The simplest kind of if statement has one test and one action:"
   ]
  },
  {
   "cell_type": "markdown",
   "metadata": {},
   "source": [
    "if conditional_test:\n",
    "\n",
    "do something"
   ]
  },
  {
   "cell_type": "markdown",
   "metadata": {},
   "source": [
    "Let’s say we have a variable representing a person’s age, and we want to\n",
    "know if that person is old enough to vote. The following code tests whether\n",
    "the person can vote:"
   ]
  },
  {
   "cell_type": "code",
   "execution_count": 1,
   "metadata": {},
   "outputs": [
    {
     "name": "stdout",
     "output_type": "stream",
     "text": [
      "You are old enough to vote!\n"
     ]
    }
   ],
   "source": [
    "age = 19\n",
    "if age >= 18:\n",
    "    print(\"You are old enough to vote!\")"
   ]
  },
  {
   "cell_type": "markdown",
   "metadata": {},
   "source": [
    "Indentation plays the same role in if statements as it did in for loops.\n",
    "All indented lines after an if statement will be executed if the test passes,\n",
    "and the entire block of indented lines will be ignored if the test does\n",
    "not pass.\n",
    "\n",
    "You can have as many lines of code as you want in the block following the if statement. Let’s add another line of output if the person is old\n",
    "enough to vote, asking if the individual has registered to vote yet:"
   ]
  },
  {
   "cell_type": "code",
   "execution_count": 4,
   "metadata": {},
   "outputs": [
    {
     "name": "stdout",
     "output_type": "stream",
     "text": [
      "You are old enough to vote!\n",
      "Have you registered to vote yet?\n"
     ]
    }
   ],
   "source": [
    "age = 19\n",
    "if age >= 18:\n",
    "    print(\"You are old enough to vote!\")\n",
    "    print(\"Have you registered to vote yet?\")"
   ]
  },
  {
   "cell_type": "markdown",
   "metadata": {},
   "source": [
    "If the value of age is less than 18, this program would produce no\n",
    "output."
   ]
  },
  {
   "cell_type": "markdown",
   "metadata": {},
   "source": [
    "### **if-else Statements**"
   ]
  },
  {
   "cell_type": "markdown",
   "metadata": {},
   "source": [
    "Often, you’ll want to take one action when a conditional test passes and a different action in all other cases. Python’s ***if-else*** syntax makes this possible.\n",
    "An ***if-else*** block is similar to a simple if statement, but the ***else*** statement\n",
    "allows you to define an action or set of actions that are executed when the\n",
    "conditional test fails."
   ]
  },
  {
   "cell_type": "markdown",
   "metadata": {},
   "source": [
    "We’ll display the same message we had previously if the person is old\n",
    "enough to vote, but this time we’ll add a message for anyone who is not\n",
    "old enough to vote:"
   ]
  },
  {
   "cell_type": "code",
   "execution_count": 6,
   "metadata": {},
   "outputs": [
    {
     "name": "stdout",
     "output_type": "stream",
     "text": [
      "Sorry, you are too young to vote.\n",
      "Please register to vote as soon as you turn 18!\n"
     ]
    }
   ],
   "source": [
    "age = 17\n",
    "if age >= 18:\n",
    "    print(\"You are old enough to vote!\")\n",
    "    print(\"Have you registered to vote yet?\")\n",
    "else:\n",
    "    print(\"Sorry, you are too young to vote.\")\n",
    "    print(\"Please register to vote as soon as you turn 18!\")"
   ]
  },
  {
   "cell_type": "markdown",
   "metadata": {},
   "source": [
    "This code works because it has only two possible situations to evaluate:\n",
    "a person is either old enough to vote or not old enough to vote. The if-else\n",
    "structure works well in situations in which you want Python to always execute\n",
    "one of two possible actions. In a simple if-else chain like this, one of the two\n",
    "actions will always be executed."
   ]
  },
  {
   "cell_type": "markdown",
   "metadata": {},
   "source": [
    "### **The *if-elif-else* Chain**"
   ]
  },
  {
   "cell_type": "markdown",
   "metadata": {},
   "source": [
    "Often, you’ll need to test more than two possible situations, and to evaluate\n",
    "these you can use Python’s ***if-elif-else*** syntax. Python executes only one\n",
    "block in an ***if-elif-else*** chain. It runs each conditional test in order until\n",
    "one passes. When a test passes, the code following that test is executed and\n",
    "Python skips the rest of the tests."
   ]
  },
  {
   "cell_type": "markdown",
   "metadata": {},
   "source": [
    "Many real-world situations involve more than two possible conditions.\n",
    "For example, consider an amusement park that charges different rates for\n",
    "different age groups:\n",
    "\n",
    "•\t Admission for anyone under age 4 is free.\n",
    "\n",
    "•\t Admission for anyone between the ages of 4 and 18 is $25.\n",
    "\n",
    "•\t Admission for anyone age 18 or older is $40.\n",
    "\n",
    "How can we use an if statement to determine a person’s admission rate?\n",
    "The following code tests for the age group of a person and then prints an\n",
    "admission price message:"
   ]
  },
  {
   "cell_type": "code",
   "execution_count": 8,
   "metadata": {},
   "outputs": [
    {
     "name": "stdout",
     "output_type": "stream",
     "text": [
      "Your admission cost is $25.\n"
     ]
    }
   ],
   "source": [
    "age = 17\n",
    "\n",
    "if age < 4:\n",
    "    print(\"Your admission cost is $0.\")\n",
    "elif age < 18:\n",
    "    print(\"Your admission cost is $25.\")\n",
    "else:\n",
    "    print(\"Your admission cost is $40.\")"
   ]
  },
  {
   "cell_type": "markdown",
   "metadata": {},
   "source": [
    "Any age greater than 17 would cause the first two tests to fail. In these\n",
    "situations, the else block would be executed and the admission price would\n",
    "be $40."
   ]
  },
  {
   "cell_type": "markdown",
   "metadata": {},
   "source": [
    "Rather than printing the admission price within the if-elif-else block,\n",
    "it would be more concise to set just the price inside the if-elif-else chain\n",
    "and then have a simple print() call that runs after the chain has been\n",
    "evaluated:\n"
   ]
  },
  {
   "cell_type": "code",
   "execution_count": 11,
   "metadata": {},
   "outputs": [
    {
     "name": "stdout",
     "output_type": "stream",
     "text": [
      "Your admissions cost is $25.\n"
     ]
    }
   ],
   "source": [
    "age = 17\n",
    "\n",
    "if age < 4:\n",
    "    price = 0\n",
    "elif age < 18:\n",
    "    price = 25\n",
    "else:\n",
    "    price = 40\n",
    "\n",
    "print(f\"Your admissions cost is ${price}.\")"
   ]
  },
  {
   "cell_type": "markdown",
   "metadata": {},
   "source": [
    "### **Using Multiple *elif* Blocks**"
   ]
  },
  {
   "cell_type": "markdown",
   "metadata": {},
   "source": [
    "You can use as many elif blocks in your code as you like. For example, if the\n",
    "amusement park were to implement a discount for seniors, you could add\n",
    "one more conditional test to the code to determine whether someone qualified for the senior discount. Let’s say that anyone 65 or older pays half the\n",
    "regular admission, or $20:"
   ]
  },
  {
   "cell_type": "code",
   "execution_count": 13,
   "metadata": {},
   "outputs": [
    {
     "name": "stdout",
     "output_type": "stream",
     "text": [
      "Your admission cost is $25.\n"
     ]
    }
   ],
   "source": [
    "age = 12\n",
    "\n",
    "if age < 4:\n",
    "    price = 0\n",
    "elif age < 18:\n",
    "    price = 25\n",
    "elif age < 65:\n",
    "    price = 40\n",
    "else:\n",
    "    price = 20\n",
    "\n",
    "print(f\"Your admission cost is ${price}.\")"
   ]
  },
  {
   "cell_type": "markdown",
   "metadata": {},
   "source": [
    "### **Omitting the else Block**"
   ]
  },
  {
   "cell_type": "markdown",
   "metadata": {},
   "source": [
    "Python does not require an else block at the end of an if-elif chain. Sometimes an else block is useful; sometimes it is clearer to use an additional\n",
    "elif statement that catches the specific condition of interest:"
   ]
  },
  {
   "cell_type": "code",
   "execution_count": 3,
   "metadata": {},
   "outputs": [
    {
     "name": "stdout",
     "output_type": "stream",
     "text": [
      "You admission cost is $25\n"
     ]
    }
   ],
   "source": [
    "age = 12\n",
    "if age < 4:\n",
    "    price = 0\n",
    "elif age < 18:\n",
    "    price = 25\n",
    "elif age < 65:\n",
    "    price = 40    \n",
    "elif age >= 65:\n",
    "    price = 20\n",
    "\n",
    "print(f\"You admission cost is ${price}\")"
   ]
  },
  {
   "cell_type": "markdown",
   "metadata": {},
   "source": [
    "The else block is a catchall statement. It matches any condition that\n",
    "wasn’t matched by a specific if or elif test, and that can sometimes include\n",
    "invalid or even malicious data. If you have a specific final condition you are\n",
    "testing for, consider using a final elif block and omit the else block. As a\n",
    "result, you’ll gain extra confidence that your code will run only under the\n",
    "correct conditions."
   ]
  },
  {
   "cell_type": "markdown",
   "metadata": {},
   "source": [
    "### **Testing Multiple Conditons**"
   ]
  },
  {
   "cell_type": "markdown",
   "metadata": {},
   "source": [
    "However, sometimes it’s important to check all of the conditions of\n",
    "interest. In this case, you should use a series of simple if statements with no\n",
    "elif or else blocks. This technique makes sense when more than one condition could be True, and you want to act on every condition that is True.\n",
    "\n",
    "Let’s reconsider the pizzeria example. If someone requests a two-topping\n",
    "pizza, you’ll need to be sure to include both toppings on their pizza:"
   ]
  },
  {
   "cell_type": "code",
   "execution_count": 5,
   "metadata": {},
   "outputs": [
    {
     "name": "stdout",
     "output_type": "stream",
     "text": [
      "Adding mushrooms.\n",
      "Adding extra cheese.\n",
      "\n",
      "Finished making your pizza!\n"
     ]
    }
   ],
   "source": [
    "requested_toppings = ['mushrooms', 'extra cheese']\n",
    "\n",
    "if 'mushrooms' in requested_toppings:\n",
    "    print(\"Adding mushrooms.\")\n",
    "if 'pepperoni' in requested_toppings:\n",
    "    print(\"Adding pepperoni.\")\n",
    "if 'extra cheese' in requested_toppings:\n",
    "    print(\"Adding extra cheese.\")\n",
    "\n",
    "print(\"\\nFinished making your pizza!\")"
   ]
  },
  {
   "cell_type": "markdown",
   "metadata": {},
   "source": [
    "This code would not work properly if we used an if-elif-else block,\n",
    "because the code would stop running after only one test passes."
   ]
  },
  {
   "cell_type": "markdown",
   "metadata": {},
   "source": [
    "In summary, if you want only one block of code to run, use an if-elifelse chain. If more than one block of code needs to run, use a series of\n",
    "independent if statements."
   ]
  }
 ],
 "metadata": {
  "interpreter": {
   "hash": "80b5c448b6c54f42cbde9efcf794ae5aae1a20013a4d14c4ccd320984fa5c15d"
  },
  "kernelspec": {
   "display_name": "Python 3.9.7 64-bit ('base': conda)",
   "language": "python",
   "name": "python3"
  },
  "language_info": {
   "codemirror_mode": {
    "name": "ipython",
    "version": 3
   },
   "file_extension": ".py",
   "mimetype": "text/x-python",
   "name": "python",
   "nbconvert_exporter": "python",
   "pygments_lexer": "ipython3",
   "version": "3.9.7"
  },
  "orig_nbformat": 4
 },
 "nbformat": 4,
 "nbformat_minor": 2
}
