{
 "cells": [
  {
   "cell_type": "markdown",
   "id": "2cc14f9e",
   "metadata": {},
   "source": [
    "# Strings"
   ]
  },
  {
   "cell_type": "markdown",
   "id": "7d30e70e",
   "metadata": {},
   "source": [
    "### Changing Case in a String with Methods"
   ]
  },
  {
   "cell_type": "code",
   "execution_count": 5,
   "id": "252e4170",
   "metadata": {},
   "outputs": [
    {
     "name": "stdout",
     "output_type": "stream",
     "text": [
      "Ada Lovelace\n"
     ]
    }
   ],
   "source": [
    "name = \"ada lovelace\"\n",
    "print(name.title())  # method changes each word to title case, where each word begins with capital letter"
   ]
  },
  {
   "cell_type": "code",
   "execution_count": 6,
   "id": "604eac23",
   "metadata": {},
   "outputs": [
    {
     "name": "stdout",
     "output_type": "stream",
     "text": [
      "ADA LOVELACE\n",
      "ada lovelace\n"
     ]
    }
   ],
   "source": [
    "name = \"Ada Lovelace\"\n",
    "print(name.upper()) # upper case\n",
    "print(name.lower()) # lower case"
   ]
  },
  {
   "cell_type": "markdown",
   "id": "c5b29b97",
   "metadata": {},
   "source": [
    "### Using variables in strings"
   ]
  },
  {
   "cell_type": "code",
   "execution_count": 7,
   "id": "572084ea",
   "metadata": {},
   "outputs": [
    {
     "name": "stdout",
     "output_type": "stream",
     "text": [
      "Hello, Ada Lovelace!\n",
      "Hello, Ada Lovelace!\n"
     ]
    }
   ],
   "source": [
    "first_name = \"ada\"\n",
    "last_name = \"lovelace\"\n",
    "full_name = f\"{first_name} {last_name}\"\n",
    "print(f\"Hello, {full_name.title()}!\")\n",
    "\n",
    "message = f\"Hello, {full_name.title()}!\"\n",
    "print(message)"
   ]
  },
  {
   "cell_type": "markdown",
   "id": "fffff89e",
   "metadata": {},
   "source": [
    "These strings are called f-strings. The f is for format, because Python\n",
    "formats the string by replacing the name of any variable in braces with its\n",
    "value.\n",
    "\n",
    "F-strings were first introduced in Python 3.6"
   ]
  },
  {
   "cell_type": "markdown",
   "id": "04001a43",
   "metadata": {},
   "source": [
    "If you’re using Python 3.5 or earlier,\n",
    "you’ll need to use the format() method rather than this f syntax"
   ]
  },
  {
   "cell_type": "code",
   "execution_count": 8,
   "id": "03aed34c",
   "metadata": {},
   "outputs": [],
   "source": [
    "full_name = \"{} {}\".format(first_name, last_name)\n"
   ]
  },
  {
   "cell_type": "markdown",
   "id": "2463cc92",
   "metadata": {},
   "source": [
    "### Adding whitespace to string with tabs or newlines"
   ]
  },
  {
   "cell_type": "code",
   "execution_count": 9,
   "id": "7070554b",
   "metadata": {},
   "outputs": [
    {
     "name": "stdout",
     "output_type": "stream",
     "text": [
      "Python\n",
      "\tPython\n"
     ]
    }
   ],
   "source": [
    "print(\"Python\")\n",
    "print(\"\\tPython\")  # add a tab \"\\t\" to text"
   ]
  },
  {
   "cell_type": "code",
   "execution_count": 11,
   "id": "8333f084",
   "metadata": {},
   "outputs": [
    {
     "name": "stdout",
     "output_type": "stream",
     "text": [
      "Languages:\n",
      "Python\n",
      "C\n",
      "JavaScript\n"
     ]
    }
   ],
   "source": [
    "print(\"Languages:\\nPython\\nC\\nJavaScript\")  # add a newline in a string \"\\n\""
   ]
  },
  {
   "cell_type": "code",
   "execution_count": 12,
   "id": "6df91962",
   "metadata": {},
   "outputs": [
    {
     "name": "stdout",
     "output_type": "stream",
     "text": [
      "Languages:\n",
      "\tPython\n",
      "\tC\n",
      "\tJavaScript\n"
     ]
    }
   ],
   "source": [
    "print(\"Languages:\\n\\tPython\\n\\tC\\n\\tJavaScript\")  # can also combine tabs and newlines in a single string"
   ]
  }
 ],
 "metadata": {
  "kernelspec": {
   "display_name": "Python 3 (ipykernel)",
   "language": "python",
   "name": "python3"
  },
  "language_info": {
   "codemirror_mode": {
    "name": "ipython",
    "version": 3
   },
   "file_extension": ".py",
   "mimetype": "text/x-python",
   "name": "python",
   "nbconvert_exporter": "python",
   "pygments_lexer": "ipython3",
   "version": "3.9.7"
  }
 },
 "nbformat": 4,
 "nbformat_minor": 5
}
