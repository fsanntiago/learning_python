{
 "cells": [
  {
   "cell_type": "markdown",
   "metadata": {},
   "source": [
    "#### 8. Seeing the World: Think of at least five places in the world you’d like to visit.\n",
    "•\t Store the locations in a list. Make sure the list is not in alphabetical order.\n",
    "\n",
    "•\t Print your list in its original order. Don’t worry about printing the list neatly,\n",
    "just print it as a raw Python list.\n",
    "\n",
    "•\t Use sorted() to print your list in alphabetical order without modifying the\n",
    "actual list.\n",
    "\n",
    "•\t Show that your list is still in its original order by printing it.\n",
    "\n",
    "•\t Use sorted() to print your list in reverse alphabetical order without changing the order of the original list.\n",
    "\n",
    "•\t Show that your list is still in its original order by printing it again.\n",
    "\n",
    "•\t Use reverse() to change the order of your list. Print the list to show that its\n",
    "order has changed.\n",
    "\n",
    "•\t Use reverse() to change the order of your list again. Print the list to show\n",
    "it’s back to its original order.\n",
    "\n",
    "•\t Use sort() to change your list so it’s stored in alphabetical order. Print the\n",
    "list to show that its order has been changed.\n",
    "\n",
    "•\t Use sort() to change your list so it’s stored in reverse alphabetical order.\n",
    "Print the list to show that its order has changed."
   ]
  },
  {
   "cell_type": "code",
   "execution_count": 18,
   "metadata": {},
   "outputs": [
    {
     "name": "stdout",
     "output_type": "stream",
     "text": [
      "Original order: \n",
      "['greece', 'spain', 'brazil', 'united states', 'england']\n",
      "\n",
      "Alphabetical: \n",
      "['brazil', 'england', 'greece', 'spain', 'united states']\n",
      "Original order:\n",
      "['greece', 'spain', 'brazil', 'united states', 'england']\n",
      "\n",
      "Reverse alphabetical:\n",
      "['united states', 'spain', 'greece', 'england', 'brazil']\n",
      "Original order:\n",
      "['greece', 'spain', 'brazil', 'united states', 'england']\n",
      "\n",
      "Reversed:\n",
      "['england', 'united states', 'brazil', 'spain', 'greece']\n",
      "\n",
      "Alphabetical: \n",
      "['greece', 'spain', 'brazil', 'united states', 'england']\n",
      "\n",
      "Alphabetical: \n",
      "['brazil', 'england', 'greece', 'spain', 'united states']\n",
      "\n",
      "Reverse alphabetical: \n",
      "['united states', 'spain', 'greece', 'england', 'brazil']\n"
     ]
    }
   ],
   "source": [
    "places = ['greece', 'spain', 'brazil', 'united states', 'england']\n",
    "print(\"Original order: \")\n",
    "print(places)\n",
    "\n",
    "# Sorted\n",
    "print(f\"\\nAlphabetical: \")\n",
    "print(sorted(places))\n",
    "print(\"Original order:\")\n",
    "print(places)\n",
    "\n",
    "# Sorted reverse\n",
    "print(\"\\nReverse alphabetical:\")\n",
    "print(sorted(places, reverse=True))\n",
    "print(\"Original order:\")\n",
    "print(places)\n",
    "\n",
    "# Reverse\n",
    "print(\"\\nReversed:\")\n",
    "places.reverse()\n",
    "print(places)\n",
    "\n",
    "# Reverse to back original list\n",
    "print(\"\\nAlphabetical: \")\n",
    "places.reverse()\n",
    "print(places)\n",
    "\n",
    "# Sort\n",
    "print(\"\\nAlphabetical: \")\n",
    "places.sort()\n",
    "print(places)\n",
    "\n",
    "# Sort reverse\n",
    "print(\"\\nReverse alphabetical: \")\n",
    "places.sort(reverse=True)\n",
    "print(places)"
   ]
  },
  {
   "cell_type": "code",
   "execution_count": null,
   "metadata": {},
   "outputs": [],
   "source": []
  }
 ],
 "metadata": {
  "interpreter": {
   "hash": "80b5c448b6c54f42cbde9efcf794ae5aae1a20013a4d14c4ccd320984fa5c15d"
  },
  "kernelspec": {
   "display_name": "Python 3.9.7 64-bit ('base': conda)",
   "language": "python",
   "name": "python3"
  },
  "language_info": {
   "codemirror_mode": {
    "name": "ipython",
    "version": 3
   },
   "file_extension": ".py",
   "mimetype": "text/x-python",
   "name": "python",
   "nbconvert_exporter": "python",
   "pygments_lexer": "ipython3",
   "version": "3.9.7"
  },
  "orig_nbformat": 4
 },
 "nbformat": 4,
 "nbformat_minor": 2
}
