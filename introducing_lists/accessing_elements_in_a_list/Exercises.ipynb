{
 "cells": [
  {
   "cell_type": "markdown",
   "id": "775f7bef",
   "metadata": {},
   "source": [
    "# Exercises"
   ]
  },
  {
   "cell_type": "markdown",
   "id": "bde9671e",
   "metadata": {},
   "source": [
    "#### 1. Names: Store the names of a few of your friends in a list called names. Print each person’s name by accessing each element in the list, one at a time.\n"
   ]
  },
  {
   "cell_type": "code",
   "execution_count": 2,
   "id": "fc48e9c1",
   "metadata": {},
   "outputs": [
    {
     "name": "stdout",
     "output_type": "stream",
     "text": [
      "Pedro\n",
      "Luis\n",
      "Diego\n"
     ]
    }
   ],
   "source": [
    "names = ['pedro', 'luis', 'diego']\n",
    "\n",
    "print(names[0].title())\n",
    "print(names[1].title())\n",
    "print(names[2].title())"
   ]
  },
  {
   "cell_type": "markdown",
   "id": "f9cf32cf",
   "metadata": {},
   "source": [
    "#### 2. Greetings: Start with the list you used in Exercise 1, but instead of just printing each person’s name, print a message to them. The text of each message should be the same, but each message should be personalized with the person’s name."
   ]
  },
  {
   "cell_type": "code",
   "execution_count": 3,
   "id": "e0241f75",
   "metadata": {},
   "outputs": [
    {
     "name": "stdout",
     "output_type": "stream",
     "text": [
      "Hello, Pedro\n",
      "Hello, Luis\n",
      "Hello, Diego\n"
     ]
    }
   ],
   "source": [
    "print(f\"Hello, {names[0].title()}\")\n",
    "print(f\"Hello, {names[1].title()}\")\n",
    "print(f\"Hello, {names[2].title()}\")"
   ]
  }
 ],
 "metadata": {
  "kernelspec": {
   "display_name": "Python 3 (ipykernel)",
   "language": "python",
   "name": "python3"
  },
  "language_info": {
   "codemirror_mode": {
    "name": "ipython",
    "version": 3
   },
   "file_extension": ".py",
   "mimetype": "text/x-python",
   "name": "python",
   "nbconvert_exporter": "python",
   "pygments_lexer": "ipython3",
   "version": "3.9.7"
  }
 },
 "nbformat": 4,
 "nbformat_minor": 5
}
