{
 "cells": [
  {
   "cell_type": "markdown",
   "id": "66202615",
   "metadata": {},
   "source": [
    "# Exercises"
   ]
  },
  {
   "cell_type": "markdown",
   "id": "8379b4ee",
   "metadata": {},
   "source": [
    "#### 4. Guest List: If you could invite anyone, living or deceased, to dinner, who would you invite? Make a list that includes at least three people you’d like to invite to dinner. Then use your list to print a message to each person, inviting them to dinner"
   ]
  },
  {
   "cell_type": "code",
   "execution_count": 3,
   "id": "9fa0168e",
   "metadata": {},
   "outputs": [
    {
     "name": "stdout",
     "output_type": "stream",
     "text": [
      "Good night Ryan, come to dinner today.\n",
      "Good night Maria, come to dinner today.\n",
      "Good night Peter, come to dinner today.\n"
     ]
    }
   ],
   "source": [
    "guest_list = ['ryan', 'maria', 'peter']\n",
    "\n",
    "print(f\"Good night {guest_list[0].title()}, come to dinner today.\")\n",
    "print(f\"Good night {guest_list[1].title()}, come to dinner today.\")\n",
    "print(f\"Good night {guest_list[2].title()}, come to dinner today.\")"
   ]
  },
  {
   "cell_type": "markdown",
   "id": "4f7ca47d",
   "metadata": {},
   "source": [
    "####  5. Changing Guest List: You just heard that one of your guests can’t make the dinner, so you need to send out a new set of invitations. You’ll have to think of someone else to invite\n",
    "•\t Start with your program from Exercise 3-4. Add a print() call at the end\n",
    "of your program stating the name of the guest who can’t make it.\n",
    "\n",
    "•\t Modify your list, replacing the name of the guest who can’t make it with\n",
    "the name of the new person you are inviting.\n",
    "\n",
    "•\t Print a second set of invitation messages, one for each person who is still\n",
    "in your list."
   ]
  },
  {
   "cell_type": "code",
   "execution_count": 6,
   "id": "48559b67",
   "metadata": {},
   "outputs": [
    {
     "name": "stdout",
     "output_type": "stream",
     "text": [
      "Good night Ryan, come to dinner today.\n",
      "Good night Maria, come to dinner today.\n",
      "Good night Peter, come to dinner today.\n",
      "\n",
      "Sorry Maria, can't make it to dinner.\n",
      "\n",
      "Good night Ryan, come to dinner today.\n",
      "Good night Marta, come to dinner today.\n",
      "Good night Peter, come to dinner today.\n"
     ]
    }
   ],
   "source": [
    "guest_list = ['ryan', 'maria', 'peter']\n",
    "\n",
    "print(f\"Good night {guest_list[0].title()}, come to dinner today.\")\n",
    "print(f\"Good night {guest_list[1].title()}, come to dinner today.\")\n",
    "print(f\"Good night {guest_list[2].title()}, come to dinner today.\")\n",
    "\n",
    "# Maria can't make it! Let's invite Marta instead.\n",
    "print(f\"\\nSorry {guest_list[1].title()}, can't make it to dinner.\")\n",
    "del guest_list[1]\n",
    "guest_list.insert(1, 'marta')\n",
    "\n",
    "#Invite again\n",
    "print(f\"\\nGood night {guest_list[0].title()}, come to dinner today.\")\n",
    "print(f\"Good night {guest_list[1].title()}, come to dinner today.\")\n",
    "print(f\"Good night {guest_list[2].title()}, come to dinner today.\")"
   ]
  },
  {
   "cell_type": "markdown",
   "id": "12475028",
   "metadata": {},
   "source": [
    "#### 6. More Guests: You just found a bigger dinner table, so now more space is available. Think of three more guests to invite to dinner.\n",
    "•\t Start with your program from Exercise 3-4 or Exercise 3-5. Add a print()\n",
    "call to the end of your program informing people that you found a bigger\n",
    "dinner table.\n",
    "\n",
    "•\t Use insert() to add one new guest to the beginning of your list.\n",
    "\n",
    "•\t Use insert() to add one new guest to the middle of your list.\n",
    "\n",
    "•\t Use append() to add one new guest to the end of your list.\n",
    "\n",
    "•\t Print a new set of invitation messages, one for each person in your list."
   ]
  },
  {
   "cell_type": "code",
   "execution_count": 8,
   "id": "6bb70877",
   "metadata": {},
   "outputs": [
    {
     "name": "stdout",
     "output_type": "stream",
     "text": [
      "Good night Ryan, come to dinner today.\n",
      "Good night Maria, come to dinner today.\n",
      "Good night Peter, come to dinner today.\n",
      "\n",
      "Sorry Maria, can't make it to dinner.\n",
      "\n",
      "Good night Ryan, come to dinner today.\n",
      "Good night Marta, come to dinner today.\n",
      "Good night Peter, come to dinner today.\n",
      "\n",
      "I found a bigger dinner table.\n",
      "\n",
      "Good night Fabio, come to dinner today.\n",
      "Good night Ryan, come to dinner today.\n",
      "Good night Gabriel, come to dinner today.\n",
      "Good night Marta, come to dinner today.\n",
      "Good night Peter, come to dinner today.\n",
      "Good night Helena, come to dinner today.\n"
     ]
    }
   ],
   "source": [
    "guest_list = ['ryan', 'maria', 'peter']\n",
    "\n",
    "print(f\"Good night {guest_list[0].title()}, come to dinner today.\")\n",
    "print(f\"Good night {guest_list[1].title()}, come to dinner today.\")\n",
    "print(f\"Good night {guest_list[2].title()}, come to dinner today.\")\n",
    "\n",
    "# Maria can't make it! Let's invite Marta instead.\n",
    "print(f\"\\nSorry {guest_list[1].title()}, can't make it to dinner.\")\n",
    "del guest_list[1]\n",
    "guest_list.insert(1, 'marta')\n",
    "\n",
    "#Invite again\n",
    "print(f\"\\nGood night {guest_list[0].title()}, come to dinner today.\")\n",
    "print(f\"Good night {guest_list[1].title()}, come to dinner today.\")\n",
    "print(f\"Good night {guest_list[2].title()}, come to dinner today.\")\n",
    "\n",
    "#Found a bigger dinner table, so let's add some more people to the list\n",
    "print(\"\\nI found a bigger dinner table.\")\n",
    "guest_list.insert(0, 'fabio')\n",
    "guest_list.insert(2, 'gabriel')\n",
    "guest_list.append('helena')\n",
    "\n",
    "#Invite again\n",
    "print(f\"\\nGood night {guest_list[0].title()}, come to dinner today.\")\n",
    "print(f\"Good night {guest_list[1].title()}, come to dinner today.\")\n",
    "print(f\"Good night {guest_list[2].title()}, come to dinner today.\")\n",
    "print(f\"Good night {guest_list[3].title()}, come to dinner today.\")\n",
    "print(f\"Good night {guest_list[4].title()}, come to dinner today.\")\n",
    "print(f\"Good night {guest_list[5].title()}, come to dinner today.\")\n",
    "\n"
   ]
  }
 ],
 "metadata": {
  "kernelspec": {
   "display_name": "Python 3 (ipykernel)",
   "language": "python",
   "name": "python3"
  },
  "language_info": {
   "codemirror_mode": {
    "name": "ipython",
    "version": 3
   },
   "file_extension": ".py",
   "mimetype": "text/x-python",
   "name": "python",
   "nbconvert_exporter": "python",
   "pygments_lexer": "ipython3",
   "version": "3.9.7"
  }
 },
 "nbformat": 4,
 "nbformat_minor": 5
}
