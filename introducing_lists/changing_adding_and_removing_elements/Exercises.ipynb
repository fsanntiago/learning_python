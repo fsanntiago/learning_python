{
 "cells": [
  {
   "cell_type": "markdown",
   "id": "66202615",
   "metadata": {},
   "source": [
    "# Exercises"
   ]
  },
  {
   "cell_type": "markdown",
   "id": "8379b4ee",
   "metadata": {},
   "source": [
    "#### 4. Guest List: If you could invite anyone, living or deceased, to dinner, who would you invite? Make a list that includes at least three people you’d like to invite to dinner. Then use your list to print a message to each person, inviting them to dinner"
   ]
  },
  {
   "cell_type": "code",
   "execution_count": 1,
   "id": "9fa0168e",
   "metadata": {},
   "outputs": [
    {
     "name": "stdout",
     "output_type": "stream",
     "text": [
      "Good night Ryan, come to dinner today.\n",
      "Good night Maria, come to dinner today.\n",
      "Good night Peter, come to dinner today.\n"
     ]
    }
   ],
   "source": [
    "guest_list = ['ryan', 'maria', 'peter']\n",
    "\n",
    "print(f\"Good night {guest_list[0].title()}, come to dinner today.\")\n",
    "print(f\"Good night {guest_list[1].title()}, come to dinner today.\")\n",
    "print(f\"Good night {guest_list[2].title()}, come to dinner today.\")"
   ]
  },
  {
   "cell_type": "markdown",
   "id": "4f7ca47d",
   "metadata": {},
   "source": [
    "####  5. Changing Guest List: You just heard that one of your guests can’t make the dinner, so you need to send out a new set of invitations. You’ll have to think of someone else to invite\n",
    "•\t Start with your program from Exercise 3-4. Add a print() call at the end\n",
    "of your program stating the name of the guest who can’t make it.\n",
    "\n",
    "•\t Modify your list, replacing the name of the guest who can’t make it with\n",
    "the name of the new person you are inviting.\n",
    "\n",
    "•\t Print a second set of invitation messages, one for each person who is still\n",
    "in your list."
   ]
  },
  {
   "cell_type": "code",
   "execution_count": 2,
   "id": "48559b67",
   "metadata": {},
   "outputs": [
    {
     "name": "stdout",
     "output_type": "stream",
     "text": [
      "Good night Ryan, come to dinner today.\n",
      "Good night Maria, come to dinner today.\n",
      "Good night Peter, come to dinner today.\n",
      "\n",
      "Sorry Maria, can't make it to dinner.\n",
      "\n",
      "Good night Ryan, come to dinner today.\n",
      "Good night Marta, come to dinner today.\n",
      "Good night Peter, come to dinner today.\n"
     ]
    }
   ],
   "source": [
    "guest_list = ['ryan', 'maria', 'peter']\n",
    "\n",
    "print(f\"Good night {guest_list[0].title()}, come to dinner today.\")\n",
    "print(f\"Good night {guest_list[1].title()}, come to dinner today.\")\n",
    "print(f\"Good night {guest_list[2].title()}, come to dinner today.\")\n",
    "\n",
    "# Maria can't make it! Let's invite Marta instead.\n",
    "print(f\"\\nSorry {guest_list[1].title()}, can't make it to dinner.\")\n",
    "del guest_list[1]\n",
    "guest_list.insert(1, 'marta')\n",
    "\n",
    "#Invite again\n",
    "print(f\"\\nGood night {guest_list[0].title()}, come to dinner today.\")\n",
    "print(f\"Good night {guest_list[1].title()}, come to dinner today.\")\n",
    "print(f\"Good night {guest_list[2].title()}, come to dinner today.\")"
   ]
  },
  {
   "cell_type": "markdown",
   "id": "12475028",
   "metadata": {},
   "source": [
    "#### 6. More Guests: You just found a bigger dinner table, so now more space is available. Think of three more guests to invite to dinner.\n",
    "•\t Start with your program from Exercise 3-4 or Exercise 3-5. Add a print()\n",
    "call to the end of your program informing people that you found a bigger\n",
    "dinner table.\n",
    "\n",
    "•\t Use insert() to add one new guest to the beginning of your list.\n",
    "\n",
    "•\t Use insert() to add one new guest to the middle of your list.\n",
    "\n",
    "•\t Use append() to add one new guest to the end of your list.\n",
    "\n",
    "•\t Print a new set of invitation messages, one for each person in your list."
   ]
  },
  {
   "cell_type": "code",
   "execution_count": 3,
   "id": "6bb70877",
   "metadata": {},
   "outputs": [
    {
     "name": "stdout",
     "output_type": "stream",
     "text": [
      "Good night Ryan, come to dinner today.\n",
      "Good night Maria, come to dinner today.\n",
      "Good night Peter, come to dinner today.\n",
      "\n",
      "Sorry Maria, can't make it to dinner.\n",
      "\n",
      "Good night Ryan, come to dinner today.\n",
      "Good night Marta, come to dinner today.\n",
      "Good night Peter, come to dinner today.\n",
      "\n",
      "I found a bigger dinner table.\n",
      "\n",
      "Good night Fabio, come to dinner today.\n",
      "Good night Ryan, come to dinner today.\n",
      "Good night Gabriel, come to dinner today.\n",
      "Good night Marta, come to dinner today.\n",
      "Good night Peter, come to dinner today.\n",
      "Good night Helena, come to dinner today.\n"
     ]
    }
   ],
   "source": [
    "guest_list = ['ryan', 'maria', 'peter']\n",
    "\n",
    "print(f\"Good night {guest_list[0].title()}, come to dinner today.\")\n",
    "print(f\"Good night {guest_list[1].title()}, come to dinner today.\")\n",
    "print(f\"Good night {guest_list[2].title()}, come to dinner today.\")\n",
    "\n",
    "# Maria can't make it! Let's invite Marta instead.\n",
    "print(f\"\\nSorry {guest_list[1].title()}, can't make it to dinner.\")\n",
    "del guest_list[1]\n",
    "guest_list.insert(1, 'marta')\n",
    "\n",
    "#Invite again\n",
    "print(f\"\\nGood night {guest_list[0].title()}, come to dinner today.\")\n",
    "print(f\"Good night {guest_list[1].title()}, come to dinner today.\")\n",
    "print(f\"Good night {guest_list[2].title()}, come to dinner today.\")\n",
    "\n",
    "#Found a bigger dinner table, so let's add some more people to the list\n",
    "print(\"\\nI found a bigger dinner table.\")\n",
    "guest_list.insert(0, 'fabio')\n",
    "guest_list.insert(2, 'gabriel')\n",
    "guest_list.append('helena')\n",
    "\n",
    "#Invite again\n",
    "print(f\"\\nGood night {guest_list[0].title()}, come to dinner today.\")\n",
    "print(f\"Good night {guest_list[1].title()}, come to dinner today.\")\n",
    "print(f\"Good night {guest_list[2].title()}, come to dinner today.\")\n",
    "print(f\"Good night {guest_list[3].title()}, come to dinner today.\")\n",
    "print(f\"Good night {guest_list[4].title()}, come to dinner today.\")\n",
    "print(f\"Good night {guest_list[5].title()}, come to dinner today.\")\n",
    "\n"
   ]
  },
  {
   "cell_type": "markdown",
   "id": "df044f7c",
   "metadata": {},
   "source": [
    "#### 7. Shrinking Guest List: You just found out that your new dinner table won’t arrive in time for the dinner, and you have space for only two guests.\n",
    "•\t Start with your program from Exercise 3-6. Add a new line that prints a\n",
    "message saying that you can invite only two people for dinner.\n",
    "\n",
    "•\t Use pop() to remove guests from your list one at a time until only two\n",
    "names remain in your list. Each time you pop a name from your list, print\n",
    "a message to that person letting them know you’re sorry you can’t invite\n",
    "them to dinner.\n",
    "\n",
    "•\t Print a message to each of the two people still on your list, letting them\n",
    "know they’re still invited.\n",
    "\n",
    "•\t Use del to remove the last two names from your list, so you have an empty\n",
    "list. Print your list to make sure you actually have an empty list at the end\n",
    "of your program."
   ]
  },
  {
   "cell_type": "code",
   "execution_count": 4,
   "id": "28e99170",
   "metadata": {},
   "outputs": [
    {
     "name": "stdout",
     "output_type": "stream",
     "text": [
      "Good night Ryan, come to dinner today.\n",
      "Good night Maria, come to dinner today.\n",
      "Good night Peter, come to dinner today.\n",
      "\n",
      "Sorry Maria, can't make it to dinner.\n",
      "\n",
      "Good night Ryan, come to dinner today.\n",
      "Good night Marta, come to dinner today.\n",
      "Good night Peter, come to dinner today.\n",
      "\n",
      "I found a bigger dinner table.\n",
      "\n",
      "Good night Fabio, come to dinner today.\n",
      "Good night Ryan, come to dinner today.\n",
      "Good night Gabriel, come to dinner today.\n",
      "Good night Marta, come to dinner today.\n",
      "Good night Peter, come to dinner today.\n",
      "Good night Helena, come to dinner today.\n",
      "\n",
      "The new dinner table won't arrive in time, so I can invite only two people, sorry guys.\n",
      "\n",
      "Sorry, Helena there's no room at the table.\n",
      "Sorry, Peter there's no room at the table.\n",
      "Sorry, Marta there's no room at the table.\n",
      "Sorry, Gabriel there's no room at the table.\n",
      "\n",
      "Good night, Fabio come to dinne today. \n",
      "Good night, Ryan come to dinner today.\n",
      "[]\n"
     ]
    }
   ],
   "source": [
    "guest_list = ['ryan', 'maria', 'peter']\n",
    "\n",
    "print(f\"Good night {guest_list[0].title()}, come to dinner today.\")\n",
    "print(f\"Good night {guest_list[1].title()}, come to dinner today.\")\n",
    "print(f\"Good night {guest_list[2].title()}, come to dinner today.\")\n",
    "\n",
    "# Maria can't make it! Let's invite Marta instead.\n",
    "print(f\"\\nSorry {guest_list[1].title()}, can't make it to dinner.\")\n",
    "del guest_list[1]\n",
    "guest_list.insert(1, 'marta')\n",
    "\n",
    "# Invite again\n",
    "print(f\"\\nGood night {guest_list[0].title()}, come to dinner today.\")\n",
    "print(f\"Good night {guest_list[1].title()}, come to dinner today.\")\n",
    "print(f\"Good night {guest_list[2].title()}, come to dinner today.\")\n",
    "\n",
    "# Found a bigger dinner table, so let's add some more people to the list\n",
    "print(\"\\nI found a bigger dinner table.\")\n",
    "guest_list.insert(0, 'fabio')\n",
    "guest_list.insert(2, 'gabriel')\n",
    "guest_list.append('helena')\n",
    "\n",
    "# Invite again\n",
    "print(f\"\\nGood night {guest_list[0].title()}, come to dinner today.\")\n",
    "print(f\"Good night {guest_list[1].title()}, come to dinner today.\")\n",
    "print(f\"Good night {guest_list[2].title()}, come to dinner today.\")\n",
    "print(f\"Good night {guest_list[3].title()}, come to dinner today.\")\n",
    "print(f\"Good night {guest_list[4].title()}, come to dinner today.\")\n",
    "print(f\"Good night {guest_list[5].title()}, come to dinner today.\")\n",
    "\n",
    "# Invite only two people for dinner\n",
    "print(\"\\nThe new dinner table won't arrive in time, so I can invite only two people, sorry guys.\")\n",
    "\n",
    "removed_guest = guest_list.pop()\n",
    "print(f\"\\nSorry, {removed_guest.title()} there's no room at the table.\")\n",
    "removed_guest = guest_list.pop()\n",
    "print(f\"Sorry, {removed_guest.title()} there's no room at the table.\")\n",
    "removed_guest = guest_list.pop()\n",
    "print(f\"Sorry, {removed_guest.title()} there's no room at the table.\")\n",
    "removed_guest = guest_list.pop()\n",
    "print(f\"Sorry, {removed_guest.title()} there's no room at the table.\")\n",
    "\n",
    "# There should be two people left. Let's invite them.\n",
    "print(f\"\\nGood night, {guest_list[0].title()} come to dinne today. \")\n",
    "print(f\"Good night, {guest_list[1].title()} come to dinner today.\")\n",
    "\n",
    "# Empty the list.\n",
    "del guest_list[0]\n",
    "del guest_list[0]\n",
    "\n",
    "# Prove the list is empty.\n",
    "print(guest_list)"
   ]
  }
 ],
 "metadata": {
  "kernelspec": {
   "display_name": "Python 3 (ipykernel)",
   "language": "python",
   "name": "python3"
  },
  "language_info": {
   "codemirror_mode": {
    "name": "ipython",
    "version": 3
   },
   "file_extension": ".py",
   "mimetype": "text/x-python",
   "name": "python",
   "nbconvert_exporter": "python",
   "pygments_lexer": "ipython3",
   "version": "3.9.7"
  }
 },
 "nbformat": 4,
 "nbformat_minor": 5
}
