{
 "cells": [
  {
   "cell_type": "markdown",
   "id": "c59f7588",
   "metadata": {},
   "source": [
    "# Changing, Adding, and Removing Elements\n"
   ]
  },
  {
   "cell_type": "markdown",
   "id": "83725e31",
   "metadata": {},
   "source": [
    "## Modifying Elements in a List"
   ]
  },
  {
   "cell_type": "markdown",
   "id": "2e03c9b5",
   "metadata": {},
   "source": [
    "To change an element, use the name of the list followed\n",
    "by the index of the element you want to change, and then provide the new\n",
    "value you want that item to have."
   ]
  },
  {
   "cell_type": "code",
   "execution_count": 19,
   "id": "7a6a1b8d",
   "metadata": {},
   "outputs": [
    {
     "name": "stdout",
     "output_type": "stream",
     "text": [
      "['honda', 'yamaha', 'suzuki']\n",
      "['ducati', 'yamaha', 'suzuki']\n"
     ]
    }
   ],
   "source": [
    "motorcycles = ['honda', 'yamaha', 'suzuki']\n",
    "print(motorcycles)  # ['honda', 'yamaha', 'suzuki']\n",
    "\n",
    "motorcycles[0] = 'ducati'  # changes the value of the first item to 'ducati'\n",
    "print(motorcycles)"
   ]
  },
  {
   "cell_type": "markdown",
   "id": "c2c75839",
   "metadata": {},
   "source": [
    " #  "
   ]
  },
  {
   "cell_type": "markdown",
   "id": "c6046dd5",
   "metadata": {},
   "source": [
    "## Adding Elements to a List\n"
   ]
  },
  {
   "cell_type": "markdown",
   "id": "3438c1aa",
   "metadata": {},
   "source": [
    "Python provides several ways to add new data to existing lists."
   ]
  },
  {
   "cell_type": "markdown",
   "id": "058e7e4b",
   "metadata": {},
   "source": [
    "### Appending Elements to the End of a List"
   ]
  },
  {
   "cell_type": "markdown",
   "id": "21e98d87",
   "metadata": {},
   "source": [
    "The simplest way to add a new element to a list is to append the item to the\n",
    "list. When you append an item to a list, the new element is added to the end\n",
    "of the list."
   ]
  },
  {
   "cell_type": "code",
   "execution_count": 20,
   "id": "8fa726b1",
   "metadata": {},
   "outputs": [
    {
     "name": "stdout",
     "output_type": "stream",
     "text": [
      "['honda', 'yamaha', 'suzuki', 'ducati']\n"
     ]
    }
   ],
   "source": [
    "motorcycles = ['honda', 'yamaha', 'suzuki']\n",
    "\n",
    "motorcycles.append('ducati')  # The append() method at u adds 'ducati' to the end of the list\n",
    "print(motorcycles)"
   ]
  },
  {
   "cell_type": "markdown",
   "id": "cb05a906",
   "metadata": {},
   "source": [
    "The append() method makes it easy to build lists dynamically. For\n",
    "example, you can start with an empty list and then add items to the list\n",
    "using a series of append() calls."
   ]
  },
  {
   "cell_type": "code",
   "execution_count": 21,
   "id": "d83f28eb",
   "metadata": {},
   "outputs": [
    {
     "name": "stdout",
     "output_type": "stream",
     "text": [
      "['honda', 'yamaha', 'suzuki']\n"
     ]
    }
   ],
   "source": [
    "motorcycles = []\n",
    "\n",
    "motorcycles.append('honda')\n",
    "motorcycles.append('yamaha')\n",
    "motorcycles.append('suzuki')\n",
    "print(motorcycles)"
   ]
  },
  {
   "cell_type": "markdown",
   "id": "53dedb46",
   "metadata": {},
   "source": [
    "Building lists this way is very common, because you often won’t know\n",
    "the data your users want to store in a program until after the program is\n",
    "running. To put your users in control, start by defining an empty list that\n",
    "will hold the users’ values. Then append each new value provided to the list\n",
    "you just created."
   ]
  },
  {
   "cell_type": "markdown",
   "id": "8228e3d8",
   "metadata": {},
   "source": [
    "### Inserting Elements into a List"
   ]
  },
  {
   "cell_type": "markdown",
   "id": "50bc04fe",
   "metadata": {},
   "source": [
    "You can add a new element at any position in your list by using the insert()\n",
    "method. You do this by specifying the index of the new element and the\n",
    "value of the new item."
   ]
  },
  {
   "cell_type": "code",
   "execution_count": 22,
   "id": "fe6d9086",
   "metadata": {},
   "outputs": [
    {
     "name": "stdout",
     "output_type": "stream",
     "text": [
      "['ducati', 'honda', 'yamaha', 'suzuki']\n"
     ]
    }
   ],
   "source": [
    "motorcycles = ['honda', 'yamaha', 'suzuki']\n",
    "\n",
    "motorcycles.insert(0,'ducati')\n",
    "print(motorcycles)"
   ]
  },
  {
   "cell_type": "markdown",
   "id": "ccbadb87",
   "metadata": {},
   "source": [
    " "
   ]
  },
  {
   "cell_type": "markdown",
   "id": "720e42a8",
   "metadata": {},
   "source": [
    "# "
   ]
  },
  {
   "cell_type": "markdown",
   "id": "c18f18af",
   "metadata": {},
   "source": [
    "## Removing Elements from a List"
   ]
  },
  {
   "cell_type": "markdown",
   "id": "da9966e5",
   "metadata": {},
   "source": [
    "You can remove an item according to its position in the list or according to its value."
   ]
  },
  {
   "cell_type": "markdown",
   "id": "50876e4f",
   "metadata": {},
   "source": [
    "### Removing on Item Using the del Statement"
   ]
  },
  {
   "cell_type": "markdown",
   "id": "d813f9fb",
   "metadata": {},
   "source": [
    "If you know the position of the item you want to remove from a list, you can\n",
    "use the del statement."
   ]
  },
  {
   "cell_type": "code",
   "execution_count": 23,
   "id": "bc71edc4",
   "metadata": {},
   "outputs": [
    {
     "name": "stdout",
     "output_type": "stream",
     "text": [
      "['yamaha', 'suzuki']\n"
     ]
    }
   ],
   "source": [
    "motorcycles = ['honda', 'yamaha', 'suzuki']\n",
    "\n",
    "del motorcycles[0]  # remove the first item, 'honda'\n",
    "print(motorcycles)"
   ]
  },
  {
   "cell_type": "markdown",
   "id": "749437d2",
   "metadata": {},
   "source": [
    "### Removing on Item Using the pop() Method"
   ]
  },
  {
   "cell_type": "markdown",
   "id": "3cacbbaf",
   "metadata": {},
   "source": [
    "The pop() method removes the last item in a list, but it lets you work\n",
    "with that item after removing it."
   ]
  },
  {
   "cell_type": "code",
   "execution_count": 24,
   "id": "49fa5f0a",
   "metadata": {},
   "outputs": [
    {
     "name": "stdout",
     "output_type": "stream",
     "text": [
      "['honda', 'yamaha']\n",
      "suzuki\n"
     ]
    }
   ],
   "source": [
    "motorcycles = ['honda', 'yamaha', 'suzuki']\n",
    "\n",
    "popped_motorcycle = motorcycles.pop()\n",
    "print(motorcycles)\n",
    "print(popped_motorcycle)"
   ]
  },
  {
   "cell_type": "markdown",
   "id": "9b99d71c",
   "metadata": {},
   "source": [
    "How might this pop() method be useful? Imagine that the motorcycles\n",
    "in the list are stored in chronological order according to when we owned\n",
    "them. If this is the case, we can use the pop() method to print a statement\n",
    "about the last motorcycle we bought"
   ]
  },
  {
   "cell_type": "code",
   "execution_count": 25,
   "id": "4978a8b7",
   "metadata": {},
   "outputs": [
    {
     "name": "stdout",
     "output_type": "stream",
     "text": [
      "The last motorcycles I owned was a Suzuki\n"
     ]
    }
   ],
   "source": [
    "motorcycles = ['honda', 'yamaha', 'suzuki']\n",
    "\n",
    "last_owned = motorcycles.pop()\n",
    "print(f\"The last motorcycles I owned was a {last_owned.title()}\")"
   ]
  },
  {
   "cell_type": "markdown",
   "id": "e38575cb",
   "metadata": {},
   "source": [
    "### Popping Items from any Position in a List"
   ]
  },
  {
   "cell_type": "markdown",
   "id": "6e13ffae",
   "metadata": {},
   "source": [
    "You can use pop() to remove an item from any position in a list by including\n",
    "the index of the item you want to remove in parentheses."
   ]
  },
  {
   "cell_type": "code",
   "execution_count": 26,
   "id": "e99ac42c",
   "metadata": {},
   "outputs": [
    {
     "name": "stdout",
     "output_type": "stream",
     "text": [
      "The first motorcycles I owned was a Honda\n"
     ]
    }
   ],
   "source": [
    "motorcycles = ['honda', 'yamaha', 'suzuki']\n",
    "\n",
    "first_owned = motorcycles.pop(0)\n",
    "print(f\"The first motorcycles I owned was a {first_owned.title()}\")"
   ]
  },
  {
   "cell_type": "markdown",
   "id": "190ccef2",
   "metadata": {},
   "source": [
    "### Removing on Item by Value"
   ]
  },
  {
   "cell_type": "markdown",
   "id": "6f534bd2",
   "metadata": {},
   "source": [
    "Sometimes you won’t know the position of the value you want to remove\n",
    "from a list. If you only know the value of the item you want to remove, you\n",
    "can use the remove() method."
   ]
  },
  {
   "cell_type": "code",
   "execution_count": 27,
   "id": "e1b11456",
   "metadata": {},
   "outputs": [
    {
     "name": "stdout",
     "output_type": "stream",
     "text": [
      "['honda', 'yamaha', 'suzuki']\n"
     ]
    }
   ],
   "source": [
    "motorcycles = ['honda', 'yamaha', 'suzuki', 'ducati']\n",
    "\n",
    "motorcycles.remove('ducati')\n",
    "print(motorcycles)  # ['honda', 'yamaha', 'suzuki']"
   ]
  },
  {
   "cell_type": "markdown",
   "id": "3a1df034",
   "metadata": {},
   "source": [
    "You can also use the remove() method to work with a value that’s being\n",
    "removed from a list. Let’s remove the value 'ducati' and print a reason for\n",
    "removing it from the list"
   ]
  },
  {
   "cell_type": "code",
   "execution_count": 28,
   "id": "aa9ccdd9",
   "metadata": {},
   "outputs": [
    {
     "name": "stdout",
     "output_type": "stream",
     "text": [
      "['honda', 'yamaha', 'suzuki']\n",
      "\n",
      "A Ducati is too expensive for me\n"
     ]
    }
   ],
   "source": [
    "motorcycles = ['honda', 'yamaha', 'suzuki', 'ducati']\n",
    "\n",
    "too_expensive = 'ducati'\n",
    "motorcycles.remove(too_expensive)\n",
    "print(motorcycles)\n",
    "print(f\"\\nA {too_expensive.title()} is too expensive for me\")"
   ]
  },
  {
   "cell_type": "markdown",
   "id": "7210b470",
   "metadata": {},
   "source": [
    "#### NOTE"
   ]
  },
  {
   "cell_type": "markdown",
   "id": "f35ce9f0",
   "metadata": {},
   "source": [
    "The remove() method deletes only the first occurrence of the value you specify. If there’s\n",
    "a possibility the value appears more than once in the list, you’ll need to use a loop\n",
    "to make sure all occurrences of the value are removed."
   ]
  }
 ],
 "metadata": {
  "kernelspec": {
   "display_name": "Python 3 (ipykernel)",
   "language": "python",
   "name": "python3"
  },
  "language_info": {
   "codemirror_mode": {
    "name": "ipython",
    "version": 3
   },
   "file_extension": ".py",
   "mimetype": "text/x-python",
   "name": "python",
   "nbconvert_exporter": "python",
   "pygments_lexer": "ipython3",
   "version": "3.9.7"
  }
 },
 "nbformat": 4,
 "nbformat_minor": 5
}
