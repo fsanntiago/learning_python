{
 "cells": [
  {
   "cell_type": "markdown",
   "metadata": {},
   "source": [
    "# **Working with Classes and Instances**"
   ]
  },
  {
   "cell_type": "markdown",
   "metadata": {},
   "source": [
    "You can use classes to represent many real-world situations. Once you write\n",
    "a class, you’ll spend most of your time working with instances created from\n",
    "that class. One of the first tasks you’ll want to do is modify the attributes\n",
    "associated with a particular instance. You can modify the attributes of an\n",
    "instance directly or write methods that update attributes in specific ways."
   ]
  },
  {
   "cell_type": "markdown",
   "metadata": {},
   "source": [
    "### **The Car Class**"
   ]
  },
  {
   "cell_type": "markdown",
   "metadata": {},
   "source": [
    "Let’s write a new class representing a car. Our class will store information\n",
    "about the kind of car we’re working with, and it will have a method that\n",
    "summarizes this information:"
   ]
  },
  {
   "cell_type": "code",
   "execution_count": 3,
   "metadata": {},
   "outputs": [
    {
     "name": "stdout",
     "output_type": "stream",
     "text": [
      "2019 Audi A4\n"
     ]
    }
   ],
   "source": [
    "class Car:\n",
    "    \"\"\"A simple attempt to represent a car.\"\"\"\n",
    "\n",
    "    def __init__(self, manufacturer: str, model: str, year: int):\n",
    "        \"\"\"Initialize attributes to describe a car.\"\"\"\n",
    "        self.manufacturer = manufacturer\n",
    "        self.model = model\n",
    "        self.year = year\n",
    "\n",
    "    def get_descriptive_name(self) -> str:\n",
    "        \"\"\"Return a neatly formatted descriptive name\"\"\"\n",
    "        long_name = f\"{self.year} {self.manufacturer} {self.model}\"\n",
    "        return long_name.title()\n",
    "\n",
    "\n",
    "my_new_car = Car(\"audi\", \"a4\", 2019)\n",
    "print(my_new_car.get_descriptive_name())\n"
   ]
  },
  {
   "cell_type": "markdown",
   "metadata": {},
   "source": [
    "### **Setting a Default Value for an Attribute**"
   ]
  },
  {
   "cell_type": "markdown",
   "metadata": {},
   "source": [
    "When an instance is created, attributes can be defined without being\n",
    "passed in as parameters. These attributes can be defined in the __init__()\n",
    "method, where they are assigned a default value."
   ]
  },
  {
   "cell_type": "markdown",
   "metadata": {},
   "source": [
    "Let’s add an attribute called odometer_reading that always starts with a\n",
    "value of 0. We’ll also add a method read_odometer() that helps us read each\n",
    "car’s odometer:"
   ]
  },
  {
   "cell_type": "code",
   "execution_count": 3,
   "metadata": {},
   "outputs": [
    {
     "name": "stdout",
     "output_type": "stream",
     "text": [
      "2019 Audi A4\n",
      "This car has 0 miles on it.\n"
     ]
    }
   ],
   "source": [
    "class Car:\n",
    "    \"\"\"A simple attempt to represent a car.\"\"\"\n",
    "\n",
    "    def __init__(self, manufacturer: str, model: str, year: int):\n",
    "        \"\"\"Initialize attributes to describe a car.\"\"\"\n",
    "        self.manufacturer = manufacturer\n",
    "        self.model = model\n",
    "        self.year = year\n",
    "        self.odometer_reading = 0\n",
    "\n",
    "    def get_descriptive_name(self) -> str:\n",
    "        \"\"\"Return a neatly formatted descriptive name\"\"\"\n",
    "        long_name = f\"{self.year} {self.manufacturer} {self.model}\"\n",
    "        return long_name.title()\n",
    "\n",
    "    def read_odometer(self):\n",
    "        \"\"\"Print a statement showing the car's mileage.\"\"\"\n",
    "        print(f\"This car has {self.odometer_reading} miles on it.\")\n",
    "\n",
    "\n",
    "my_new_car = Car(\"audi\", \"a4\", 2019)\n",
    "print(my_new_car.get_descriptive_name())\n",
    "my_new_car.read_odometer()\n"
   ]
  },
  {
   "cell_type": "markdown",
   "metadata": {},
   "source": [
    "### **Modifying Attributes Values**"
   ]
  },
  {
   "cell_type": "markdown",
   "metadata": {},
   "source": [
    "You can change an attribute’s value in three ways: you can change the value\n",
    "directly through an instance, set the value through a method, or increment\n",
    "the value (add a certain amount to it) through a method. Let’s look at each\n",
    "of these approaches."
   ]
  },
  {
   "cell_type": "markdown",
   "metadata": {},
   "source": [
    "#### **Modifying an Attribute’s Value Directly**"
   ]
  },
  {
   "cell_type": "markdown",
   "metadata": {},
   "source": [
    "The simplest way to modify the value of an attribute is to access the attri-\n",
    "bute directly through an instance. Here we set the odometer reading to 23\n",
    "directly:"
   ]
  },
  {
   "cell_type": "code",
   "execution_count": 8,
   "metadata": {},
   "outputs": [
    {
     "name": "stdout",
     "output_type": "stream",
     "text": [
      "This car has 23 miles on it.\n"
     ]
    }
   ],
   "source": [
    "class Car:\n",
    "    \"\"\"A simple attempt to represent a car.\"\"\"\n",
    "\n",
    "    def __init__(self, manufacturer: str, model: str, year: int):\n",
    "        \"\"\"Initialize attributes to describe a car.\"\"\"\n",
    "        self.manufacturer = manufacturer\n",
    "        self.model = model\n",
    "        self.year = year\n",
    "        self.odometer_reading = 0\n",
    "\n",
    "    def get_descriptive_name(self) -> str:\n",
    "        \"\"\"Return a neatly formatted descriptive name\"\"\"\n",
    "        long_name = f\"{self.year} {self.manufacturer} {self.model}\"\n",
    "        return long_name.title()\n",
    "\n",
    "    def read_odometer(self):\n",
    "        \"\"\"Print a statement showing the car's mileage.\"\"\"\n",
    "        print(f\"This car has {self.odometer_reading} miles on it.\")\n",
    "\n",
    "\n",
    "my_new_car = Car(\"audi\", \"a4\", 2019)\n",
    "\n",
    "my_new_car.odometer_reading = 23\n",
    "my_new_car.read_odometer()\n"
   ]
  },
  {
   "cell_type": "markdown",
   "metadata": {},
   "source": [
    "#### **Modifying an Attribute's Value Through a Method**"
   ]
  },
  {
   "cell_type": "markdown",
   "metadata": {},
   "source": [
    "It can be helpful to have methods that update certain attributes for you.\n",
    "Instead of accessing the attribute directly, you pass the new value to a\n",
    "method that handles the updating internally.\n",
    "Here’s an example showing a method called update_odometer() :"
   ]
  },
  {
   "cell_type": "code",
   "execution_count": 9,
   "metadata": {},
   "outputs": [
    {
     "name": "stdout",
     "output_type": "stream",
     "text": [
      "2019 Audi A4\n",
      "This car has 20 miles on it.\n"
     ]
    }
   ],
   "source": [
    "class Car:\n",
    "    \"\"\"A simple attempt to represent a car.\"\"\"\n",
    "\n",
    "    def __init__(self, manufacturer: str, model: str, year: int):\n",
    "        \"\"\"Initialize attributes to describe a car.\"\"\"\n",
    "        self.manufacturer = manufacturer\n",
    "        self.model = model\n",
    "        self.year = year\n",
    "        self.odometer_reading = 0\n",
    "\n",
    "    def get_descriptive_name(self) -> str:\n",
    "        \"\"\"Return a neatly formatted descriptive name\"\"\"\n",
    "        long_name = f\"{self.year} {self.manufacturer} {self.model}\"\n",
    "        return long_name.title()\n",
    "\n",
    "    def read_odometer(self):\n",
    "        \"\"\"Print a statement showing the car's mileage.\"\"\"\n",
    "        print(f\"This car has {self.odometer_reading} miles on it.\")\n",
    "        \n",
    "    def update_odometer(self, mileage):\n",
    "        \"\"\"Set the odometer reading to the given value.\"\"\"\n",
    "        self.odometer_reading = mileage\n",
    "\n",
    "\n",
    "my_new_car = Car(\"audi\", \"a4\", 2019)\n",
    "print(my_new_car.get_descriptive_name())\n",
    "\n",
    "my_new_car.update_odometer(20)\n",
    "my_new_car.read_odometer()"
   ]
  },
  {
   "cell_type": "markdown",
   "metadata": {},
   "source": [
    "We can extend the method update_odometer() to do additional work\n",
    "every time the odometer reading is modified. Let’s add a little logic to\n",
    "make sure no one tries to roll back the odometer reading:"
   ]
  },
  {
   "cell_type": "code",
   "execution_count": 18,
   "metadata": {},
   "outputs": [
    {
     "name": "stdout",
     "output_type": "stream",
     "text": [
      "2019 Audi A4\n",
      "This car has 20 miles on it.\n"
     ]
    }
   ],
   "source": [
    "class Car:\n",
    "    \"\"\"A simple attempt to represent a car.\"\"\"\n",
    "\n",
    "    def __init__(self, manufacturer: str, model: str, year: int):\n",
    "        \"\"\"Initialize attributes to describe a car.\"\"\"\n",
    "        self.manufacturer = manufacturer\n",
    "        self.model = model\n",
    "        self.year = year\n",
    "        self.odometer_reading = 0\n",
    "\n",
    "    def get_descriptive_name(self) -> str:\n",
    "        \"\"\"Return a neatly formatted descriptive name\"\"\"\n",
    "        long_name = f\"{self.year} {self.manufacturer} {self.model}\"\n",
    "        return long_name.title()\n",
    "\n",
    "    def read_odometer(self):\n",
    "        \"\"\"Print a statement showing the car's mileage.\"\"\"\n",
    "        print(f\"This car has {self.odometer_reading} miles on it.\")\n",
    "\n",
    "    def update_odometer(self, mileage):\n",
    "        \"\"\"\n",
    "        Set the odometer reading to the given value.\n",
    "        Reject the change if it attempts to roll the odometer back.\n",
    "        \"\"\"\n",
    "        if mileage >= self.odometer_reading:\n",
    "            self.odometer_reading = mileage\n",
    "        else:\n",
    "            print(\"You can't roll back an odometer!\")\n",
    "\n",
    "\n",
    "my_new_car = Car(\"audi\", \"a4\", 2019)\n",
    "print(my_new_car.get_descriptive_name())\n",
    "\n",
    "my_new_car.update_odometer(20)\n",
    "my_new_car.read_odometer()\n"
   ]
  },
  {
   "cell_type": "markdown",
   "metadata": {},
   "source": [
    "#### **Incrementing an Attribute’s Value Through a Method**"
   ]
  },
  {
   "cell_type": "markdown",
   "metadata": {},
   "source": [
    "Sometimes you’ll want to increment an attribute’s value by a certain\n",
    "amount rather than set an entirely new value. Say we buy a used car and\n",
    "put 100 miles on it between the time we buy it and the time we register it.\n",
    "Here’s a method that allows us to pass this incremental amount and add\n",
    "that value to the odometer reading:"
   ]
  },
  {
   "cell_type": "code",
   "execution_count": 21,
   "metadata": {},
   "outputs": [
    {
     "name": "stdout",
     "output_type": "stream",
     "text": [
      "2015 Subaru Outback\n",
      "This car has 23500 miles on it.\n",
      "This car has 23600 miles on it.\n"
     ]
    }
   ],
   "source": [
    "class Car:\n",
    "    \"\"\"A simple attempt to represent a car.\"\"\"\n",
    "\n",
    "    def __init__(self, manufacturer: str, model: str, year: int):\n",
    "        \"\"\"Initialize attributes to describe a car.\"\"\"\n",
    "        self.manufacturer = manufacturer\n",
    "        self.model = model\n",
    "        self.year = year\n",
    "        self.odometer_reading = 0\n",
    "\n",
    "    def get_descriptive_name(self) -> str:\n",
    "        \"\"\"Return a neatly formatted descriptive name\"\"\"\n",
    "        long_name = f\"{self.year} {self.manufacturer} {self.model}\"\n",
    "        return long_name.title()\n",
    "\n",
    "    def read_odometer(self):\n",
    "        \"\"\"Print a statement showing the car's mileage.\"\"\"\n",
    "        print(f\"This car has {self.odometer_reading} miles on it.\")\n",
    "\n",
    "    def update_odometer(self, mileage):\n",
    "        \"\"\"\n",
    "        Set the odometer reading to the given value.\n",
    "        Reject the change if it attempts to roll the odometer back.\n",
    "        \"\"\"\n",
    "        if mileage >= self.odometer_reading:\n",
    "            self.odometer_reading = mileage\n",
    "        else:\n",
    "            print(\"You can't roll back an odometer!\")\n",
    "\n",
    "    def increment_odometer(self, miles):\n",
    "        \"\"\"Add the given ampunt to the odometer reading\"\"\"\n",
    "        if miles >= 0:\n",
    "            self.odometer_reading += miles\n",
    "        else:\n",
    "            print(\"You can't roll back an odometer!\")\n",
    "\n",
    "\n",
    "my_used_car = Car(\"subaru\", \"outback\", 2015)\n",
    "print(my_used_car.get_descriptive_name())\n",
    "\n",
    "my_used_car.update_odometer(23_500)\n",
    "my_used_car.read_odometer()\n",
    "\n",
    "my_used_car.increment_odometer(100)\n",
    "my_used_car.read_odometer()\n"
   ]
  }
 ],
 "metadata": {
  "interpreter": {
   "hash": "5cb48ac7b06410b120b9ecc8a96471fa08f60e783a39c25e772b6ba6a8a23f44"
  },
  "kernelspec": {
   "display_name": "Python 3.10.2 ('env': venv)",
   "language": "python",
   "name": "python3"
  },
  "language_info": {
   "codemirror_mode": {
    "name": "ipython",
    "version": 3
   },
   "file_extension": ".py",
   "mimetype": "text/x-python",
   "name": "python",
   "nbconvert_exporter": "python",
   "pygments_lexer": "ipython3",
   "version": "3.10.2"
  },
  "orig_nbformat": 4
 },
 "nbformat": 4,
 "nbformat_minor": 2
}
