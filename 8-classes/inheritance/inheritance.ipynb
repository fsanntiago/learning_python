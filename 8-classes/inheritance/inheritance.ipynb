{
 "cells": [
  {
   "cell_type": "markdown",
   "metadata": {},
   "source": [
    "# **Inheritance**"
   ]
  },
  {
   "cell_type": "markdown",
   "metadata": {},
   "source": [
    "You don’t always have to start from scratch when writing a class. If the class\n",
    "you’re writing is a specialized version of another class you wrote, you can\n",
    "use inheritance. When one class inherits from another, it takes on the attri-\n",
    "butes and methods of the first class. The original class is called the parent\n",
    "class, and the new class is the child class. The child class can inherit any\n",
    "or all of the attributes and methods of its parent class, but it’s also free to\n",
    "define new attributes and methods of its own."
   ]
  },
  {
   "cell_type": "markdown",
   "metadata": {},
   "source": [
    "### **The __init__() Method for a Child Class**"
   ]
  },
  {
   "cell_type": "markdown",
   "metadata": {},
   "source": [
    "When you’re writing a new class based on an existing class, you’ll often\n",
    "want to call the __init__() method from the parent class. This will initialize\n",
    "any attributes that were defined in the parent __init__() method and make\n",
    "them available in the child class.\n"
   ]
  },
  {
   "cell_type": "markdown",
   "metadata": {},
   "source": [
    "As an example, let’s model an electric car. An electric car is just a spe-\n",
    "cific kind of car, so we can base our new ElectricCar class on the Car class\n",
    "we wrote earlier. Then we’ll only have to write code for the attributes and\n",
    "behavior specific to electric cars."
   ]
  },
  {
   "cell_type": "markdown",
   "metadata": {},
   "source": [
    "Let’s start by making a simple version of the ElectricCar class, which\n",
    "does everything the Car class does:"
   ]
  },
  {
   "cell_type": "code",
   "execution_count": 1,
   "metadata": {},
   "outputs": [
    {
     "name": "stdout",
     "output_type": "stream",
     "text": [
      "2019 Tesla Model S\n"
     ]
    }
   ],
   "source": [
    "class Car:\n",
    "    \"\"\"A simple attempt to represent a car.\"\"\"\n",
    "\n",
    "    def __init__(self, manufacturer: str, model: str, year: int):\n",
    "        \"\"\"Initialize attributes to describe a car.\"\"\"\n",
    "        self.manufacturer = manufacturer\n",
    "        self.model = model\n",
    "        self.year = year\n",
    "        self.odometer_reading = 0\n",
    "\n",
    "    def get_descriptive_name(self) -> str:\n",
    "        \"\"\"Return a neatly formatted descriptive name\"\"\"\n",
    "        long_name = f\"{self.year} {self.manufacturer} {self.model}\"\n",
    "        return long_name.title()\n",
    "\n",
    "    def read_odometer(self):\n",
    "        \"\"\"Print a statement showing the car's mileage.\"\"\"\n",
    "        print(f\"This car has {self.odometer_reading} miles on it.\")\n",
    "\n",
    "    def update_odometer(self, mileage):\n",
    "        \"\"\"\n",
    "        Set the odometer reading to the given value.\n",
    "        Reject the change if it attempts to roll the odometer back.\n",
    "        \"\"\"\n",
    "        if mileage >= self.odometer_reading:\n",
    "            self.odometer_reading = mileage\n",
    "        else:\n",
    "            print(\"You can't roll back an odometer!\")\n",
    "\n",
    "    def increment_odometer(self, miles):\n",
    "        \"\"\"Add the given ampunt to the odometer reading\"\"\"\n",
    "        if miles >= 0:\n",
    "            self.odometer_reading += miles\n",
    "        else:\n",
    "            print(\"You can't roll back an odometer!\")\n",
    "\n",
    "\n",
    "class EletricCar(Car):\n",
    "    \"\"\"Represent aspects of a car, specific to eletric vehicles.\"\"\"\n",
    "\n",
    "    def __init__(self, make: str, model: str, year: int):\n",
    "        \"\"\"Initialize attributes of the parent class.\"\"\"\n",
    "        super().__init__(make, model, year)\n",
    "\n",
    "\n",
    "my_tesla = EletricCar(\"tesla\", \"model s\", 2019)\n",
    "print(my_tesla.get_descriptive_name())\n"
   ]
  },
  {
   "cell_type": "markdown",
   "metadata": {},
   "source": [
    "The ElectricCar instance works just like an instance of Car, so now we\n",
    "can begin defining attributes and methods specific to electric cars."
   ]
  },
  {
   "cell_type": "markdown",
   "metadata": {},
   "source": [
    "### **Defining Attributes and Methods for the Child Class**"
   ]
  },
  {
   "cell_type": "markdown",
   "metadata": {},
   "source": [
    "Once you have a child class that inherits from a parent class, you can add\n",
    "any new attributes and methods necessary to differentiate the child class\n",
    "from the parent class.\n",
    "\n",
    "Let’s add an attribute that’s specific to electric cars (a battery, for\n",
    "example) and a method to report on this attribute. We’ll store the battery\n",
    "size and write a method that prints a description of the battery:"
   ]
  },
  {
   "cell_type": "code",
   "execution_count": 2,
   "metadata": {},
   "outputs": [
    {
     "name": "stdout",
     "output_type": "stream",
     "text": [
      "2019 Tesla Model S\n",
      "This car has a 75-kWh battery.\n"
     ]
    }
   ],
   "source": [
    "class Car:\n",
    "    \"\"\"A simple attempt to represent a car.\"\"\"\n",
    "\n",
    "    def __init__(self, manufacturer: str, model: str, year: int):\n",
    "        \"\"\"Initialize attributes to describe a car.\"\"\"\n",
    "        self.manufacturer = manufacturer\n",
    "        self.model = model\n",
    "        self.year = year\n",
    "        self.odometer_reading = 0\n",
    "\n",
    "    def get_descriptive_name(self) -> str:\n",
    "        \"\"\"Return a neatly formatted descriptive name\"\"\"\n",
    "        long_name = f\"{self.year} {self.manufacturer} {self.model}\"\n",
    "        return long_name.title()\n",
    "\n",
    "    def read_odometer(self):\n",
    "        \"\"\"Print a statement showing the car's mileage.\"\"\"\n",
    "        print(f\"This car has {self.odometer_reading} miles on it.\")\n",
    "\n",
    "    def update_odometer(self, mileage):\n",
    "        \"\"\"\n",
    "        Set the odometer reading to the given value.\n",
    "        Reject the change if it attempts to roll the odometer back.\n",
    "        \"\"\"\n",
    "        if mileage >= self.odometer_reading:\n",
    "            self.odometer_reading = mileage\n",
    "        else:\n",
    "            print(\"You can't roll back an odometer!\")\n",
    "\n",
    "    def increment_odometer(self, miles):\n",
    "        \"\"\"Add the given ampunt to the odometer reading\"\"\"\n",
    "        if miles >= 0:\n",
    "            self.odometer_reading += miles\n",
    "        else:\n",
    "            print(\"You can't roll back an odometer!\")\n",
    "\n",
    "\n",
    "class EletricCar(Car):\n",
    "    \"\"\"Represent aspects of a car, specific to eletric vehicles.\"\"\"\n",
    "\n",
    "    def __init__(self, make: str, model: str, year: int):\n",
    "        \"\"\"Initialize attributes of the parent class.\n",
    "        Then initialize attributes specific to an electric car.\"\"\"\n",
    "        super().__init__(make, model, year)\n",
    "        self.battery_size = 75\n",
    "\n",
    "    def describe_battery(self):\n",
    "        \"\"\"Print a statement describing the battery size.\"\"\"\n",
    "        print(f\"This car has a {self.battery_size}-kWh battery.\")\n",
    "\n",
    "\n",
    "my_tesla = EletricCar(\"tesla\", \"model s\", 2019)\n",
    "print(my_tesla.get_descriptive_name())\n",
    "my_tesla.describe_battery()"
   ]
  },
  {
   "cell_type": "markdown",
   "metadata": {},
   "source": [
    "There’s no limit to how much you can specialize the ElectricCar class.\n",
    "You can add as many attributes and methods as you need to model an elec-\n",
    "tric car to whatever degree of accuracy you need. An attribute or method\n",
    "that could belong to any car, rather than one that’s specific to an electric\n",
    "car, should be added to the Car class instead of the ElectricCar class. Then\n",
    "anyone who uses the Car class will have that functionality available as well,\n",
    "and the ElectricCar class will only contain code for the information and\n",
    "behavior specific to electric vehicles."
   ]
  },
  {
   "cell_type": "markdown",
   "metadata": {},
   "source": [
    "### **Overriding Methods from the Parent Class**"
   ]
  },
  {
   "cell_type": "markdown",
   "metadata": {},
   "source": [
    "You can override any method from the parent class that doesn’t fit what\n",
    "you’re trying to model with the child class. To do this, you define a method\n",
    "in the child class with the same name as the method you want to override in\n",
    "the parent class. Python will disregard the parent class method and only\n",
    "pay attention to the method you define in the child class."
   ]
  },
  {
   "cell_type": "markdown",
   "metadata": {},
   "source": [
    "Say the class Car had a method called fill_gas_tank(). This method is\n",
    "meaningless for an all-electric vehicle, so you might want to override this\n",
    "method. Here’s one way to do that:"
   ]
  },
  {
   "cell_type": "code",
   "execution_count": null,
   "metadata": {},
   "outputs": [],
   "source": [
    "class Car:\n",
    "    --snip--\n",
    "\n",
    "    def fill_gas_tank(self):\n",
    "        print(\"...\")\n",
    "\n",
    "class EletricCar(Car):\n",
    "    --snip--\n",
    "    \n",
    "    def fill_gas_tank(self):\n",
    "        \"\"\"Electric cars don't have a gas tanks.\"\"\"\n",
    "        print(\"This car doesn't need a gas tank!\")"
   ]
  },
  {
   "cell_type": "markdown",
   "metadata": {},
   "source": [
    "Now if someone tries to call fill_gas_tank() with an electric car, Python\n",
    "will ignore the method fill_gas_tank() in Car and run this code instead. When\n",
    "you use inheritance, you can make your child classes retain what you need\n",
    "and override anything you don’t need from the parent class."
   ]
  },
  {
   "cell_type": "markdown",
   "metadata": {},
   "source": [
    "### **Instances as Attributes**"
   ]
  },
  {
   "cell_type": "markdown",
   "metadata": {},
   "source": [
    "When modeling something from the real world in code, you may find that\n",
    "you’re adding more and more detail to a class. You’ll find that you have a\n",
    "growing list of attributes and methods and that your files are becoming\n",
    "lengthy. In these situations, you might recognize that part of one class can\n",
    "be written as a separate class. You can break your large class into smaller\n",
    "classes that work together."
   ]
  },
  {
   "cell_type": "markdown",
   "metadata": {},
   "source": [
    "For example, if we continue adding detail to the ElectricCar class, we\n",
    "might notice that we’re adding many attributes and methods specific to the car’s battery. When we see this happening, we can stop and move those\n",
    "attributes and methods to a separate class called Battery. Then we can use a\n",
    "Battery instance as an attribute in the ElectricCar class:"
   ]
  },
  {
   "cell_type": "code",
   "execution_count": 22,
   "metadata": {},
   "outputs": [
    {
     "name": "stdout",
     "output_type": "stream",
     "text": [
      "2019 Tesla Model S\n",
      "This car has a 75-kWh battery.\n"
     ]
    }
   ],
   "source": [
    "class Car:\n",
    "    \"\"\"A simple attempt to represent a car.\"\"\"\n",
    "\n",
    "    def __init__(self, manufacturer: str, model: str, year: int):\n",
    "        \"\"\"Initialize attributes to describe a car.\"\"\"\n",
    "        self.manufacturer = manufacturer\n",
    "        self.model = model\n",
    "        self.year = year\n",
    "        self.odometer_reading = 0\n",
    "\n",
    "    def get_descriptive_name(self) -> str:\n",
    "        \"\"\"Return a neatly formatted descriptive name\"\"\"\n",
    "        long_name = f\"{self.year} {self.manufacturer} {self.model}\"\n",
    "        return long_name.title()\n",
    "\n",
    "    def read_odometer(self):\n",
    "        \"\"\"Print a statement showing the car's mileage.\"\"\"\n",
    "        print(f\"This car has {self.odometer_reading} miles on it.\")\n",
    "\n",
    "    def update_odometer(self, mileage):\n",
    "        \"\"\"\n",
    "        Set the odometer reading to the given value.\n",
    "        Reject the change if it attempts to roll the odometer back.\n",
    "        \"\"\"\n",
    "        if mileage >= self.odometer_reading:\n",
    "            self.odometer_reading = mileage\n",
    "        else:\n",
    "            print(\"You can't roll back an odometer!\")\n",
    "\n",
    "    def increment_odometer(self, miles):\n",
    "        \"\"\"Add the given ampunt to the odometer reading\"\"\"\n",
    "        if miles >= 0:\n",
    "            self.odometer_reading += miles\n",
    "        else:\n",
    "            print(\"You can't roll back an odometer!\")\n",
    "\n",
    "\n",
    "class Battery:\n",
    "    \"\"\"A simple attempt to model a battery for an electric car.\"\"\"\n",
    "\n",
    "    def __init__(self, battery_size: int = 75):\n",
    "        \"\"\"Initialize the battery's attributes.\"\"\"\n",
    "        self.battery_size = battery_size\n",
    "\n",
    "    def describe_battery(self):\n",
    "        \"\"\"Print a statement describing the battery size.\"\"\"\n",
    "        print(f\"This car has a {self.battery_size}-kWh battery.\")\n",
    "\n",
    "\n",
    "class EletricCar(Car):\n",
    "    \"\"\"Represent aspects of a car, specific to eletric vehicles.\"\"\"\n",
    "\n",
    "    def __init__(self, make: str, model: str, year: int):\n",
    "        \"\"\"Initialize attributes of the parent class.\n",
    "        Then initialize attributes specific to an electric car.\"\"\"\n",
    "        super().__init__(make, model, year)\n",
    "        self.battery = Battery()\n",
    "\n",
    "\n",
    "my_tesla = EletricCar(\"tesla\", \"model s\", 2019)\n",
    "print(my_tesla.get_descriptive_name())\n",
    "my_tesla.battery.describe_battery()\n"
   ]
  },
  {
   "cell_type": "markdown",
   "metadata": {},
   "source": [
    "This looks like a lot of extra work, but now we can describe the battery\n",
    "in as much detail as we want without cluttering the ElectricCar class. Let’s\n",
    "add another method to Battery that reports the range of the car based on\n",
    "the battery size:"
   ]
  },
  {
   "cell_type": "code",
   "execution_count": 21,
   "metadata": {},
   "outputs": [
    {
     "name": "stdout",
     "output_type": "stream",
     "text": [
      "2019 Tesla Model S\n",
      "This car has a 75-kWh battery.\n",
      "This car can go about 260 miles on a full charge.\n"
     ]
    }
   ],
   "source": [
    "class Car:\n",
    "    \"\"\"A simple attempt to represent a car.\"\"\"\n",
    "\n",
    "    def __init__(self, manufacturer: str, model: str, year: int):\n",
    "        \"\"\"Initialize attributes to describe a car.\"\"\"\n",
    "        self.manufacturer = manufacturer\n",
    "        self.model = model\n",
    "        self.year = year\n",
    "        self.odometer_reading = 0\n",
    "\n",
    "    def get_descriptive_name(self) -> str:\n",
    "        \"\"\"Return a neatly formatted descriptive name\"\"\"\n",
    "        long_name = f\"{self.year} {self.manufacturer} {self.model}\"\n",
    "        return long_name.title()\n",
    "\n",
    "    def read_odometer(self):\n",
    "        \"\"\"Print a statement showing the car's mileage.\"\"\"\n",
    "        print(f\"This car has {self.odometer_reading} miles on it.\")\n",
    "\n",
    "    def update_odometer(self, mileage):\n",
    "        \"\"\"\n",
    "        Set the odometer reading to the given value.\n",
    "        Reject the change if it attempts to roll the odometer back.\n",
    "        \"\"\"\n",
    "        if mileage >= self.odometer_reading:\n",
    "            self.odometer_reading = mileage\n",
    "        else:\n",
    "            print(\"You can't roll back an odometer!\")\n",
    "\n",
    "    def increment_odometer(self, miles):\n",
    "        \"\"\"Add the given ampunt to the odometer reading\"\"\"\n",
    "        if miles >= 0:\n",
    "            self.odometer_reading += miles\n",
    "        else:\n",
    "            print(\"You can't roll back an odometer!\")\n",
    "\n",
    "\n",
    "class Battery:\n",
    "    \"\"\"A simple attempt to model a battery for an electric car.\"\"\"\n",
    "\n",
    "    def __init__(self, battery_size: int = 75):\n",
    "        \"\"\"Initialize the battery's attributes.\"\"\"\n",
    "        self.battery_size = battery_size\n",
    "\n",
    "    def describe_battery(self):\n",
    "        \"\"\"Print a statement describing the battery size.\"\"\"\n",
    "        print(f\"This car has a {self.battery_size}-kWh battery.\")\n",
    "\n",
    "    def get_range(self):\n",
    "        \"\"\"Print a statement about the range this battery provides.\"\"\"\n",
    "        if self.battery_size == 75:\n",
    "            range = 260\n",
    "        elif self.battery_size == 100:\n",
    "            range = 315\n",
    "\n",
    "        print(f\"This car can go about {range} miles on a full charge.\")\n",
    "\n",
    "\n",
    "class EletricCar(Car):\n",
    "    \"\"\"Represent aspects of a car, specific to eletric vehicles.\"\"\"\n",
    "\n",
    "    def __init__(self, make: str, model: str, year: int):\n",
    "        \"\"\"Initialize attributes of the parent class.\n",
    "        Then initialize attributes specific to an electric car.\"\"\"\n",
    "        super().__init__(make, model, year)\n",
    "        self.battery = Battery()\n",
    "\n",
    "\n",
    "my_tesla = EletricCar(\"tesla\", \"model s\", 2019)\n",
    "print(my_tesla.get_descriptive_name())\n",
    "my_tesla.battery.describe_battery()\n",
    "my_tesla.battery.get_range()\n"
   ]
  },
  {
   "cell_type": "markdown",
   "metadata": {},
   "source": [
    "### **Modeling Real-World Objects**"
   ]
  },
  {
   "cell_type": "markdown",
   "metadata": {},
   "source": [
    "\n",
    "As you begin to model more complicated things like electric cars, you’ll\n",
    "wrestle with interesting questions. Is the range of an electric car a property\n",
    "of the battery or of the car? If we’re only describing one car, it’s probably\n",
    "fine to maintain the association of the method get_range() with the Battery\n",
    "class. But if we’re describing a manufacturer’s entire line of cars, we proba-\n",
    "bly want to move get_range() to the ElectricCar class. The get_range() method\n",
    "would still check the battery size before determining the range, but it would\n",
    "report a range specific to the kind of car it’s associated with. Alternatively,\n",
    "we could maintain the association of the get_range() method with the bat-\n",
    "tery but pass it a parameter such as car_model. The get_range() method would\n",
    "then report a range based on the battery size and car model.\n",
    "\n",
    "This brings you to an interesting point in your growth as a program-\n",
    "mer. When you wrestle with questions like these, you’re thinking at a higher\n",
    "logical level rather than a syntax-focused level. You’re thinking not about\n",
    "Python, but about how to represent the real world in code. When you reach\n",
    "this point, you’ll realize there are often no right or wrong approaches to\n",
    "modeling real-world situations. Some approaches are more efficient than\n",
    "others, but it takes practice to find the most efficient representations. If\n",
    "your code is working as you want it to, you’re doing well! Don’t be discour-\n",
    "aged if you find you’re ripping apart your classes and rewriting them several\n",
    "times using different approaches. In the quest to write accurate, efficient\n",
    "code, everyone goes through this process."
   ]
  }
 ],
 "metadata": {
  "interpreter": {
   "hash": "c377be7c1a8b8339d19bf632fc0e50fcd290a6e6a2181cae0426d5fc1cee5ada"
  },
  "kernelspec": {
   "display_name": "Python 3.9.7 64-bit ('env': venv)",
   "name": "python3"
  },
  "language_info": {
   "codemirror_mode": {
    "name": "ipython",
    "version": 3
   },
   "file_extension": ".py",
   "mimetype": "text/x-python",
   "name": "python",
   "nbconvert_exporter": "python",
   "pygments_lexer": "ipython3",
   "version": "3.9.7"
  },
  "orig_nbformat": 4
 },
 "nbformat": 4,
 "nbformat_minor": 2
}
