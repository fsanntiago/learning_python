{
 "cells": [
  {
   "cell_type": "markdown",
   "metadata": {},
   "source": [
    "# **Inheritance**"
   ]
  },
  {
   "cell_type": "markdown",
   "metadata": {},
   "source": [
    "You don’t always have to start from scratch when writing a class. If the class\n",
    "you’re writing is a specialized version of another class you wrote, you can\n",
    "use inheritance. When one class inherits from another, it takes on the attri-\n",
    "butes and methods of the first class. The original class is called the parent\n",
    "class, and the new class is the child class. The child class can inherit any\n",
    "or all of the attributes and methods of its parent class, but it’s also free to\n",
    "define new attributes and methods of its own."
   ]
  },
  {
   "cell_type": "markdown",
   "metadata": {},
   "source": [
    "### **The __init__() Method for a Child Class**"
   ]
  },
  {
   "cell_type": "markdown",
   "metadata": {},
   "source": [
    "When you’re writing a new class based on an existing class, you’ll often\n",
    "want to call the __init__() method from the parent class. This will initialize\n",
    "any attributes that were defined in the parent __init__() method and make\n",
    "them available in the child class.\n"
   ]
  },
  {
   "cell_type": "markdown",
   "metadata": {},
   "source": [
    "As an example, let’s model an electric car. An electric car is just a spe-\n",
    "cific kind of car, so we can base our new ElectricCar class on the Car class\n",
    "we wrote earlier. Then we’ll only have to write code for the attributes and\n",
    "behavior specific to electric cars."
   ]
  },
  {
   "cell_type": "markdown",
   "metadata": {},
   "source": [
    "Let’s start by making a simple version of the ElectricCar class, which\n",
    "does everything the Car class does:"
   ]
  },
  {
   "cell_type": "code",
   "execution_count": null,
   "metadata": {},
   "outputs": [],
   "source": [
    "class Car:\n",
    "    \"\"\"A simple attempt to represent a car.\"\"\"\n",
    "\n",
    "    def __init__(self, manufacturer: str, model: str, year: int):\n",
    "        \"\"\"Initialize attributes to describe a car.\"\"\"\n",
    "        self.manufacturer = manufacturer\n",
    "        self.model = model\n",
    "        self.year = year\n",
    "        self.odometer_reading = 0\n",
    "\n",
    "    def get_descriptive_name(self) -> str:\n",
    "        \"\"\"Return a neatly formatted descriptive name\"\"\"\n",
    "        long_name = f\"{self.year} {self.manufacturer} {self.model}\"\n",
    "        return long_name.title()\n",
    "\n",
    "    def read_odometer(self):\n",
    "        \"\"\"Print a statement showing the car's mileage.\"\"\"\n",
    "        print(f\"This car has {self.odometer_reading} miles on it.\")\n",
    "\n",
    "    def update_odometer(self, mileage):\n",
    "        \"\"\"\n",
    "        Set the odometer reading to the given value.\n",
    "        Reject the change if it attempts to roll the odometer back.\n",
    "        \"\"\"\n",
    "        if mileage >= self.odometer_reading:\n",
    "            self.odometer_reading = mileage\n",
    "        else:\n",
    "            print(\"You can't roll back an odometer!\")\n",
    "\n",
    "    def increment_odometer(self, miles):\n",
    "        \"\"\"Add the given ampunt to the odometer reading\"\"\"\n",
    "        if miles >= 0:\n",
    "            self.odometer_reading += miles\n",
    "        else:\n",
    "            print(\"You can't roll back an odometer!\")\n",
    "\n",
    "class EletricCar(Car):\n",
    "    \"\"\"Represent aspects of a car, specific to eletric vehicles.\"\"\""
   ]
  }
 ],
 "metadata": {
  "interpreter": {
   "hash": "5cb48ac7b06410b120b9ecc8a96471fa08f60e783a39c25e772b6ba6a8a23f44"
  },
  "kernelspec": {
   "display_name": "Python 3.9.7 ('env': venv)",
   "language": "python",
   "name": "python3"
  },
  "language_info": {
   "name": "python",
   "version": "3.9.7"
  },
  "orig_nbformat": 4
 },
 "nbformat": 4,
 "nbformat_minor": 2
}
