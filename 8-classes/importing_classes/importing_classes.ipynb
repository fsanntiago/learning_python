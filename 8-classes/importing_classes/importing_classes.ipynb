{
 "cells": [
  {
   "cell_type": "markdown",
   "metadata": {},
   "source": [
    "# **Importing Classes**"
   ]
  },
  {
   "cell_type": "markdown",
   "metadata": {},
   "source": [
    "As you add more functionality to your classes, your files can get long, even\n",
    "when you use inheritance properly. In keeping with the overall philosophy\n",
    "of Python, you’ll want to keep your files as uncluttered as possible. To help,\n",
    "Python lets you store classes in modules and then import the classes you\n",
    "need into your main program."
   ]
  },
  {
   "cell_type": "markdown",
   "metadata": {},
   "source": [
    "### **Importing a Single Class**"
   ]
  },
  {
   "cell_type": "markdown",
   "metadata": {},
   "source": [
    "Let’s create a module containing just the Car class. This brings up a subtle\n",
    "naming issue: we already have a file named car.py in this chapter, but this\n",
    "module should be named car.py because it contains code representing a car.\n",
    "We’ll resolve this naming issue by storing the Car class in a module named\n",
    "car.py, replacing the car.py file we were previously using. From now on, any\n",
    "program that uses this module will need a more specific filename, such as\n",
    "my_car.py. Here’s car.py with just the code from the class Car:"
   ]
  },
  {
   "cell_type": "markdown",
   "metadata": {},
   "source": [
    "***car.py***\n"
   ]
  },
  {
   "cell_type": "code",
   "execution_count": null,
   "metadata": {},
   "outputs": [],
   "source": [
    "\"\"\"A class that can be used to represent a car.\"\"\"\n",
    "\n",
    "\n",
    "class Car:\n",
    "    \"\"\"A simple attempt to represent a car.\"\"\"\n",
    "\n",
    "    def __init__(self, manufacturer: str, model: str, year: int):\n",
    "        \"\"\"Initialize attributes to describe a car.\"\"\"\n",
    "        self.manufacturer = manufacturer\n",
    "        self.model = model\n",
    "        self.year = year\n",
    "        self.odometer_reading = 0\n",
    "\n",
    "    def get_descriptive_name(self) -> str:\n",
    "        \"\"\"Return a neatly formatted descriptive name\"\"\"\n",
    "        long_name = f\"{self.year} {self.manufacturer} {self.model}\"\n",
    "        return long_name.title()\n",
    "\n",
    "    def read_odometer(self):\n",
    "        \"\"\"Print a statement showing the car's mileage.\"\"\"\n",
    "        print(f\"This car has {self.odometer_reading} miles on it.\")\n",
    "\n",
    "    def update_odometer(self, mileage):\n",
    "        \"\"\"\n",
    "        Set the odometer reading to the given value.\n",
    "        Reject the change if it attempts to roll the odometer back.\n",
    "        \"\"\"\n",
    "        if mileage >= self.odometer_reading:\n",
    "            self.odometer_reading = mileage\n",
    "        else:\n",
    "            print(\"You can't roll back an odometer!\")\n",
    "\n",
    "    def increment_odometer(self, miles):\n",
    "        \"\"\"Add the given ampunt to the odometer reading\"\"\"\n",
    "        if miles >= 0:\n",
    "            self.odometer_reading += miles\n",
    "        else:\n",
    "            print(\"You can't roll back an odometer!\")\n"
   ]
  },
  {
   "cell_type": "markdown",
   "metadata": {},
   "source": [
    "At 1 line we include a module-level docstring that briefly describes the\n",
    "contents of this module. You should write a docstring for each module you\n",
    "create."
   ]
  },
  {
   "cell_type": "markdown",
   "metadata": {},
   "source": [
    "Now we make a separate file called my_car.py. This file will import the\n",
    "Car class and then create an instance from that class:"
   ]
  },
  {
   "cell_type": "markdown",
   "metadata": {},
   "source": [
    "***my_car.py***\n"
   ]
  },
  {
   "cell_type": "code",
   "execution_count": null,
   "metadata": {},
   "outputs": [],
   "source": [
    "from car import Car\n",
    "\n",
    "my_new_car = Car(\"audi\", \"a4\", 2019)\n",
    "print(my_new_car.get_descriptive_name())\n",
    "\n",
    "my_new_car.odometer_reading = 23\n",
    "my_new_car.read_odometer()\n"
   ]
  },
  {
   "cell_type": "markdown",
   "metadata": {},
   "source": [
    "The import statement tells Python to open the car module and\n",
    "import the class Car. Now we can use the Car class as if it were defined in\n",
    "this file. The output is the same as we saw earlier:"
   ]
  },
  {
   "cell_type": "markdown",
   "metadata": {},
   "source": [
    "Importing classes is an effective way to program. Picture how long\n",
    "this program file would be if the entire Car class were included. When you\n",
    "instead move the class to a module and import the module, you still get all\n",
    "the same functionality, but you keep your main program file clean and easy\n",
    "to read. You also store most of the logic in separate files; once your classes\n",
    "work as you want them to, you can leave those files alone and focus on the\n",
    "higher-level logic of your main program."
   ]
  },
  {
   "cell_type": "markdown",
   "metadata": {},
   "source": [
    "### **Storing Multiple Classes in a Module**"
   ]
  },
  {
   "cell_type": "markdown",
   "metadata": {},
   "source": [
    "You can store as many classes as you need in a single module, although\n",
    "each class in a module should be related somehow. The classes Battery\n",
    "and ElectricCar both help represent cars, so let’s add them to the module\n",
    "car.py."
   ]
  },
  {
   "cell_type": "markdown",
   "metadata": {},
   "source": [
    "***car.py***"
   ]
  },
  {
   "cell_type": "code",
   "execution_count": null,
   "metadata": {},
   "outputs": [],
   "source": [
    "\"\"\"A set of classes used to represent gas and electric cars.\"\"\"\n",
    "\n",
    "\n",
    "class Car:\n",
    "    \"\"\"A simple attempt to represent a car.\"\"\"\n",
    "\n",
    "    def __init__(self, manufacturer: str, model: str, year: int):\n",
    "        \"\"\"Initialize attributes to describe a car.\"\"\"\n",
    "        self.manufacturer = manufacturer\n",
    "        self.model = model\n",
    "        self.year = year\n",
    "        self.odometer_reading = 0\n",
    "\n",
    "    def get_descriptive_name(self) -> str:\n",
    "        \"\"\"Return a neatly formatted descriptive name\"\"\"\n",
    "        long_name = f\"{self.year} {self.manufacturer} {self.model}\"\n",
    "        return long_name.title()\n",
    "\n",
    "    def read_odometer(self):\n",
    "        \"\"\"Print a statement showing the car's mileage.\"\"\"\n",
    "        print(f\"This car has {self.odometer_reading} miles on it.\")\n",
    "\n",
    "    def update_odometer(self, mileage):\n",
    "        \"\"\"\n",
    "        Set the odometer reading to the given value.\n",
    "        Reject the change if it attempts to roll the odometer back.\n",
    "        \"\"\"\n",
    "        if mileage >= self.odometer_reading:\n",
    "            self.odometer_reading = mileage\n",
    "        else:\n",
    "            print(\"You can't roll back an odometer!\")\n",
    "\n",
    "    def increment_odometer(self, miles):\n",
    "        \"\"\"Add the given ampunt to the odometer reading\"\"\"\n",
    "        if miles >= 0:\n",
    "            self.odometer_reading += miles\n",
    "        else:\n",
    "            print(\"You can't roll back an odometer!\")\n",
    "\n",
    "\n",
    "class Battery:\n",
    "    \"\"\"A simple attempt to model a battery for an electric car.\"\"\"\n",
    "\n",
    "    def __init__(self, battery_size: int = 75):\n",
    "        \"\"\"Initialize the battery's attributes.\"\"\"\n",
    "        self.battery_size = battery_size\n",
    "\n",
    "    def describe_battery(self):\n",
    "        \"\"\"Print a statement describing the battery size.\"\"\"\n",
    "        print(f\"This car has a {self.battery_size}-kWh battery.\")\n",
    "\n",
    "    def get_range(self):\n",
    "        \"\"\"Print a statement about the range this battery provides.\"\"\"\n",
    "        if self.battery_size == 75:\n",
    "            range = 260\n",
    "        elif self.battery_size == 100:\n",
    "            range = 315\n",
    "\n",
    "        print(f\"This car can go about {range} miles on a full charge.\")\n",
    "\n",
    "\n",
    "class EletricCar(Car):\n",
    "    \"\"\"Represent aspects of a car, specific to eletric vehicles.\"\"\"\n",
    "\n",
    "    def __init__(self, make: str, model: str, year: int):\n",
    "        \"\"\"Initialize attributes of the parent class.\n",
    "        Then initialize attributes specific to an electric car.\"\"\"\n",
    "        super().__init__(make, model, year)\n",
    "        self.battery = Battery()\n"
   ]
  },
  {
   "cell_type": "markdown",
   "metadata": {},
   "source": [
    "Now we can make a new file called my_electric_car.py, import the\n",
    "ElectricCar class, and make an electric car:"
   ]
  },
  {
   "cell_type": "markdown",
   "metadata": {},
   "source": [
    "***my_electric_car.py***"
   ]
  },
  {
   "cell_type": "code",
   "execution_count": null,
   "metadata": {},
   "outputs": [],
   "source": [
    "from car import EletricCar\n",
    "\n",
    "my_tesla = EletricCar(\"tesla\", \"model s\", 2019)\n",
    "\n",
    "print(my_tesla.get_descriptive_name())\n",
    "my_tesla.battery.describe_battery()\n",
    "my_tesla.battery.get_range()\n"
   ]
  },
  {
   "cell_type": "markdown",
   "metadata": {},
   "source": [
    "### **Importing Multiple Classes from a Module**"
   ]
  },
  {
   "cell_type": "markdown",
   "metadata": {},
   "source": [
    "You can import as many classes as you need into a program file. If we\n",
    "want to make a regular car and an electric car in the same file, we need\n",
    "to import both classes, Car and ElectricCar:"
   ]
  },
  {
   "cell_type": "markdown",
   "metadata": {},
   "source": [
    "***my_cars.py***"
   ]
  },
  {
   "cell_type": "code",
   "execution_count": null,
   "metadata": {},
   "outputs": [],
   "source": [
    "from car import Car, EletricCar\n",
    "\n",
    "my_beetle = Car(\"volkswagen\", \"beetle\", 2019)\n",
    "print(my_beetle.get_descriptive_name())\n",
    "\n",
    "my_tesla = EletricCar(\"tesla\", \"roadster\", 2019)\n",
    "print(my_tesla.get_descriptive_name())\n",
    "\n"
   ]
  },
  {
   "cell_type": "markdown",
   "metadata": {},
   "source": [
    "You import multiple classes from a module by separating each class\n",
    "with a comma. Once you’ve imported the necessary classes, you’re free\n",
    "to make as many instances of each class as you need."
   ]
  },
  {
   "cell_type": "markdown",
   "metadata": {},
   "source": [
    "### **Importing an Entire Module**"
   ]
  },
  {
   "cell_type": "markdown",
   "metadata": {},
   "source": [
    "You can also import an entire module and then access the classes you need\n",
    "using dot notation. This approach is simple and results in code that is easy\n",
    "to read. Because every call that creates an instance of a class includes the\n",
    "module name, you won’t have naming conflicts with any names used in the\n",
    "current file.\n",
    "\n",
    "Here’s what it looks like to import the entire car module and then create\n",
    "a regular car and an electric car:"
   ]
  },
  {
   "cell_type": "code",
   "execution_count": 1,
   "metadata": {},
   "outputs": [],
   "source": [
    "import car\n",
    "\n",
    "my_beetle = car.Car('volkswagen', 'beetle', 2019)\n",
    "print(my_beetle.get_descriptive_name())\n",
    "\n",
    "my_tesla = car.EletricCar(\"tesla\", \"roadster\", 2019)\n",
    "print(my_tesla.get_descriptive_name())"
   ]
  },
  {
   "cell_type": "markdown",
   "metadata": {},
   "source": [
    "We then access the classes we\n",
    "need through the module_name.ClassName syntax."
   ]
  },
  {
   "cell_type": "markdown",
   "metadata": {},
   "source": [
    "### **Importing All Classes from a Module**"
   ]
  },
  {
   "cell_type": "markdown",
   "metadata": {},
   "source": [
    "You can import every class from a module using the following syntax:"
   ]
  },
  {
   "cell_type": "markdown",
   "metadata": {},
   "source": [
    "##### from module_name import * "
   ]
  },
  {
   "cell_type": "markdown",
   "metadata": {},
   "source": [
    "This method is not recommended for two reasons. First, it’s helpful to be\n",
    "able to read the import statements at the top of a file and get a clear sense of\n",
    "which classes a program uses. With this approach it’s unclear which classes\n",
    "you’re using from the module. This approach can also lead to confusion\n",
    "with names in the file. If you accidentally import a class with the same name\n",
    "as something else in your program file, you can create errors that are hard\n",
    "to diagnose. I show this here because even though it’s not a recommended\n",
    "approach, you’re likely to see it in other people’s code at some point.\n",
    "\n",
    "If you need to import many classes from a module, you’re better off\n",
    "importing the entire module and using the module_name.ClassName syntax.\n",
    "You won’t see all the classes used at the top of the file, but you’ll see clearly\n",
    "where the module is used in the program. You’ll also avoid the potential\n",
    "naming conflicts that can arise when you import every class in a module."
   ]
  },
  {
   "cell_type": "markdown",
   "metadata": {},
   "source": [
    "### **Import a Module into a Module**"
   ]
  },
  {
   "cell_type": "markdown",
   "metadata": {},
   "source": [
    "Sometimes you’ll want to spread out your classes over several modules\n",
    "to keep any one file from growing too large and avoid storing unrelated\n",
    "classes in the same module. When you store your classes in several modules,\n",
    "you may find that a class in one module depends on a class in another mod-\n",
    "ule. When this happens, you can import the required class into the first\n",
    "module.\n",
    "\n",
    "For example, let’s store the Car class in one module and the ElectricCar\n",
    "and Battery classes in a separate module. We’ll make a new module called\n",
    "electric_car.py—replacing the electric_car.py file we created earlier—and copy\n",
    "just the Battery and ElectricCar classes into this file:"
   ]
  },
  {
   "cell_type": "markdown",
   "metadata": {},
   "source": [
    "***electric_car.py***"
   ]
  },
  {
   "cell_type": "code",
   "execution_count": null,
   "metadata": {},
   "outputs": [],
   "source": [
    "\"\"\"A set of classes that can be used to represent electric cars.\"\"\"\n",
    "\n",
    "from car import Car\n",
    "\n",
    "class Battery:\n",
    "    #--snip--\n",
    "    pass\n",
    "\n",
    "class ElectricCar(Car):\n",
    "    #--snip--\n",
    "    pass"
   ]
  },
  {
   "cell_type": "markdown",
   "metadata": {},
   "source": [
    "The class ElectricCar needs access to its parent class Car, so we import\n",
    "Car directly into the module. If we forget this line, Python will raise\n",
    "an error when we try to import the electric_car module. We also need to\n",
    "update the Car module so it contains only the Car class:"
   ]
  },
  {
   "cell_type": "code",
   "execution_count": null,
   "metadata": {},
   "outputs": [],
   "source": [
    "\"\"\"A class that can be used to represent a car.\"\"\"\n",
    "\n",
    "class Car:\n",
    "    # --snip--\n",
    "    pass"
   ]
  },
  {
   "cell_type": "markdown",
   "metadata": {},
   "source": [
    "Now we can import from each module separately and create whatever\n",
    "kind of car we need:"
   ]
  },
  {
   "cell_type": "markdown",
   "metadata": {},
   "source": [
    "***my_car.py***"
   ]
  },
  {
   "cell_type": "code",
   "execution_count": null,
   "metadata": {},
   "outputs": [],
   "source": [
    "from car import Car\n",
    "from electric_car import ElectricCar\n",
    "\n",
    "my_beetle = Car('volkswagen', 'beetle', 2019)\n",
    "print(my_beetle.get_descriptive_name())\n",
    "\n",
    "my_tesla = ElectricCar('tesla', 'roadster', 2019)\n",
    "print(my_tesla.get_descriptive_name())"
   ]
  },
  {
   "cell_type": "markdown",
   "metadata": {},
   "source": [
    "### **Using Aliases**"
   ]
  },
  {
   "cell_type": "markdown",
   "metadata": {},
   "source": [
    "Aliases can be quite helpful when using modules\n",
    "to organize your projects’ code. You can use aliases when importing classes\n",
    "as well.\n",
    "\n",
    "As an example, consider a program where you want to make a bunch\n",
    "of electric cars. It might get tedious to type (and read) ElectricCar over and\n",
    "over again. You can give ElectricCar an alias in the import statement:"
   ]
  },
  {
   "cell_type": "code",
   "execution_count": null,
   "metadata": {},
   "outputs": [],
   "source": [
    "from electric_car import EletricCar as EC"
   ]
  },
  {
   "cell_type": "markdown",
   "metadata": {},
   "source": [
    "Now you can use this alias whenever you want to make an electric car:"
   ]
  },
  {
   "cell_type": "code",
   "execution_count": null,
   "metadata": {},
   "outputs": [],
   "source": [
    "my_tesla = EC('tesla', 'roadster', 2019)"
   ]
  }
 ],
 "metadata": {
  "interpreter": {
   "hash": "7e1998ff7f8aa20ada591c520b972326324e5ea05489af9e422744c7c09f6dad"
  },
  "kernelspec": {
   "display_name": "Python 3.10.3 64-bit",
   "language": "python",
   "name": "python3"
  },
  "language_info": {
   "codemirror_mode": {
    "name": "ipython",
    "version": 3
   },
   "file_extension": ".py",
   "mimetype": "text/x-python",
   "name": "python",
   "nbconvert_exporter": "python",
   "pygments_lexer": "ipython3",
   "version": "3.9.7"
  },
  "orig_nbformat": 4
 },
 "nbformat": 4,
 "nbformat_minor": 2
}
