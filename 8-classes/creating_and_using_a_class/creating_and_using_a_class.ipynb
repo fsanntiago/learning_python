{
 "cells": [
  {
   "cell_type": "markdown",
   "metadata": {},
   "source": [
    "# **Creating and Using a Class**"
   ]
  },
  {
   "cell_type": "markdown",
   "metadata": {},
   "source": [
    "You can model almost anything using classes. Let’s start by writing a simple\n",
    "class, Dog , that represents a dog—not one dog in particular, but any dog.\n",
    "What do we know about most pet dogs? Well, they all have a name and age.\n",
    "We also know that most dogs sit and roll over. Those two pieces of infor-\n",
    "mation (name and age) and those two behaviors (sit and roll over) will go\n",
    "in our Dog class because they’re common to most dogs. This class will tell\n",
    "Python how to make an object representing a dog. After our class is written,\n",
    "we’ll use it to make individual instances, each of which represents one spe-\n",
    "cific dog."
   ]
  },
  {
   "cell_type": "markdown",
   "metadata": {},
   "source": [
    "### **Crating the Dog Class**"
   ]
  },
  {
   "cell_type": "markdown",
   "metadata": {},
   "source": [
    "Each instance created from the Dog class will store a name and an age , and\n",
    "we’ll give each dog the ability to sit() and roll_over() :"
   ]
  },
  {
   "cell_type": "code",
   "execution_count": 5,
   "metadata": {},
   "outputs": [],
   "source": [
    "class Dog:\n",
    "    \"\"\"A simple attempt to model a dog.\"\"\"\n",
    "\n",
    "    def __init__(self, name: str, age: int):\n",
    "        \"\"\"Initialize name and age attributes.\n",
    "\n",
    "        Args:\n",
    "            name (str): Dog name\n",
    "            age (int): Dog age\n",
    "        \"\"\"\n",
    "        self.name = name\n",
    "        self.age = age\n",
    "\n",
    "    def sit(self):\n",
    "        \"\"\"Simulate a dog sitting in response to a command\"\"\"\n",
    "        print(f\"{self.name} is now sitting.\")\n",
    "\n",
    "    def roll_over(self):\n",
    "        \"\"\"Simulate rolling over in response to a command\"\"\"\n",
    "        print(f\"{self.name} rolled over!\")\n"
   ]
  },
  {
   "cell_type": "markdown",
   "metadata": {},
   "source": [
    "### **The __init__() Method**"
   ]
  },
  {
   "cell_type": "markdown",
   "metadata": {},
   "source": [
    "A function that’s part of a class is a *method*.\n",
    "\n",
    "The __init__() method is a special method\n",
    "that Python runs automatically whenever we create a new instance based\n",
    "on the Dog class.\n",
    "\n",
    "We define the __init__() method to have three parameters: self , name ,\n",
    "and age . The self parameter is required in the method definition, and it\n",
    "must come first before the other parameters. It must be included in the def-\n",
    "inition because when Python calls this method later (to create an instance\n",
    "of Dog ), the method call will automatically pass the self argument. Every\n",
    "method call associated with an instance automatically passes self , which is\n",
    "a reference to the instance itself; it gives the individual instance access to\n",
    "the attributes and methods in the class. When we make an instance of Dog ,\n",
    "Python will call the __init__() method from the Dog class. We’ll pass Dog()\n",
    "a name and an age as arguments; self is passed automatically, so we don’t\n",
    "need to pass it. Whenever we want to make an instance from the Dog class,\n",
    "we’ll provide values for only the last two parameters, name and age .\n",
    "\n",
    "The two variables defined each have the prefix self . Any variable\n",
    "prefixed with self is available to every method in the class, and we’ll also be\n",
    "able to access these variables through any instance created from the class.\n",
    "The line self.name = name takes the value associated with the parameter name\n",
    "and assigns it to the variable name , which is then attached to the instance\n",
    "being created. The same process happens with self.age = age . Variables that\n",
    "are accessible through instances like this are called *attributes*."
   ]
  },
  {
   "cell_type": "markdown",
   "metadata": {},
   "source": [
    "### **Making an Instance from a Class**"
   ]
  },
  {
   "cell_type": "markdown",
   "metadata": {},
   "source": [
    "Think of a class as a set of instructions for how to make an instance. The\n",
    "class Dog is a set of instructions that tells Python how to make individual\n",
    "instances representing specific dogs.\n",
    "\n",
    "Let’s make an instance representing a specific dog:"
   ]
  },
  {
   "cell_type": "code",
   "execution_count": 9,
   "metadata": {},
   "outputs": [
    {
     "name": "stdout",
     "output_type": "stream",
     "text": [
      "My dog's name is Willie\n",
      "My dog's 6 years old.\n"
     ]
    }
   ],
   "source": [
    "my_dog = Dog('Willie', 6)\n",
    "\n",
    "print(f\"My dog's name is {my_dog.name}\")\n",
    "print(f\"My dog's {my_dog.age} years old.\")\n"
   ]
  },
  {
   "cell_type": "markdown",
   "metadata": {},
   "source": [
    "#### **Accessing Attributes**"
   ]
  },
  {
   "cell_type": "markdown",
   "metadata": {},
   "source": [
    "To access the attributes of an instance, you use dot notation."
   ]
  },
  {
   "cell_type": "code",
   "execution_count": 11,
   "metadata": {},
   "outputs": [
    {
     "data": {
      "text/plain": [
       "'Willie'"
      ]
     },
     "execution_count": 11,
     "metadata": {},
     "output_type": "execute_result"
    }
   ],
   "source": [
    "my_dog.name"
   ]
  },
  {
   "cell_type": "markdown",
   "metadata": {},
   "source": [
    "Dot notation is used often in Python. This syntax demonstrates how\n",
    "Python finds an attribute’s value. Here Python looks at the instance my_dog\n",
    "and then finds the attribute name associated with my_dog . This is the same attri-\n",
    "bute referred to as self.name in the class Dog ."
   ]
  },
  {
   "cell_type": "markdown",
   "metadata": {},
   "source": [
    "#### **Calling Methods**"
   ]
  },
  {
   "cell_type": "markdown",
   "metadata": {},
   "source": [
    "After we create an instance from the class Dog , we can use dot notation to\n",
    "call any method defined in Dog . Let’s make our dog sit and roll over:"
   ]
  },
  {
   "cell_type": "code",
   "execution_count": 12,
   "metadata": {},
   "outputs": [
    {
     "name": "stdout",
     "output_type": "stream",
     "text": [
      "Willie is now sitting.\n",
      "Willie rolled over!\n"
     ]
    }
   ],
   "source": [
    "my_dog.sit()\n",
    "my_dog.roll_over()"
   ]
  },
  {
   "cell_type": "markdown",
   "metadata": {},
   "source": [
    "To call a method, give the name of the instance (in this case, my_dog )\n",
    "and the method you want to call, separated by a dot. When Python reads\n",
    "my_dog.sit() , it looks for the method sit() in the class Dog and runs that\n",
    "code. Python interprets the line my_dog.roll_over() in the same way."
   ]
  },
  {
   "cell_type": "markdown",
   "metadata": {},
   "source": [
    "#### **Creating Multiple Instances**"
   ]
  },
  {
   "cell_type": "markdown",
   "metadata": {},
   "source": [
    "You can create as many instances from a class as you need. Let’s create a\n",
    "second dog called your_dog :"
   ]
  },
  {
   "cell_type": "code",
   "execution_count": 15,
   "metadata": {},
   "outputs": [
    {
     "name": "stdout",
     "output_type": "stream",
     "text": [
      "My dog's name is Willie.\n",
      "My dog is 6 years old.\n",
      "Willie is now sitting.\n",
      "\n",
      "Your dog's name is Lucy.\n",
      "Your dog is 3 years old.\n",
      "Lucy is now sitting.\n"
     ]
    }
   ],
   "source": [
    "my_dog = Dog('Willie', 6)\n",
    "your_dog = Dog('Lucy', 3)\n",
    "\n",
    "print(f\"My dog's name is {my_dog.name}.\")\n",
    "print(f\"My dog is {my_dog.age} years old.\")\n",
    "my_dog.sit()\n",
    "\n",
    "print(f\"\\nYour dog's name is {your_dog.name}.\")\n",
    "print(f\"Your dog is {your_dog.age} years old.\")\n",
    "your_dog.sit()"
   ]
  }
 ],
 "metadata": {
  "interpreter": {
   "hash": "5cb48ac7b06410b120b9ecc8a96471fa08f60e783a39c25e772b6ba6a8a23f44"
  },
  "kernelspec": {
   "display_name": "Python 3.10.2 ('env': venv)",
   "language": "python",
   "name": "python3"
  },
  "language_info": {
   "codemirror_mode": {
    "name": "ipython",
    "version": 3
   },
   "file_extension": ".py",
   "mimetype": "text/x-python",
   "name": "python",
   "nbconvert_exporter": "python",
   "pygments_lexer": "ipython3",
   "version": "3.10.2"
  },
  "orig_nbformat": 4
 },
 "nbformat": 4,
 "nbformat_minor": 2
}
