{
 "cells": [
  {
   "cell_type": "markdown",
   "metadata": {},
   "source": [
    "# **Passing an Arbitrary Number of Arguments**"
   ]
  },
  {
   "cell_type": "markdown",
   "metadata": {},
   "source": [
    "Sometimes you won’t know ahead of time how many arguments a function\n",
    "needs to accept. Fortunately, Python allows a function to collect an arbitrary\n",
    "number of arguments from the calling statement.\n",
    "\n",
    "For example, consider a function that builds a pizza. It needs to accept a\n",
    "number of toppings, but you can’t know ahead of time how many toppings\n",
    "a person will want. The function in the following example has one parameter,\n",
    "*toppings, but this parameter collects as many arguments as the calling\n",
    "line provides:"
   ]
  },
  {
   "cell_type": "code",
   "execution_count": 4,
   "metadata": {},
   "outputs": [
    {
     "name": "stdout",
     "output_type": "stream",
     "text": [
      "('pepperoni',)\n",
      "('mushrooms', 'green peppers', 'extra cheese')\n"
     ]
    }
   ],
   "source": [
    "def make_pizza(*toppings) -> None:\n",
    "    \"\"\"Print the list of toppings that have been requested.\"\"\"\n",
    "    print(toppings)\n",
    "\n",
    "\n",
    "make_pizza(\"pepperoni\")\n",
    "make_pizza(\"mushrooms\", \"green peppers\", \"extra cheese\")\n"
   ]
  },
  {
   "cell_type": "markdown",
   "metadata": {},
   "source": [
    "The asterisk in the parameter name ***toppings** tells Python to make an\n",
    "empty tuple called toppings and pack whatever values it receives into this\n",
    "tuple. The print() call in the function body produces output showing that\n",
    "Python can handle a function call with one value and a call with three\n",
    "values. It treats the different calls similarly. Note that Python packs the\n",
    "arguments into a tuple, even if the function receives only one value"
   ]
  },
  {
   "cell_type": "markdown",
   "metadata": {},
   "source": [
    "Now we can replace the print() call with a loop that runs through the\n",
    "list of toppings and describes the pizza being ordered:"
   ]
  },
  {
   "cell_type": "code",
   "execution_count": 8,
   "metadata": {},
   "outputs": [
    {
     "name": "stdout",
     "output_type": "stream",
     "text": [
      "\n",
      "Making a pizza whit the following toppings:\n",
      "- pepperoni\n",
      "\n",
      "Making a pizza whit the following toppings:\n",
      "- mushrooms\n",
      "- green peppers\n",
      "- extra cheese\n"
     ]
    }
   ],
   "source": [
    "def make_pizza(*toppings) -> None:\n",
    "    \"\"\"Summarize the pizza we are about to make.\"\"\"\n",
    "    print(\"\\nMaking a pizza whit the following toppings:\")\n",
    "    for topping in toppings:\n",
    "        print(f\"- {topping}\")\n",
    "\n",
    "\n",
    "make_pizza(\"pepperoni\")\n",
    "make_pizza(\"mushrooms\", \"green peppers\", \"extra cheese\")\n"
   ]
  },
  {
   "cell_type": "markdown",
   "metadata": {},
   "source": [
    "### **Mixing Positional and Arbitrary Arguments**"
   ]
  },
  {
   "cell_type": "markdown",
   "metadata": {},
   "source": [
    "If you want a function to accept several different kinds of arguments, the\n",
    "parameter that accepts an arbitrary number of arguments must be placed\n",
    "last in the function definition. Python matches positional and keyword\n",
    "arguments first and then collects any remaining arguments in the final\n",
    "parameter.\n",
    "\n",
    "For example, if the function needs to take in a size for the pizza, that\n",
    "parameter must come before the parameter *toppings:"
   ]
  },
  {
   "cell_type": "code",
   "execution_count": 12,
   "metadata": {},
   "outputs": [
    {
     "name": "stdout",
     "output_type": "stream",
     "text": [
      "\n",
      "Making a 16-inch pizza with the following toppings:\n",
      "- pepperoni\n",
      "\n",
      "Making a 12-inch pizza with the following toppings:\n",
      "- mushrooms\n",
      "- green peppers\n",
      "- extra cheese\n"
     ]
    }
   ],
   "source": [
    "def make_pizza(size, *toppings):\n",
    "    \"\"\"Summarize the pizza we are about to make.\n",
    "\n",
    "    Args:\n",
    "        size: Size of the pizza\n",
    "    \"\"\"\n",
    "    print(f\"\\nMaking a {size}-inch pizza with the following toppings:\")\n",
    "    for topping in toppings:\n",
    "        print(f\"- {topping}\")\n",
    "\n",
    "\n",
    "make_pizza(16, \"pepperoni\")\n",
    "make_pizza(12, \"mushrooms\", \"green peppers\", \"extra cheese\")\n"
   ]
  },
  {
   "cell_type": "markdown",
   "metadata": {},
   "source": [
    "In the function definition, Python assigns the first value it receives to\n",
    "the parameter size. All other values that come after are stored in the tuple\n",
    "toppings. The function calls include an argument for the size first, followed\n",
    "by as many toppings as needed."
   ]
  },
  {
   "cell_type": "markdown",
   "metadata": {},
   "source": [
    "#### ***NOTE***"
   ]
  },
  {
   "cell_type": "markdown",
   "metadata": {},
   "source": [
    "***You’ll often see the generic parameter name *args, which collects arbitrary positional\n",
    "arguments like this.***"
   ]
  },
  {
   "cell_type": "markdown",
   "metadata": {},
   "source": [
    "### **Using Arbitrary Keyword Arguments**"
   ]
  },
  {
   "cell_type": "markdown",
   "metadata": {},
   "source": [
    "Sometimes you’ll want to accept an arbitrary number of arguments, but you\n",
    "won’t know ahead of time what kind of information will be passed to the\n",
    "function. In this case, you can write functions that accept as many key-value\n",
    "pairs as the calling statement provides. One example involves building user\n",
    "profiles: you know you’ll get information about a user, but you’re not sure\n",
    "what kind of information you’ll receive. The function build_profile() in the\n",
    "following example always takes in a first and last name, but it accepts an\n",
    "arbitrary number of keyword arguments as well:"
   ]
  },
  {
   "cell_type": "code",
   "execution_count": 1,
   "metadata": {},
   "outputs": [
    {
     "name": "stdout",
     "output_type": "stream",
     "text": [
      "{'location': 'princeton', 'field': 'physics', 'first': 'albert', 'last': 'einstein'}\n"
     ]
    }
   ],
   "source": [
    "def build_profile(first: str, last: str, **user_info) -> dict:\n",
    "    \"\"\"Build a dictionary containing everything we know about a user\n",
    "\n",
    "    Args:\n",
    "        first: The first name\n",
    "        last: The last name\n",
    "\n",
    "    Returns:\n",
    "        Dictionary containing everything about a user\n",
    "    \"\"\"\n",
    "    user_info[\"first\"] = first\n",
    "    user_info[\"last\"] = last\n",
    "    return user_info\n",
    "\n",
    "\n",
    "user_profile = build_profile(\n",
    "    \"albert\", \"einstein\", location=\"princeton\", field=\"physics\"\n",
    ")\n",
    "print(user_profile)"
   ]
  },
  {
   "cell_type": "markdown",
   "metadata": {},
   "source": [
    "The returned dictionary contains the user’s first and last names and,\n",
    "in this case, the location and field of study as well. The function would\n",
    "work no matter how many additional key-value pairs are provided in the\n",
    "function call.\n",
    "\n",
    "You can mix positional, keyword, and arbitrary values in many different\n",
    "ways when writing your own functions. It’s useful to know that all\n",
    "these argument types exist because you’ll see them often when you start\n",
    "reading other people’s code. It takes practice to learn to use the different\n",
    "types correctly and to know when to use each type. For now, remember to\n",
    "use the simplest approach that gets the job done. As you progress you’ll\n",
    "learn to use the most efficient approach each time."
   ]
  },
  {
   "cell_type": "markdown",
   "metadata": {},
   "source": [
    "#### ***NOTE***"
   ]
  },
  {
   "cell_type": "markdown",
   "metadata": {},
   "source": [
    "You’ll often see the parameter name **kwargs used to collect non-specific keyword\n",
    "arguments."
   ]
  }
 ],
 "metadata": {
  "interpreter": {
   "hash": "e669ccfca53edd23dcc8dfab8b710c90a162d4e9cc9c62da575126cbab9ef55b"
  },
  "kernelspec": {
   "display_name": "Python 3.10.2 ('venv': venv)",
   "language": "python",
   "name": "python3"
  },
  "language_info": {
   "codemirror_mode": {
    "name": "ipython",
    "version": 3
   },
   "file_extension": ".py",
   "mimetype": "text/x-python",
   "name": "python",
   "nbconvert_exporter": "python",
   "pygments_lexer": "ipython3",
   "version": "3.10.2"
  },
  "orig_nbformat": 4
 },
 "nbformat": 4,
 "nbformat_minor": 2
}
