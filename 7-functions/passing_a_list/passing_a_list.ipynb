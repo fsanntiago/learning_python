{
 "cells": [
  {
   "cell_type": "markdown",
   "metadata": {},
   "source": [
    "# **Passing a List**"
   ]
  },
  {
   "cell_type": "markdown",
   "metadata": {},
   "source": [
    "You’ll often find it useful to pass a list to a function, whether it’s a list of\n",
    "names, numbers, or more complex objects, such as dictionaries. When you\n",
    "pass a list to a function, the function gets direct access to the contents of\n",
    "the list. Let’s use functions to make working with lists more efficient.\n",
    "\n",
    "Say we have a list of users and want to print a greeting to each. The\n",
    "following example sends a list of names to a function called greet_users(),\n",
    "which greets each person in the list individually:"
   ]
  },
  {
   "cell_type": "code",
   "execution_count": 1,
   "metadata": {},
   "outputs": [
    {
     "name": "stdout",
     "output_type": "stream",
     "text": [
      "Hello, Hannah\n",
      "Hello, Ty\n",
      "Hello, Margot\n"
     ]
    }
   ],
   "source": [
    "def greet_users(names: list[str]):\n",
    "    \"\"\"Print a simple greeting to each user in the list.\n",
    "\n",
    "    Args:\n",
    "        names: List of username to be greeting\n",
    "    \"\"\"\n",
    "    for name in names:\n",
    "        msg = f\"Hello, {name.title()}\"\n",
    "        print(msg)\n",
    "\n",
    "\n",
    "username = [\n",
    "    \"hannah\",\n",
    "    \"ty\",\n",
    "    \"margot\",\n",
    "]\n",
    "greet_users(username)\n"
   ]
  },
  {
   "cell_type": "markdown",
   "metadata": {},
   "source": [
    "This is the output we wanted. Every user sees a personalized greeting,\n",
    "and you can call the function any time you want to greet a specific set\n",
    "of users."
   ]
  },
  {
   "cell_type": "markdown",
   "metadata": {},
   "source": [
    "### **Modifying a List in a Function**"
   ]
  },
  {
   "cell_type": "markdown",
   "metadata": {},
   "source": [
    "When you pass a list to a function, the function can modify the list. Any\n",
    "changes made to the list inside the function’s body are permanent, allowing\n",
    "you to work efficiently even when you’re dealing with large amounts of data.\n",
    "\n",
    "Consider a company that creates 3D printed models of designs that\n",
    "users submit. Designs that need to be printed are stored in a list, and after\n",
    "being printed they’re moved to a separate list. The following code does this\n",
    "without using functions:"
   ]
  },
  {
   "cell_type": "code",
   "execution_count": 3,
   "metadata": {},
   "outputs": [
    {
     "name": "stdout",
     "output_type": "stream",
     "text": [
      "Printing model: dodecahedron\n",
      "Printing model: robot pendant\n",
      "Printing model: phone case\n",
      "\n",
      "The following models have been printed: \n",
      "dodecahedron\n",
      "robot pendant\n",
      "phone case\n"
     ]
    }
   ],
   "source": [
    "# Start with some desings that need to be printed.\n",
    "unprinted_designs = [\"phone case\", \"robot pendant\", \"dodecahedron\"]\n",
    "completed_models = []\n",
    "\n",
    "# Simulate printing each desing, until none are left. \n",
    "# Move each desing to completed_models after printing\n",
    "while unprinted_designs:\n",
    "    current_design = unprinted_designs.pop()\n",
    "    print(f\"Printing model: {current_design}\")\n",
    "    completed_models.append(current_design)\n",
    "    \n",
    "# Display all completed models.\n",
    "print(\"\\nThe following models have been printed: \")\n",
    "for completed_model in completed_models:\n",
    "    print(completed_model) \n"
   ]
  },
  {
   "cell_type": "markdown",
   "metadata": {},
   "source": [
    "We can reorganize this code by writing two functions, each of which\n",
    "does one specific job. Most of the code won’t change; we’re just making\n",
    "it more carefully structured. The first function will handle printing the\n",
    "designs, and the second will summarize the prints that have been made:"
   ]
  },
  {
   "cell_type": "code",
   "execution_count": 6,
   "metadata": {},
   "outputs": [
    {
     "name": "stdout",
     "output_type": "stream",
     "text": [
      "Printing model: dodecahedron\n",
      "Printing model: robot pendant\n",
      "Printing model: phone case\n",
      "\n",
      "The following models have been printed:\n",
      "dodecahedron\n",
      "robot pendant\n",
      "phone case\n"
     ]
    }
   ],
   "source": [
    "def print_models(unprinted_designs: list[str], completed_models: list[str]):\n",
    "    \"\"\"Simulate printing each design, until none are left.\n",
    "    Move each desing to completed_models after printing.\n",
    "\n",
    "    Args:\n",
    "        unprinted_designs: List of design to be printed.\n",
    "        completed_models: List of design that have been printed.\n",
    "    \"\"\"\n",
    "    while unprinted_designs:\n",
    "        current_design = unprinted_designs.pop()\n",
    "        print(f\"Printing model: {current_design}\")\n",
    "        completed_models.append(current_design)\n",
    "        \n",
    "        \n",
    "def show_complete_models(completed_models: list[str]):\n",
    "    \"\"\"Show all the models that were printed.\n",
    "\n",
    "    Args:\n",
    "        completed_models: List of desing that have been printed.\n",
    "    \"\"\"\n",
    "    print(\"\\nThe following models have been printed:\")\n",
    "    for completed_model in completed_models:\n",
    "        print(completed_model)\n",
    "        \n",
    "\n",
    "unprinted_designs = [\"phone case\", \"robot pendant\", \"dodecahedron\"]\n",
    "completed_models = []\n",
    "\n",
    "print_models(unprinted_designs, completed_models)\n",
    "show_complete_models(completed_models)"
   ]
  },
  {
   "cell_type": "markdown",
   "metadata": {},
   "source": [
    "We set up a list of unprinted designs and an empty list that will hold the\n",
    "completed models. Then, because we’ve already defined our two functions,\n",
    "all we have to do is call them and pass them the right arguments. We call\n",
    "print_models() and pass it the two lists it needs; as expected, print_models()\n",
    "simulates printing the designs. Then we call show_completed_models() and\n",
    "pass it the list of completed models so it can report the models that have\n",
    "been printed. The descriptive function names allow others to read this\n",
    "code and understand it, even without comments.\n",
    "\n",
    "This program is easier to extend and maintain than the version without\n",
    "functions. If we need to print more designs later on, we can simply call\n",
    "print_models() again. If we realize the printing code needs to be modified,\n",
    "we can change the code once, and our changes will take place everywhere\n",
    "the function is called. This technique is more efficient than having to update\n",
    "code separately in several places in the program.\n",
    "\n",
    "This example also demonstrates the idea that every function should\n",
    "have one specific job. The first function prints each design, and the second\n",
    "displays the completed models. This is more beneficial than using one function\n",
    "to do both jobs. If you’re writing a function and notice the function\n",
    "is doing too many different tasks, try to split the code into two functions.\n",
    "Remember that you can always call a function from another function,\n",
    "which can be helpful when splitting a complex task into a series of steps."
   ]
  },
  {
   "cell_type": "markdown",
   "metadata": {},
   "source": [
    "### **Preventing a Function from Modifying a List**"
   ]
  },
  {
   "cell_type": "markdown",
   "metadata": {},
   "source": [
    "Sometimes you’ll want to prevent a function from modifying a list. For\n",
    "example, say that you start with a list of unprinted designs and write a\n",
    "function to move them to a list of completed models, as in the previous\n",
    "example. You may decide that even though you’ve printed all the designs,\n",
    "you want to keep the original list of unprinted designs for your records.\n",
    "\n",
    "But because you moved all the design names out of unprinted_designs, the\n",
    "list is now empty, and the empty list is the only version you have; the original\n",
    "is gone. In this case, you can address this issue by passing the function a\n",
    "copy of the list, not the original. Any changes the function makes to the list\n",
    "will affect only the copy, leaving the original list intact."
   ]
  },
  {
   "cell_type": "markdown",
   "metadata": {},
   "source": [
    "You can send a copy of a list to a function like this:"
   ]
  },
  {
   "cell_type": "code",
   "execution_count": null,
   "metadata": {},
   "outputs": [],
   "source": [
    "# function_name(list_name[:])"
   ]
  },
  {
   "cell_type": "markdown",
   "metadata": {},
   "source": [
    "The slice notation [:] makes a copy of the list to send to the function.\n",
    "If we didn’t want to empty the list of unprinted designs in printing_models.py,\n",
    "we could call print_models() like this:"
   ]
  },
  {
   "cell_type": "code",
   "execution_count": null,
   "metadata": {},
   "outputs": [],
   "source": [
    "print_models(unprinted_designs[:], completed_models)"
   ]
  },
  {
   "cell_type": "code",
   "execution_count": 5,
   "metadata": {},
   "outputs": [
    {
     "name": "stdout",
     "output_type": "stream",
     "text": [
      "Printing model: dodecahedron\n",
      "Printing model: robot pendant\n",
      "Printing model: phone case\n",
      "\n",
      "The following models have been printed:\n",
      "dodecahedron\n",
      "robot pendant\n",
      "phone case\n",
      "['phone case', 'robot pendant', 'dodecahedron']\n"
     ]
    }
   ],
   "source": [
    "def print_models(unprinted_designs: list[str], completed_models: list[str]):\n",
    "    \"\"\"Simulate printing each design, until none are left.\n",
    "    Move each desing to completed_models after printing.\n",
    "\n",
    "    Args:\n",
    "        unprinted_designs: List of design to be printed.\n",
    "        completed_models: List of design that have been printed.\n",
    "    \"\"\"\n",
    "    while unprinted_designs:\n",
    "        current_design = unprinted_designs.pop()\n",
    "        print(f\"Printing model: {current_design}\")\n",
    "        completed_models.append(current_design)\n",
    "        \n",
    "        \n",
    "def show_complete_models(completed_models: list[str]):\n",
    "    \"\"\"Show all the models that were printed.\n",
    "\n",
    "    Args:\n",
    "        completed_models: List of desing that have been printed.\n",
    "    \"\"\"\n",
    "    print(\"\\nThe following models have been printed:\")\n",
    "    for completed_model in completed_models:\n",
    "        print(completed_model)\n",
    "        \n",
    "\n",
    "unprinted_designs = [\"phone case\", \"robot pendant\", \"dodecahedron\"]\n",
    "completed_models = []\n",
    "\n",
    "print_models(unprinted_designs[:], completed_models)\n",
    "show_complete_models(completed_models)\n",
    "print(unprinted_designs)"
   ]
  },
  {
   "cell_type": "markdown",
   "metadata": {},
   "source": [
    "The function print_models() can do its work because it still receives the\n",
    "names of all unprinted designs. But this time it uses a copy of the original\n",
    "unprinted designs list, not the actual unprinted_designs list. The list\n",
    "completed_models will fill up with the names of printed models like it did\n",
    "before, but the original list of unprinted designs will be unaffected by the\n",
    "function.\n",
    "\n",
    "Even though you can preserve the contents of a list by passing a copy\n",
    "of it to your functions, you should pass the original list to functions unless\n",
    "you have a specific reason to pass a copy. It’s more efficient for a function\n",
    "to work with an existing list to avoid using the time and memory needed to\n",
    "make a separate copy, especially when you’re working with large lists."
   ]
  }
 ],
 "metadata": {
  "interpreter": {
   "hash": "e669ccfca53edd23dcc8dfab8b710c90a162d4e9cc9c62da575126cbab9ef55b"
  },
  "kernelspec": {
   "display_name": "Python 3.10.2 ('venv': venv)",
   "language": "python",
   "name": "python3"
  },
  "language_info": {
   "codemirror_mode": {
    "name": "ipython",
    "version": 3
   },
   "file_extension": ".py",
   "mimetype": "text/x-python",
   "name": "python",
   "nbconvert_exporter": "python",
   "pygments_lexer": "ipython3",
   "version": "3.10.2"
  },
  "orig_nbformat": 4
 },
 "nbformat": 4,
 "nbformat_minor": 2
}
