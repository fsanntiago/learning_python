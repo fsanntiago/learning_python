{
 "cells": [
  {
   "cell_type": "markdown",
   "metadata": {},
   "source": [
    "# **Return Values**"
   ]
  },
  {
   "cell_type": "markdown",
   "metadata": {},
   "source": [
    "A function doesn’t always have to display its output directly. Instead, it can\n",
    "process some data and then return a value or set of values. The value the\n",
    "function returns is called a ***return value***. The *return statement* takes a value\n",
    "from inside a function and sends it back to the line that called the function.\n",
    "Return values allow you to move much of your program’s grunt work into\n",
    "functions, which can simplify the body of your program."
   ]
  },
  {
   "cell_type": "markdown",
   "metadata": {},
   "source": [
    "### **Returning a Simple Value**"
   ]
  },
  {
   "cell_type": "markdown",
   "metadata": {},
   "source": [
    "Let’s look at a function that takes a first and last name, and returns a neatly\n",
    "formatted full name:"
   ]
  },
  {
   "cell_type": "code",
   "execution_count": 3,
   "metadata": {},
   "outputs": [
    {
     "name": "stdout",
     "output_type": "stream",
     "text": [
      "Jimi Hendrix\n"
     ]
    }
   ],
   "source": [
    "def get_formatted_name(first_name: str, last_name: str) -> str:\n",
    "    \"\"\"Return a full name, neatly formatted.\n",
    "\n",
    "    Args:\n",
    "        first_name: The first name\n",
    "        last_name: The last name\n",
    "\n",
    "    Returns:\n",
    "        full name\n",
    "    \"\"\"\n",
    "    full_name = f\"{first_name} {last_name}\"\n",
    "    return full_name.title()\n",
    "\n",
    "\n",
    "musician = get_formatted_name(\"jimi\", \"hendrix\")\n",
    "print(musician)\n"
   ]
  },
  {
   "cell_type": "markdown",
   "metadata": {},
   "source": [
    "When you call a function that returns a value, you need to provide a\n",
    "variable that the return value can be assigned to."
   ]
  },
  {
   "cell_type": "markdown",
   "metadata": {},
   "source": [
    "But when you consider working with a large program that needs to\n",
    "store many first and last names separately, functions like get_formatted_name()\n",
    "become very useful. You store first and last names separately and then call\n",
    "this function whenever you want to display a full name."
   ]
  },
  {
   "cell_type": "markdown",
   "metadata": {},
   "source": [
    "### **Making an Argument Optional**"
   ]
  },
  {
   "cell_type": "markdown",
   "metadata": {},
   "source": [
    "Sometimes it makes sense to make an argument optional so that people\n",
    "using the function can choose to provide extra information only if they\n",
    "want to. You can use default values to make an argument optional."
   ]
  },
  {
   "cell_type": "markdown",
   "metadata": {},
   "source": [
    "For example, say we want to expand get_formatted_name() to handle\n",
    "middle names as well. A first attempt to include middle names might look\n",
    "like this:"
   ]
  },
  {
   "cell_type": "code",
   "execution_count": 5,
   "metadata": {},
   "outputs": [
    {
     "name": "stdout",
     "output_type": "stream",
     "text": [
      "John Lee Hooker\n"
     ]
    }
   ],
   "source": [
    "def get_formatted_name(first_name: str, middle_name: str, last_name: str) -> str:\n",
    "    \"\"\"Return a full name, neatly formatted.\n",
    "\n",
    "    Args:\n",
    "        first_name: The first name\n",
    "        middle_name: The middle name\n",
    "        last_name: The last name\n",
    "\n",
    "    Returns:\n",
    "        full name\n",
    "    \"\"\"\n",
    "    full_name = f\"{first_name} {middle_name} {last_name}\"\n",
    "    return full_name.title()\n",
    "\n",
    "\n",
    "musician = get_formatted_name('john', 'lee', 'hooker')\n",
    "print(musician)"
   ]
  },
  {
   "cell_type": "markdown",
   "metadata": {},
   "source": [
    "But middle names aren’t always needed, and this function as written\n",
    "would not work if you tried to call it with only a first name and a last name.\n",
    "To make the middle name optional, we can give the **middle_name** argument\n",
    "an empty default value and ignore the argument unless the user provides a\n",
    "value. To make **get_formatted_name()** work without a middle name, we set the\n",
    "default value of middle_name to an empty string and move it to the end of the\n",
    "list of parameters:"
   ]
  },
  {
   "cell_type": "code",
   "execution_count": 10,
   "metadata": {},
   "outputs": [
    {
     "name": "stdout",
     "output_type": "stream",
     "text": [
      "Jimi Hendrix\n",
      "John Lee Hooker\n"
     ]
    }
   ],
   "source": [
    "def get_formatted_name(first_name: str, last_name: str, middle_name: str = \"\") -> str:\n",
    "    \"\"\"Return a full name, neatly formatted.\n",
    "\n",
    "    Args:\n",
    "        first_name: The first name.\n",
    "        middle_name: The middle name.\n",
    "        last_name: The last name.\n",
    "\n",
    "    Returns:\n",
    "        full name\n",
    "    \"\"\"\n",
    "    if middle_name:\n",
    "        full_name = f\"{first_name} {middle_name} {last_name}\"\n",
    "    else:\n",
    "        full_name = f\"{first_name} {last_name}\"\n",
    "    return full_name.title()\n",
    "\n",
    "\n",
    "musician = get_formatted_name(\"jimi\", \"hendrix\")\n",
    "print(musician)\n",
    "\n",
    "musician = get_formatted_name(\"john\", 'hooker', 'lee')\n",
    "print(musician)\n"
   ]
  },
  {
   "cell_type": "markdown",
   "metadata": {},
   "source": [
    "### **Returning a Dictionary**"
   ]
  },
  {
   "cell_type": "markdown",
   "metadata": {},
   "source": [
    "A function can return any kind of value you need it to, including more complicated\n",
    "data structures like lists and dictionaries. For example, the following\n",
    "function takes in parts of a name and returns a dictionary representing\n",
    "a person:"
   ]
  },
  {
   "cell_type": "code",
   "execution_count": 1,
   "metadata": {},
   "outputs": [
    {
     "name": "stdout",
     "output_type": "stream",
     "text": [
      "{'firt': 'jimi', 'last': 'hendrix'}\n"
     ]
    }
   ],
   "source": [
    "def build_person(first_name: str, last_name: str) -> dict:\n",
    "    \"\"\"Return a diactionary of information about a person\n",
    "\n",
    "    Args:\n",
    "        first_name: The first name.\n",
    "        last_name: The last name.\n",
    "\n",
    "    Returns:\n",
    "        A dictionary of information about a person\n",
    "    \"\"\"\n",
    "    person = {\"firt\": first_name, \"last\": last_name}\n",
    "    return person\n",
    "\n",
    "\n",
    "musician = build_person(\"jimi\", \"hendrix\")\n",
    "print(musician)\n"
   ]
  },
  {
   "cell_type": "markdown",
   "metadata": {},
   "source": [
    "This function takes in simple textual information and puts it into a\n",
    "more meaningful data structure that lets you work with the information\n",
    "beyond just printing it. The strings 'jimi' and 'hendrix' are now labeled as\n",
    "a first name and last name. You can easily extend this function to accept\n",
    "optional values like a middle name, an age, an occupation, or any other\n",
    "information you want to store about a person. For example, the following\n",
    "change allows you to store a person’s age as well:"
   ]
  },
  {
   "cell_type": "code",
   "execution_count": 5,
   "metadata": {},
   "outputs": [
    {
     "name": "stdout",
     "output_type": "stream",
     "text": [
      "{'firt': 'jimi', 'last': 'hendrix', 'age': 27}\n"
     ]
    }
   ],
   "source": [
    "def build_person(first_name: str, last_name: str, age: int = None) -> dict:\n",
    "    \"\"\"Return a diactionary of information about a person\n",
    "\n",
    "    Args:\n",
    "        first_name: The first name.\n",
    "        last_name: The last name.\n",
    "        age: The age of the person.\n",
    "\n",
    "    Returns:\n",
    "        A dictionary of information about a person\n",
    "    \"\"\"\n",
    "    person = {\"firt\": first_name, \"last\": last_name}\n",
    "    if age:\n",
    "        person[\"age\"] = age\n",
    "    return person\n",
    "\n",
    "\n",
    "musician = build_person(\"jimi\", \"hendrix\", age=27)\n",
    "print(musician)\n"
   ]
  },
  {
   "cell_type": "markdown",
   "metadata": {},
   "source": [
    "We add a new optional parameter age to the function definition and\n",
    "assign the parameter the special value None, which is used when a variable\n",
    "has no specific value assigned to it. You can think of None as a placeholder\n",
    "value. In conditional tests, None evaluates to False. If the function call\n",
    "includes a value for age, that value is stored in the dictionary. This function\n",
    "always stores a person’s name, but it can also be modified to store any other\n",
    "information you want about a person."
   ]
  },
  {
   "cell_type": "markdown",
   "metadata": {},
   "source": [
    "### **Using a Function with a while Loop**"
   ]
  },
  {
   "cell_type": "markdown",
   "metadata": {},
   "source": [
    "You can use functions with all the Python structures you’ve learned about\n",
    "so far. For example, let’s use the get_formatted_name() function with a while\n",
    "loop to greet users more formally. Here’s a first attempt at greeting people\n",
    "using their first and last names:"
   ]
  },
  {
   "cell_type": "code",
   "execution_count": null,
   "metadata": {},
   "outputs": [],
   "source": [
    "# def get_formatted_name(first_name: str, last_name: str) -> str:\n",
    "#     \"\"\"Return a full name, neatly formatted.\n",
    "\n",
    "#     Args:\n",
    "#         first_name: First name.\n",
    "#         last_name: Last name.\n",
    "\n",
    "#     Returns:\n",
    "#         A full name\n",
    "#     \"\"\"\n",
    "#     full_name = f\"{first_name} {last_name}\"\n",
    "#     return full_name.title()\n",
    "\n",
    "\n",
    "# # This is an infinite loop!\n",
    "# while True:\n",
    "#     print(\"\\nPlease tell me your name:\")\n",
    "#     f_name = input(\"First name: \")\n",
    "#     l_name = input(\"Last name: \")\n",
    "\n",
    "#     formatted_name = get_formatted_name(f_name, l_name)\n",
    "#     print(f\"\\nHello, {formatted_name}\")\n"
   ]
  },
  {
   "cell_type": "markdown",
   "metadata": {},
   "source": [
    "But there’s one problem with this while loop: We haven’t defined a quit\n",
    "condition. Where do you put a quit condition when you ask for a series of\n",
    "inputs? We want the user to be able to quit as easily as possible, so each\n",
    "prompt should offer a way to quit. The break statement offers a straightforward\n",
    "way to exit the loop at either prompt:"
   ]
  },
  {
   "cell_type": "code",
   "execution_count": 13,
   "metadata": {},
   "outputs": [
    {
     "name": "stdout",
     "output_type": "stream",
     "text": [
      "\n",
      "Please tell me your name:\n",
      "(enter 'q' at any time to quit)\n",
      "\n",
      "Hello, Fabrico Queiro\n",
      "\n",
      "Please tell me your name:\n",
      "(enter 'q' at any time to quit)\n"
     ]
    }
   ],
   "source": [
    "def get_formatted_name(first_name: str, last_name: str) -> str:\n",
    "    \"\"\"Return a full name, neatly formatted.\n",
    "\n",
    "    Args:\n",
    "        first_name: First name.\n",
    "        last_name: Last name.\n",
    "\n",
    "    Returns:\n",
    "        A full name\n",
    "    \"\"\"\n",
    "    full_name = f\"{first_name} {last_name}\"\n",
    "    return full_name.title()\n",
    "\n",
    "\n",
    "# This is an infinite loop!\n",
    "while True:\n",
    "    print(\"\\nPlease tell me your name:\")\n",
    "    print(\"(enter 'q' at any time to quit)\")\n",
    "    \n",
    "    f_name = input(\"First name: \")\n",
    "    if f_name.strip() == 'q':\n",
    "        break\n",
    "    \n",
    "    l_name = input(\"Last name: \")\n",
    "    if l_name.strip() == 'q':\n",
    "        break\n",
    "\n",
    "    formatted_name = get_formatted_name(f_name, l_name)\n",
    "    print(f\"\\nHello, {formatted_name}\")\n"
   ]
  }
 ],
 "metadata": {
  "interpreter": {
   "hash": "e669ccfca53edd23dcc8dfab8b710c90a162d4e9cc9c62da575126cbab9ef55b"
  },
  "kernelspec": {
   "display_name": "Python 3.10.2 ('venv': venv)",
   "language": "python",
   "name": "python3"
  },
  "language_info": {
   "codemirror_mode": {
    "name": "ipython",
    "version": 3
   },
   "file_extension": ".py",
   "mimetype": "text/x-python",
   "name": "python",
   "nbconvert_exporter": "python",
   "pygments_lexer": "ipython3",
   "version": "3.10.2"
  },
  "orig_nbformat": 4
 },
 "nbformat": 4,
 "nbformat_minor": 2
}
