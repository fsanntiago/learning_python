{
 "cells": [
  {
   "cell_type": "markdown",
   "metadata": {},
   "source": [
    "# **Passing Arguments**"
   ]
  },
  {
   "cell_type": "markdown",
   "metadata": {},
   "source": [
    "Because a function definition can have multiple parameters, a function call\n",
    "may need multiple arguments. You can pass arguments to your functions\n",
    "in a number of ways. You can use positional arguments, which need to be in\n",
    "132 Chapter 8\n",
    "the same order the parameters were written; keyword arguments, where each\n",
    "argument consists of a variable name and a value; and lists and dictionaries\n",
    "of values. Let’s look at each of these in turn."
   ]
  },
  {
   "cell_type": "markdown",
   "metadata": {},
   "source": [
    "### **Positional Arguments**"
   ]
  },
  {
   "cell_type": "markdown",
   "metadata": {},
   "source": [
    "When you call a function, Python must match each argument in the function\n",
    "call with a parameter in the function definition. The simplest way to\n",
    "do this is based on the order of the arguments provided. Values matched\n",
    "up this way are called *positional arguments*.\n",
    "\n",
    "To see how this works, consider a function that displays information\n",
    "about pets. The function tells us what kind of animal each pet is and the\n",
    "pet’s name, as shown here:"
   ]
  },
  {
   "cell_type": "code",
   "execution_count": 14,
   "metadata": {},
   "outputs": [
    {
     "name": "stdout",
     "output_type": "stream",
     "text": [
      "\n",
      "I have a hamster.\n",
      "My hamster's name is Harry\n"
     ]
    }
   ],
   "source": [
    "def describe_pet(animal_type: str, pet_name: str):\n",
    "    \"\"\"Display information about a pet\n",
    "\n",
    "    Args:\n",
    "        animal_type: A type of animal\n",
    "        pet_name: The animal's name\n",
    "    \"\"\"\n",
    "    print(f\"\\nI have a {animal_type}.\")\n",
    "    print(f\"My {animal_type}'s name is {pet_name.title()}\")\n",
    "\n",
    "\n",
    "describe_pet(\"hamster\", \"harry\")\n"
   ]
  },
  {
   "cell_type": "markdown",
   "metadata": {},
   "source": [
    "#### ***Multiple Function Calls***"
   ]
  },
  {
   "cell_type": "markdown",
   "metadata": {},
   "source": [
    "You can call a function as many times as needed. Describing a second, different\n",
    "pet requires just one more call to describe_pet():"
   ]
  },
  {
   "cell_type": "code",
   "execution_count": 17,
   "metadata": {},
   "outputs": [
    {
     "name": "stdout",
     "output_type": "stream",
     "text": [
      "\n",
      "I have a hamster.\n",
      "My hamster's name is Harry\n",
      "\n",
      "I have a dog.\n",
      "My dog's name is Willie\n"
     ]
    }
   ],
   "source": [
    "def describe_pet(animal_type: str, pet_name: str):\n",
    "    \"\"\"Display information about a pet\n",
    "\n",
    "    Args:\n",
    "        animal_type: A type of animal\n",
    "        pet_name: The animal's name\n",
    "    \"\"\"\n",
    "    print(f\"\\nI have a {animal_type}.\")\n",
    "    print(f\"My {animal_type}'s name is {pet_name.title()}\")\n",
    "\n",
    "\n",
    "describe_pet(\"hamster\", \"harry\")\n",
    "describe_pet(\"dog\", \"willie\")\n"
   ]
  },
  {
   "cell_type": "markdown",
   "metadata": {},
   "source": [
    "Calling a function multiple times is a very efficient way to work. The\n",
    "code describing a pet is written once in the function. Then, anytime you\n",
    "want to describe a new pet, you call the function with the new pet’s information.\n",
    "Even if the code for describing a pet were to expand to ten lines,\n",
    "you could still describe a new pet in just one line by calling the function\n",
    "again."
   ]
  },
  {
   "cell_type": "markdown",
   "metadata": {},
   "source": [
    "You can use as many positional arguments as you need in your functions.\n",
    "Python works through the arguments you provide when calling the\n",
    "function and matches each one with the corresponding parameter in\n",
    "the function’s definition."
   ]
  },
  {
   "cell_type": "markdown",
   "metadata": {},
   "source": [
    "### **Keyword Arguments**"
   ]
  },
  {
   "cell_type": "markdown",
   "metadata": {},
   "source": [
    "A *keyword argument* is a name-value pair that you pass to a function. You\n",
    "directly associate the name and the value within the argument, so when you\n",
    "pass the argument to the function, there’s no confusion (you won’t end up\n",
    "134 Chapter 8\n",
    "with a harry named Hamster). Keyword arguments free you from having\n",
    "to worry about correctly ordering your arguments in the function call, and\n",
    "they clarify the role of each value in the function call."
   ]
  },
  {
   "cell_type": "code",
   "execution_count": 18,
   "metadata": {},
   "outputs": [
    {
     "name": "stdout",
     "output_type": "stream",
     "text": [
      "\n",
      "I have a hamster.\n",
      "My hamster's name is Harry\n"
     ]
    }
   ],
   "source": [
    "def describe_pet(animal_type: str, pet_name: str):\n",
    "    \"\"\"Display information about a pet\n",
    "\n",
    "    Args:\n",
    "        animal_type: A type of animal\n",
    "        pet_name: The animal's name\n",
    "    \"\"\"\n",
    "    print(f\"\\nI have a {animal_type}.\")\n",
    "    print(f\"My {animal_type}'s name is {pet_name.title()}\")\n",
    "\n",
    "\n",
    "describe_pet(animal_type=\"hamster\", pet_name=\"harry\")\n"
   ]
  },
  {
   "cell_type": "markdown",
   "metadata": {},
   "source": [
    "The function describe_pet() hasn’t changed. But when we call the function,\n",
    "we explicitly tell Python which parameter each argument should be\n",
    "matched with. When Python reads the function call, it knows to assign the\n",
    "argument 'hamster' to the parameter animal_type and the argument 'harry'\n",
    "to pet_name. The output correctly shows that we have a hamster named\n",
    "Harry."
   ]
  },
  {
   "cell_type": "markdown",
   "metadata": {},
   "source": [
    "The order of keyword arguments doesn’t matter because Python\n",
    "knows where each value should go. The following two function calls are\n",
    "equivalent:"
   ]
  },
  {
   "cell_type": "code",
   "execution_count": 19,
   "metadata": {},
   "outputs": [
    {
     "name": "stdout",
     "output_type": "stream",
     "text": [
      "\n",
      "I have a hamster.\n",
      "My hamster's name is Harry\n",
      "\n",
      "I have a hamster.\n",
      "My hamster's name is Harry\n"
     ]
    }
   ],
   "source": [
    "describe_pet(animal_type=\"hamster\", pet_name=\"harry\")\n",
    "describe_pet(pet_name=\"harry\", animal_type=\"hamster\")\n"
   ]
  },
  {
   "cell_type": "markdown",
   "metadata": {},
   "source": [
    "### **Default Values**"
   ]
  },
  {
   "cell_type": "markdown",
   "metadata": {},
   "source": [
    "When writing a function, you can define a *default value* for each parameter.\n",
    "If an argument for a parameter is provided in the function call, Python uses\n",
    "the argument value. If not, it uses the parameter’s default value. So when\n",
    "you define a default value for a parameter, you can exclude the corresponding\n",
    "argument you’d usually write in the function call. Using default values\n",
    "can simplify your function calls and clarify the ways in which your functions\n",
    "are typically used.\n",
    "\n",
    "For example, if you notice that most of the calls to describe_pet() are\n",
    "being used to describe dogs, you can set the default value of animal_type to\n",
    "'dog'. Now anyone calling describe_pet() for a dog can omit that information:"
   ]
  },
  {
   "cell_type": "code",
   "execution_count": 22,
   "metadata": {},
   "outputs": [
    {
     "name": "stdout",
     "output_type": "stream",
     "text": [
      "\n",
      "I have a dog.\n",
      "My dog's name is Willie.\n"
     ]
    }
   ],
   "source": [
    "def describe_pet(pet_name: str, animal_type: str = \"dog\"):\n",
    "    \"\"\"Display information about a pet\n",
    "\n",
    "    Args:\n",
    "        animal_type: A type of animal\n",
    "        pet_name: The animal's name\n",
    "    \"\"\"\n",
    "    print(f\"\\nI have a {animal_type}.\")\n",
    "    print(f\"My {animal_type}'s name is {pet_name.title()}.\")\n",
    "\n",
    "\n",
    "describe_pet(pet_name=\"willie\")\n"
   ]
  },
  {
   "cell_type": "markdown",
   "metadata": {},
   "source": [
    "Note that the order of the parameters in the function definition had\n",
    "to be changed. Because the default value makes it unnecessary to specify a\n",
    "type of animal as an argument, the only argument left in the function call\n",
    "is the pet’s name. Python still interprets this as a positional argument, so if\n",
    "the function is called with just a pet’s name, that argument will match up\n",
    "with the first parameter listed in the function’s definition. This is the reason\n",
    "the first parameter needs to be pet_name.\n",
    "\n",
    "The simplest way to use this function now is to provide just a dog’s\n",
    "name in the function call:"
   ]
  },
  {
   "cell_type": "code",
   "execution_count": 23,
   "metadata": {},
   "outputs": [
    {
     "name": "stdout",
     "output_type": "stream",
     "text": [
      "\n",
      "I have a dog.\n",
      "My dog's name is Willie.\n"
     ]
    }
   ],
   "source": [
    "describe_pet('willie')"
   ]
  },
  {
   "cell_type": "markdown",
   "metadata": {},
   "source": [
    "To describe an animal other than a dog, you could use a function call\n",
    "like this:"
   ]
  },
  {
   "cell_type": "code",
   "execution_count": 26,
   "metadata": {},
   "outputs": [
    {
     "name": "stdout",
     "output_type": "stream",
     "text": [
      "\n",
      "I have a hamster.\n",
      "My hamster's name is Harry.\n"
     ]
    }
   ],
   "source": [
    "describe_pet(pet_name='harry', animal_type='hamster')"
   ]
  },
  {
   "cell_type": "markdown",
   "metadata": {},
   "source": [
    "Because an explicit argument for animal_type is provided, Python will\n",
    "ignore the parameter’s default value."
   ]
  },
  {
   "cell_type": "markdown",
   "metadata": {},
   "source": [
    "### **Equivalent Function Calls**"
   ]
  },
  {
   "cell_type": "markdown",
   "metadata": {},
   "source": [
    "Because positional arguments, keyword arguments, and default values can\n",
    "all be used together, often you’ll have several equivalent ways to call a function."
   ]
  },
  {
   "cell_type": "markdown",
   "metadata": {},
   "source": [
    "If the animal being described is not a dog, an argument for\n",
    "animal_type must be included in the call, and this argument can also be\n",
    "specified using the positional or keyword format.\n",
    "All of the following calls would work for this function:"
   ]
  },
  {
   "cell_type": "code",
   "execution_count": null,
   "metadata": {},
   "outputs": [],
   "source": [
    "# A dog named Willie.\n",
    "describe_pet(\"willie\")\n",
    "describe_pet(pet_name=\"willie\")\n",
    "\n",
    "# A hamster named Harry.\n",
    "describe_pet(\"harry\", \"hamster\")\n",
    "describe_pet(pet_name=\"harry\", animal_type=\"hamster\")\n",
    "describe_pet(animal_type=\"hamster\", pet_name=\"harry\")\n"
   ]
  }
 ],
 "metadata": {
  "interpreter": {
   "hash": "e669ccfca53edd23dcc8dfab8b710c90a162d4e9cc9c62da575126cbab9ef55b"
  },
  "kernelspec": {
   "display_name": "Python 3.10.2 ('venv': venv)",
   "language": "python",
   "name": "python3"
  },
  "language_info": {
   "codemirror_mode": {
    "name": "ipython",
    "version": 3
   },
   "file_extension": ".py",
   "mimetype": "text/x-python",
   "name": "python",
   "nbconvert_exporter": "python",
   "pygments_lexer": "ipython3",
   "version": "3.10.2"
  },
  "orig_nbformat": 4
 },
 "nbformat": 4,
 "nbformat_minor": 2
}
