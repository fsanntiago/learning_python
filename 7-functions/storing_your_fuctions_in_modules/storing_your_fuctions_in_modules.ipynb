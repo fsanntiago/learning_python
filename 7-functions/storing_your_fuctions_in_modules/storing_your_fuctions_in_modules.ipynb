{
 "cells": [
  {
   "cell_type": "markdown",
   "metadata": {},
   "source": [
    "# **Storing Your Functions in Modules**"
   ]
  },
  {
   "cell_type": "markdown",
   "metadata": {},
   "source": [
    "One advantage of functions is the way they separate blocks of code from\n",
    "your main program. By using descriptive names for your functions, your\n",
    "main program will be much easier to follow. You can go a step further by\n",
    "storing your functions in a separate file called a module and then importing\n",
    "that module into your main program. An import statement tells Python to\n",
    "make the code in a module available in the currently running program file."
   ]
  },
  {
   "cell_type": "markdown",
   "metadata": {},
   "source": [
    "Storing your functions in a separate file allows you to hide the details of\n",
    "your program’s code and focus on its higher-level logic. It also allows you to\n",
    "reuse functions in many different programs. When you store your functions\n",
    "in separate files, you can share those files with other programmers without\n",
    "having to share your entire program. Knowing how to import functions\n",
    "also allows you to use libraries of functions that other programmers have\n",
    "written."
   ]
  },
  {
   "cell_type": "markdown",
   "metadata": {},
   "source": [
    "There are several ways to import a module, and I’ll show you each of\n",
    "these briefly."
   ]
  },
  {
   "cell_type": "markdown",
   "metadata": {},
   "source": [
    "### **Importing an Entire Module**"
   ]
  },
  {
   "cell_type": "markdown",
   "metadata": {},
   "source": [
    "To start importing functions, we first need to create a module. A module\n",
    "is a file ending in .py that contains the code you want to import into your program. Let’s make a module that contains the function make_pizza() . To\n",
    "make this module, we’ll remove everything from the file pizza.py except the\n",
    "function make_pizza() :"
   ]
  },
  {
   "cell_type": "markdown",
   "metadata": {},
   "source": [
    "***pizza.py***"
   ]
  },
  {
   "cell_type": "code",
   "execution_count": null,
   "metadata": {},
   "outputs": [],
   "source": [
    "def make_pizza(size, *toppings):\n",
    "    \"\"\"Summarize the pizza we are about to make.\"\"\"\n",
    "    print(f\"\\nMaking a {size}-inch pizza with the following toppings:\")\n",
    "    for topping in toppings:\n",
    "        print(f\"- {topping}\")\n"
   ]
  },
  {
   "cell_type": "markdown",
   "metadata": {},
   "source": [
    "Now we’ll make a separate file called making_pizzas.py in the same\n",
    "directory as pizza.py. This file imports the module we just created and then\n",
    "makes two calls to make_pizza() :"
   ]
  },
  {
   "cell_type": "markdown",
   "metadata": {},
   "source": [
    "***making_pizza.py***"
   ]
  },
  {
   "cell_type": "code",
   "execution_count": null,
   "metadata": {},
   "outputs": [],
   "source": [
    "import pizza\n",
    "\n",
    "pizza.make_pizza(16, 'pepperoni')\n",
    "pizza.make_pizza(12, 'mushrooms', 'green peppers', 'extra cheese')"
   ]
  },
  {
   "cell_type": "markdown",
   "metadata": {},
   "source": [
    "This first approach to importing, in which you simply write import fol-\n",
    "lowed by the name of the module, makes every function from the module\n",
    "available in your program. If you use this kind of import statement to import\n",
    "an entire module named module_name.py, each function in the module is\n",
    "available through the following syntax:"
   ]
  },
  {
   "cell_type": "markdown",
   "metadata": {},
   "source": [
    "***module_nome.fuction_name()***"
   ]
  },
  {
   "cell_type": "markdown",
   "metadata": {},
   "source": [
    "### **Importing Specific Functions**"
   ]
  },
  {
   "cell_type": "markdown",
   "metadata": {},
   "source": [
    "You can also import a specific function from a module. Here’s the general\n",
    "syntax for this approach:"
   ]
  },
  {
   "cell_type": "markdown",
   "metadata": {},
   "source": [
    "***from module_name import fuction_name***"
   ]
  },
  {
   "cell_type": "markdown",
   "metadata": {},
   "source": [
    "You can import as many functions as you want from a module by sepa-\n",
    "rating each function’s name with a comma:"
   ]
  },
  {
   "cell_type": "markdown",
   "metadata": {},
   "source": [
    "***from module_name import fuction_0, fuction_1, fuction_2, fuction_3***"
   ]
  },
  {
   "cell_type": "markdown",
   "metadata": {},
   "source": [
    "The *making_pizzas.py* example would look like this if we want to import\n",
    "just the function we’re going to use:"
   ]
  },
  {
   "cell_type": "code",
   "execution_count": 2,
   "metadata": {},
   "outputs": [
    {
     "name": "stdout",
     "output_type": "stream",
     "text": [
      "\n",
      "Making a 16-inch pizza with the following toppings:\n",
      "- pepperoni\n",
      "\n",
      "Making a 12-inch pizza with the following toppings:\n",
      "- mushrooms\n",
      "- green peppers\n",
      "- extra cheese\n"
     ]
    }
   ],
   "source": [
    "from pizza import make_pizza\n",
    "\n",
    "make_pizza(16, 'pepperoni')\n",
    "make_pizza(12, 'mushrooms', 'green peppers', 'extra cheese')"
   ]
  },
  {
   "cell_type": "markdown",
   "metadata": {},
   "source": [
    "With this syntax, you don’t need to use the dot notation when you call a\n",
    "function. Because we’ve explicitly imported the function make_pizza() in the\n",
    "import statement, we can call it by name when we use the function."
   ]
  },
  {
   "cell_type": "markdown",
   "metadata": {},
   "source": [
    "### **Using as to Give a Module an Alias**"
   ]
  },
  {
   "cell_type": "markdown",
   "metadata": {},
   "source": [
    "You can also provide an alias for a module name. Giving a module a short\n",
    "alias, like p for pizza , allows you to call the module’s functions more quickly.\n",
    "Calling p.make_pizza() is more concise than calling pizza.make_pizza() :"
   ]
  },
  {
   "cell_type": "code",
   "execution_count": 4,
   "metadata": {},
   "outputs": [
    {
     "name": "stdout",
     "output_type": "stream",
     "text": [
      "\n",
      "Making a 16-inch pizza with the following toppings:\n",
      "- pepperoni\n",
      "\n",
      "Making a 12-inch pizza with the following toppings:\n",
      "- mushrooms\n",
      "- green peppers\n",
      "- extra cheese\n"
     ]
    }
   ],
   "source": [
    "import pizza as p\n",
    "\n",
    "p.make_pizza(16, 'pepperoni')\n",
    "p.make_pizza(12, 'mushrooms', 'green peppers', 'extra cheese')"
   ]
  },
  {
   "cell_type": "markdown",
   "metadata": {},
   "source": [
    "The module pizza is given the alias p in the import statement, but all of\n",
    "the module’s functions retain their original names. Calling the functions by\n",
    "writing p.make_pizza() is not only more concise than writing pizza.make_pizza() ,\n",
    "but also redirects your attention from the module name and allows you\n",
    "to focus on the descriptive names of its functions. These function names,\n",
    "which clearly tell you what each function does, are more important to the\n",
    "readability of your code than using the full module name.\n",
    "\n",
    "The general syntax for this approach is:"
   ]
  },
  {
   "cell_type": "markdown",
   "metadata": {},
   "source": [
    "***import module_name as mn***"
   ]
  },
  {
   "cell_type": "markdown",
   "metadata": {},
   "source": [
    "### **Importing All Functions in a Module**"
   ]
  },
  {
   "cell_type": "markdown",
   "metadata": {},
   "source": [
    "You can tell Python to import every function in a module by using the aster-\n",
    "isk ( * ) operator:"
   ]
  },
  {
   "cell_type": "code",
   "execution_count": null,
   "metadata": {},
   "outputs": [],
   "source": [
    "from pizza import *\n",
    "\n",
    "make_pizza(16, 'pepperoni')\n",
    "make_pizza(12, 'mushrooms', 'green peppers', 'extra cheese')"
   ]
  },
  {
   "cell_type": "markdown",
   "metadata": {},
   "source": [
    "The asterisk in the import statement tells Python to copy every func-\n",
    "tion from the module pizza into this program file. Because every function\n",
    "is imported, you can call each function by name without using the dot\n",
    "notation. However, it’s best not to use this approach when you’re working\n",
    "with larger modules that you didn’t write: if the module has a function\n",
    "name that matches an existing name in your project, you can get some\n",
    "unexpected results. Python may see several functions or variables with the\n",
    "same name, and instead of importing all the functions separately, it will\n",
    "overwrite the functions.\n",
    "\n",
    "The best approach is to import the function or functions you want,\n",
    "or import the entire module and use the dot notation. This leads to clear\n",
    "code that’s easy to read and understand. I include this section so you’ll\n",
    "recognize import statements like the following when you see them in other\n",
    "people’s code:"
   ]
  },
  {
   "cell_type": "markdown",
   "metadata": {},
   "source": [
    "from module_name import *"
   ]
  }
 ],
 "metadata": {
  "interpreter": {
   "hash": "5cb48ac7b06410b120b9ecc8a96471fa08f60e783a39c25e772b6ba6a8a23f44"
  },
  "kernelspec": {
   "display_name": "Python 3.10.2 ('env': venv)",
   "language": "python",
   "name": "python3"
  },
  "language_info": {
   "codemirror_mode": {
    "name": "ipython",
    "version": 3
   },
   "file_extension": ".py",
   "mimetype": "text/x-python",
   "name": "python",
   "nbconvert_exporter": "python",
   "pygments_lexer": "ipython3",
   "version": "3.10.2"
  },
  "orig_nbformat": 4
 },
 "nbformat": 4,
 "nbformat_minor": 2
}
