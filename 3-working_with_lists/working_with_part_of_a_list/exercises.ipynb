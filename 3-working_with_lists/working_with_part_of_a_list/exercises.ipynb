{
 "cells": [
  {
   "cell_type": "markdown",
   "metadata": {},
   "source": [
    "# **Exercises**"
   ]
  },
  {
   "cell_type": "markdown",
   "metadata": {},
   "source": [
    "**4-10. Slices:** Using one of the programs you wrote in this chapter, add several\n",
    "lines to the end of the program that do the following:\n",
    "\n",
    "•\t Print the message *The first three items in the list are:*. Then use a slice to\n",
    "print the first three items from that program’s list.\n",
    "\n",
    "•\t Print the message *Three items from the middle of the list are:*. Use a slice to\n",
    "print three items from the middle of the list.\n",
    "\n",
    "•\t Print the message *The last three items in the list are:*. Use a slice to print the\n",
    "last three items in the list."
   ]
  },
  {
   "cell_type": "code",
   "execution_count": 3,
   "metadata": {},
   "outputs": [
    {
     "name": "stdout",
     "output_type": "stream",
     "text": [
      "The fist three items in the list are:\n",
      "['charles', 'martina', 'michael']\n",
      "\n",
      "Three items from the middle of the list are:\n",
      "['martina', 'michael', 'florence']\n",
      "\n",
      "The last three items in the list are:\n",
      "['michael', 'florence', 'eli']\n"
     ]
    }
   ],
   "source": [
    "players = ['charles', 'martina', 'michael', 'florence', 'eli']\n",
    "\n",
    "print(\"The fist three items in the list are:\")\n",
    "print(players[:3])\n",
    "\n",
    "print(\"\\nThree items from the middle of the list are:\")\n",
    "print(players[1:4])\n",
    "\n",
    "print(\"\\nThe last three items in the list are:\")\n",
    "print(players[-3:])"
   ]
  },
  {
   "cell_type": "markdown",
   "metadata": {},
   "source": [
    "**4-11. My Pizzas, Your Pizzas:** Start with your program from Exercise 4-1\n",
    "(page 56). Make a copy of the list of pizzas, and call it friend_pizzas.\n",
    "Then, do the following:\n",
    "\n",
    "•\t Add a new pizza to the original list.\n",
    "\n",
    "•\t Add a different pizza to the list friend_pizzas.\n",
    "\n",
    "•\t Prove that you have two separate lists. Print the message My favorite\n",
    "pizzas are:, and then use a for loop to print the first list. Print the message\n",
    "My friend’s favorite pizzas are:, and then use a for loop to print the second list. Make sure each new pizza is stored in the appropriate list."
   ]
  },
  {
   "cell_type": "code",
   "execution_count": 4,
   "metadata": {},
   "outputs": [
    {
     "name": "stdout",
     "output_type": "stream",
     "text": [
      "My favorite pizzas are: \n",
      "Bacon\n",
      "Pepperoni\n",
      "Mozzarella\n",
      "Margherita\n",
      "\n",
      "My friend's favorite pizzas are: \n",
      "Bacon\n",
      "Pepperoni\n",
      "Mozzarella\n",
      "Bbq Chicken\n"
     ]
    }
   ],
   "source": [
    "pizzas = ['bacon', 'pepperoni', 'mozzarella']\n",
    "\n",
    "# Copy list of pizzas\n",
    "friend_pizzas = pizzas[:]\n",
    "# Add new pizza to the original list\n",
    "pizzas.append('margherita')\n",
    "# Add new pizza to the list friend_pizzas\n",
    "friend_pizzas.append('BBQ chicken')\n",
    "\n",
    "print(\"My favorite pizzas are: \")\n",
    "for pizza in pizzas:\n",
    "    print(pizza.title())\n",
    "    \n",
    "print(\"\\nMy friend's favorite pizzas are: \")\n",
    "for pizza in friend_pizzas:\n",
    "    print(pizza.title())"
   ]
  }
 ],
 "metadata": {
  "interpreter": {
   "hash": "80b5c448b6c54f42cbde9efcf794ae5aae1a20013a4d14c4ccd320984fa5c15d"
  },
  "kernelspec": {
   "display_name": "Python 3.9.7 64-bit ('base': conda)",
   "language": "python",
   "name": "python3"
  },
  "language_info": {
   "codemirror_mode": {
    "name": "ipython",
    "version": 3
   },
   "file_extension": ".py",
   "mimetype": "text/x-python",
   "name": "python",
   "nbconvert_exporter": "python",
   "pygments_lexer": "ipython3",
   "version": "3.9.7"
  },
  "orig_nbformat": 4
 },
 "nbformat": 4,
 "nbformat_minor": 2
}
