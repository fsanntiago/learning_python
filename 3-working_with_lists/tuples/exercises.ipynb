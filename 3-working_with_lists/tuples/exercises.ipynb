{
 "cells": [
  {
   "cell_type": "markdown",
   "metadata": {},
   "source": [
    "# Exercises"
   ]
  },
  {
   "cell_type": "markdown",
   "metadata": {},
   "source": [
    "**4-13. Buffet:** A buffet-style restaurant offers only five basic foods. Think of five\n",
    "simple foods, and store them in a tuple.\n",
    "\n",
    "•\t Use a for loop to print each food the restaurant offers.\n",
    "\n",
    "•\t Try to modify one of the items, and make sure that Python rejects the\n",
    "change.\n",
    "\n",
    "•\t The restaurant changes its menu, replacing two of the items with different\n",
    "foods. Add a line that rewrites the tuple, and then use a for loop to print\n",
    "each of the items on the revised menu."
   ]
  },
  {
   "cell_type": "code",
   "execution_count": 4,
   "metadata": {},
   "outputs": [
    {
     "name": "stdout",
     "output_type": "stream",
     "text": [
      "You can choose from the following menu items:\n",
      "- egg omellete\n",
      "- french fries\n",
      "- salad\n",
      "- fried chiken\n",
      "- spaghetti\n",
      "\n",
      "Your menu has been updated.\n",
      "You can choose from the following menu items:\n",
      "- egg omellete\n",
      "- french fries\n",
      "- nuggets\n",
      "- fried chiken\n",
      "- rockfish sandwich\n"
     ]
    }
   ],
   "source": [
    "menu_foods = (\n",
    "    'egg omellete', 'french fries', 'salad', 'friedchiken',\n",
    "    'spaghetti',\n",
    ")\n",
    "\n",
    "print(\"You can choose from the following menu items:\")\n",
    "for food in menu_foods:\n",
    "    print(f\"- {food}\")\n",
    "\n",
    "menu_foods = (\n",
    "    'egg omellete', 'french fries', 'nuggets', 'fried chiken',\n",
    "    'rockfish sandwich',\n",
    ")\n",
    "print(\"\\nYour menu has been updated.\")\n",
    "print(\"You can choose from the following menu items:\")\n",
    "for food in menu_foods:\n",
    "    print(f\"- {food}\")\n"
   ]
  }
 ],
 "metadata": {
  "interpreter": {
   "hash": "80b5c448b6c54f42cbde9efcf794ae5aae1a20013a4d14c4ccd320984fa5c15d"
  },
  "kernelspec": {
   "display_name": "Python 3.9.7 64-bit ('base': conda)",
   "language": "python",
   "name": "python3"
  },
  "language_info": {
   "codemirror_mode": {
    "name": "ipython",
    "version": 3
   },
   "file_extension": ".py",
   "mimetype": "text/x-python",
   "name": "python",
   "nbconvert_exporter": "python",
   "pygments_lexer": "ipython3",
   "version": "3.9.7"
  },
  "orig_nbformat": 4
 },
 "nbformat": 4,
 "nbformat_minor": 2
}
