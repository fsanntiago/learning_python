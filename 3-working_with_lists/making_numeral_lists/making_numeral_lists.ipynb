{
 "cells": [
  {
   "cell_type": "markdown",
   "metadata": {},
   "source": [
    "# **Making Numeral Lists**\n"
   ]
  },
  {
   "cell_type": "markdown",
   "metadata": {},
   "source": [
    "Many reasons exist to store a set of numbers. For example, you’ll need to\n",
    "keep track of the positions of each character in a game, and you might want\n",
    "to keep track of a player’s high scores as well. In data visualizations, you’ll\n",
    "almost always work with sets of numbers, such as temperatures, distances,\n",
    "population sizes, or latitude and longitude values, among other types of\n",
    "numerical sets.\n",
    "\n",
    "Lists are ideal for storing sets of numbers, and Python provides a\n",
    "variety of tools to help you work efficiently with lists of numbers"
   ]
  },
  {
   "cell_type": "markdown",
   "metadata": {},
   "source": [
    "### **Using the range() Fuction**"
   ]
  },
  {
   "cell_type": "markdown",
   "metadata": {},
   "source": [
    "Python’s range() function makes it easy to generate a series of numbers.\n",
    "\n",
    "For example, you can use the range() function to print a series of numbers\n",
    "like this:"
   ]
  },
  {
   "cell_type": "code",
   "execution_count": 6,
   "metadata": {},
   "outputs": [
    {
     "name": "stdout",
     "output_type": "stream",
     "text": [
      "1\n",
      "2\n",
      "3\n",
      "4\n"
     ]
    }
   ],
   "source": [
    "for value in range(1,5):\n",
    "    print(value)"
   ]
  },
  {
   "cell_type": "markdown",
   "metadata": {},
   "source": [
    "Although this code looks like it should print the numbers from 1 to 5, it\n",
    "doesn’t print the number 5"
   ]
  },
  {
   "cell_type": "markdown",
   "metadata": {},
   "source": [
    "The range() function causes Python to start counting at the first\n",
    "value you give it, and it stops when it reaches the second value you provide.\n",
    "Because it stops at that second value, the output never contains the end\n",
    "value, which would have been 5 in this case."
   ]
  },
  {
   "cell_type": "markdown",
   "metadata": {},
   "source": [
    "You can also pass range() only one argument, and it will start the\n",
    "sequence of numbers at 0. For example, range(6) would return the numbers\n",
    "from 0 through 5."
   ]
  },
  {
   "cell_type": "code",
   "execution_count": 7,
   "metadata": {},
   "outputs": [
    {
     "name": "stdout",
     "output_type": "stream",
     "text": [
      "0\n",
      "1\n",
      "2\n",
      "3\n",
      "4\n",
      "5\n"
     ]
    }
   ],
   "source": [
    "for value in range(6):\n",
    "    print(value)"
   ]
  },
  {
   "cell_type": "markdown",
   "metadata": {},
   "source": [
    "### **Using range() to Make a List of Numbers**"
   ]
  },
  {
   "cell_type": "markdown",
   "metadata": {},
   "source": [
    "If you want to make a list of numbers, you can convert the results of range() directly into a list using list() fuction. When you wrap list() around a call to the range() fuction, the output will be a list of numbers"
   ]
  },
  {
   "cell_type": "markdown",
   "metadata": {},
   "source": [
    "In the example in the previous section, we simply printed out a series of\n",
    "numbers. We can use list() to convert that same set of numbers into a list:"
   ]
  },
  {
   "cell_type": "code",
   "execution_count": 8,
   "metadata": {},
   "outputs": [
    {
     "name": "stdout",
     "output_type": "stream",
     "text": [
      "[1, 2, 3, 4, 5]\n"
     ]
    }
   ],
   "source": [
    "numbers = list(range(1,6))\n",
    "print(numbers)"
   ]
  },
  {
   "cell_type": "markdown",
   "metadata": {},
   "source": [
    "We can also use the range() function to tell Python to skip numbers in a\n",
    "given range. If you pass a third argument to range(), Python uses that value\n",
    "as a step size when generating numbers.\n",
    "\n",
    "For example, here’s how to list the even numbers between 1 and 10:"
   ]
  },
  {
   "cell_type": "code",
   "execution_count": 9,
   "metadata": {},
   "outputs": [
    {
     "name": "stdout",
     "output_type": "stream",
     "text": [
      "[2, 4, 6, 8, 10]\n"
     ]
    }
   ],
   "source": [
    "numbers = list(range(2, 11, 2))\n",
    "print(numbers)"
   ]
  },
  {
   "cell_type": "markdown",
   "metadata": {},
   "source": [
    "You can create almost any set of numbers you want to using the range()\n",
    "function. For example, consider how you might make a list of the first 10\n",
    "square numbers (that is, the square of each integer from 1 through 10). In\n",
    "Python, two asterisks (**) represent exponents. Here’s how you might put\n",
    "the first 10 square numbers into a list:"
   ]
  },
  {
   "cell_type": "code",
   "execution_count": 22,
   "metadata": {},
   "outputs": [
    {
     "name": "stdout",
     "output_type": "stream",
     "text": [
      "[1, 4, 9, 16, 25, 36, 49, 64, 81, 100]\n"
     ]
    }
   ],
   "source": [
    "squares = []\n",
    "for value in range(1, 11):\n",
    "    square = value ** 2\n",
    "    squares.append(square)\n",
    "print(squares)"
   ]
  },
  {
   "cell_type": "markdown",
   "metadata": {},
   "source": [
    "To write this code more concisely, omit the temporary varibe square and append each new value directly to the list:"
   ]
  },
  {
   "cell_type": "code",
   "execution_count": 1,
   "metadata": {},
   "outputs": [
    {
     "name": "stdout",
     "output_type": "stream",
     "text": [
      "[1, 4, 9, 16, 25, 36, 49, 64, 81, 100]\n"
     ]
    }
   ],
   "source": [
    "squares = []\n",
    "for value in range(1, 11):\n",
    "    squares.append(value ** 2)\n",
    "print(squares)"
   ]
  },
  {
   "cell_type": "markdown",
   "metadata": {},
   "source": [
    "### **Simple Statistics with a List of Numbers**"
   ]
  },
  {
   "cell_type": "markdown",
   "metadata": {},
   "source": [
    "You can easily find the minimum, mazimum, and sum of a list of numbers:"
   ]
  },
  {
   "cell_type": "code",
   "execution_count": 2,
   "metadata": {},
   "outputs": [
    {
     "name": "stdout",
     "output_type": "stream",
     "text": [
      "[1, 2, 3, 4, 5, 6, 7, 8, 9, 0]\n",
      "Minimum: 0\n",
      "Maximum: 9\n",
      "Sum: 45\n"
     ]
    }
   ],
   "source": [
    "digits = [1, 2, 3, 4, 5, 6, 7, 8,9, 0]\n",
    "print(digits)\n",
    "print(f\"Minimum: {min(digits)}\")\n",
    "print(f\"Maximum: {max(digits)}\")\n",
    "print(f\"Sum: {sum(digits)}\")\n"
   ]
  },
  {
   "cell_type": "markdown",
   "metadata": {},
   "source": [
    "## **List Comprehesions**"
   ]
  },
  {
   "cell_type": "markdown",
   "metadata": {},
   "source": [
    "The approach described earlier for generating the list squares consisted of\n",
    "using three or four lines of code. A list comprehension allows you to generate\n",
    "this same list in just one line of code. A list comprehension combines the\n",
    "for loop and the creation of new elements into one line, and automatically\n",
    "appends each new element."
   ]
  },
  {
   "cell_type": "code",
   "execution_count": 5,
   "metadata": {},
   "outputs": [
    {
     "name": "stdout",
     "output_type": "stream",
     "text": [
      "[1, 4, 9, 16, 25, 36, 49, 64, 81, 100]\n"
     ]
    }
   ],
   "source": [
    "square = [value**2 for value in range(1, 11)]\n",
    "print(square)"
   ]
  },
  {
   "cell_type": "markdown",
   "metadata": {},
   "source": [
    "To use this syntax, begin with a descriptive name for the list, such as\n",
    "squares. Next, open a set of square brackets and define the expression for\n",
    "the values you want to store in the new list. In this example the expression is value^2, which raises the value to the second power. Then, write\n",
    "a for loop to generate the numbers you want to feed into the expression,\n",
    "and close the square brackets. The for loop in this example is for value\n",
    "in range(1, 11), which feeds the values 1 through 10 into the expression\n",
    "value^2. Notice that no colon is used at the end of the for statement."
   ]
  }
 ],
 "metadata": {
  "interpreter": {
   "hash": "80b5c448b6c54f42cbde9efcf794ae5aae1a20013a4d14c4ccd320984fa5c15d"
  },
  "kernelspec": {
   "display_name": "Python 3.9.7 64-bit ('base': conda)",
   "language": "python",
   "name": "python3"
  },
  "language_info": {
   "codemirror_mode": {
    "name": "ipython",
    "version": 3
   },
   "file_extension": ".py",
   "mimetype": "text/x-python",
   "name": "python",
   "nbconvert_exporter": "python",
   "pygments_lexer": "ipython3",
   "version": "3.9.7"
  },
  "orig_nbformat": 4
 },
 "nbformat": 4,
 "nbformat_minor": 2
}
