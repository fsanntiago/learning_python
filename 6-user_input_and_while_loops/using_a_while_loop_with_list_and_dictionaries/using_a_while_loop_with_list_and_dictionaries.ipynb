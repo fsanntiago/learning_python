{
 "cells": [
  {
   "cell_type": "markdown",
   "metadata": {},
   "source": [
    "# **Using a while Loop with Lists and Dictionaries**"
   ]
  },
  {
   "cell_type": "markdown",
   "metadata": {},
   "source": [
    "To keep track of many users and pieces of information, we’ll need to use lists and dictionaries with our while loops.\n",
    "A for loop is effective for looping through a list, but you shouldn’t modify\n",
    "a list inside a for loop because Python will have trouble keeping track of the\n",
    "items in the list. To modify a list as you work through it, use a while loop.\n",
    "Using while loops with lists and dictionaries allows you to collect, store, and\n",
    "organize lots of input to examine and report on later. "
   ]
  },
  {
   "cell_type": "markdown",
   "metadata": {},
   "source": [
    "### **Moving Items from One List to Another**"
   ]
  },
  {
   "cell_type": "markdown",
   "metadata": {},
   "source": [
    "Consider a list of newly registered but unverified users of a website. After\n",
    "we verify these users, how can we move them to a separate list of confirmed\n",
    "users? One way would be to use a while loop to pull users from the list of\n",
    "unconfirmed users as we verify them and then add them "
   ]
  },
  {
   "cell_type": "code",
   "execution_count": 8,
   "metadata": {},
   "outputs": [
    {
     "name": "stdout",
     "output_type": "stream",
     "text": [
      "Verifying user: Candace\n",
      "Verifying user: Brian\n",
      "Verifying user: Alice\n",
      "\n",
      "The following users have been confirmed:\n",
      "candace\n",
      "brian\n",
      "alice\n"
     ]
    }
   ],
   "source": [
    "# Start with users that need to be verified, and an empty list to hold \n",
    "# confimed users\n",
    "unconfirmed_users = ['alice', 'brian', 'candace']\n",
    "confirmed_users = []\n",
    "\n",
    "# Verify each user until there are no more unconfirmed users.\n",
    "# Move each verified user into the list of confirmed users\n",
    "while unconfirmed_users:\n",
    "    current_user = unconfirmed_users.pop()\n",
    "    \n",
    "    print(f\"Verifying user: {current_user.title()}\")\n",
    "    confirmed_users.append(current_user)\n",
    "\n",
    "# Display all confirmed users\n",
    "print(\"\\nThe following users have been confirmed:\")\n",
    "for confirmed_user in confirmed_users:\n",
    "    print(confirmed_user)"
   ]
  },
  {
   "cell_type": "markdown",
   "metadata": {},
   "source": [
    "### **Removing All Instances of Specific Values from a List**"
   ]
  },
  {
   "cell_type": "markdown",
   "metadata": {},
   "source": [
    "In Chapter 3 we used remove() to remove a specific value from a list. The\n",
    "remove() function worked because the value we were interested in appeared\n",
    "only once in the list. But what if you want to remove all instances of a value\n",
    "from a list?\n",
    "Say you have a list of pets with the value 'cat' repeated several times. To\n",
    "remove all instances of that value, you can run a while loop until 'cat' is no\n",
    "longer in the list, as shown here:"
   ]
  },
  {
   "cell_type": "code",
   "execution_count": 10,
   "metadata": {},
   "outputs": [
    {
     "name": "stdout",
     "output_type": "stream",
     "text": [
      "['dog', 'cat', 'dog', 'goldfish', 'cat', 'rabbit', 'cat']\n",
      "['dog', 'dog', 'goldfish', 'rabbit']\n"
     ]
    }
   ],
   "source": [
    "pets = ['dog', 'cat', 'dog', 'goldfish', 'cat', 'rabbit', 'cat']\n",
    "print(pets)\n",
    "\n",
    "while 'cat' in pets:\n",
    "    pets.remove('cat')\n",
    "    \n",
    "print(pets)"
   ]
  },
  {
   "cell_type": "markdown",
   "metadata": {},
   "source": [
    "We start with a list containing multiple instances of 'cat'. After printing\n",
    "the list, Python enters the while loop because it finds the value 'cat' in the list\n",
    "at least once. Once inside the loop, Python removes the first instance of 'cat',\n",
    "returns to the while line, and then reenters the loop when it finds that 'cat' is\n",
    "still in the list. It removes each instance of 'cat' until the value is no longer in\n",
    "the list, at which point Python exits the loop and prints the list again"
   ]
  },
  {
   "cell_type": "markdown",
   "metadata": {},
   "source": [
    "### **Filling a Dictionary with User Input**"
   ]
  },
  {
   "cell_type": "markdown",
   "metadata": {},
   "source": [
    "You can prompt for as much input as you need in each pass through a while\n",
    "loop. Let’s make a polling program in which each pass through the loop\n",
    "prompts for the participant’s name and response. We’ll store the data we\n",
    "gather in a dictionary, because we want to connect each response with a\n",
    "particular user:"
   ]
  },
  {
   "cell_type": "code",
   "execution_count": 3,
   "metadata": {},
   "outputs": [
    {
     "name": "stdout",
     "output_type": "stream",
     "text": [
      "\n",
      "--- Poll Results ---\n",
      "Testename would like to climb test\n",
      "Testename would like to climb test\n"
     ]
    }
   ],
   "source": [
    "responses = {}\n",
    "\n",
    "# Set a flag to indicate that polling is active\n",
    "polling_active = True\n",
    "\n",
    "while polling_active:\n",
    "    # Prompt for the person's name and response\n",
    "    name = input(\"What is your name? \")\n",
    "    response = input(\"Which mountain would you like to climb someday? \")\n",
    "\n",
    "    # Store the response in the dictionary\n",
    "    responses[name] = response\n",
    "\n",
    "    # Find out if anyone else is going to take the poll\n",
    "    repeat = input(\"Would you like to let another person respond? (yes/no)\")\n",
    "    if repeat == 'no':\n",
    "        polling_active = False\n",
    "    \n",
    "# Polling is complete. Show the results\n",
    "print(\"\\n--- Poll Results ---\")\n",
    "for name, reponse in responses.items():\n",
    "    print(f\"{name.title()} would like to climb {response}\")\n"
   ]
  }
 ],
 "metadata": {
  "interpreter": {
   "hash": "80b5c448b6c54f42cbde9efcf794ae5aae1a20013a4d14c4ccd320984fa5c15d"
  },
  "kernelspec": {
   "display_name": "Python 3.9.7 ('base')",
   "language": "python",
   "name": "python3"
  },
  "language_info": {
   "codemirror_mode": {
    "name": "ipython",
    "version": 3
   },
   "file_extension": ".py",
   "mimetype": "text/x-python",
   "name": "python",
   "nbconvert_exporter": "python",
   "pygments_lexer": "ipython3",
   "version": "3.9.7"
  },
  "orig_nbformat": 4
 },
 "nbformat": 4,
 "nbformat_minor": 2
}
